{
 "cells": [
  {
   "cell_type": "markdown",
   "metadata": {
    "deletable": true,
    "editable": true
   },
   "source": [
    "# Abstract"
   ]
  },
  {
   "cell_type": "markdown",
   "metadata": {
    "collapsed": true,
    "deletable": true,
    "editable": true
   },
   "source": [
    "# Setup debugging log\n",
    "import logging\n",
    "logger = logging.getLogger('jwst.associations')\n",
    "handler = logging.StreamHandler()\n",
    "logger.addHandler(handler)\n",
    "handler.setLevel(logging.DEBUG)\n",
    "logger.setLevel(logging.DEBUG)"
   ]
  },
  {
   "cell_type": "markdown",
   "metadata": {
    "deletable": true,
    "editable": true
   },
   "source": [
    "# Environment"
   ]
  },
  {
   "cell_type": "code",
   "execution_count": 1,
   "metadata": {
    "collapsed": true
   },
   "outputs": [],
   "source": [
    "import numpy as np"
   ]
  },
  {
   "cell_type": "code",
   "execution_count": 2,
   "metadata": {
    "collapsed": true,
    "deletable": true,
    "editable": true
   },
   "outputs": [],
   "source": [
    "from jwst.associations.tests.helpers import (\n",
    "    combine_pools,\n",
    "    registry_level3_only,\n",
    "    registry_level2_only\n",
    ")\n",
    "from jwst.associations import generate"
   ]
  },
  {
   "cell_type": "markdown",
   "metadata": {
    "deletable": true,
    "editable": true
   },
   "source": [
    "# Library"
   ]
  },
  {
   "cell_type": "markdown",
   "metadata": {
    "deletable": true,
    "editable": true
   },
   "source": [
    "# Main"
   ]
  },
  {
   "cell_type": "code",
   "execution_count": 3,
   "metadata": {
    "collapsed": false,
    "deletable": true,
    "editable": true
   },
   "outputs": [],
   "source": [
    "rules = registry_level2_only()"
   ]
  },
  {
   "cell_type": "markdown",
   "metadata": {},
   "source": [
    "### Get all the spectral EXP_TYPEs"
   ]
  },
  {
   "cell_type": "code",
   "execution_count": 4,
   "metadata": {
    "collapsed": false
   },
   "outputs": [],
   "source": [
    "asn_lv2spec = rules['Asn_Lv2Spec']()"
   ]
  },
  {
   "cell_type": "code",
   "execution_count": 5,
   "metadata": {
    "collapsed": false
   },
   "outputs": [],
   "source": [
    "spec_exptypes = asn_lv2spec.constraints['exp_type']['value'].split('|')"
   ]
  },
  {
   "cell_type": "code",
   "execution_count": 6,
   "metadata": {
    "collapsed": false
   },
   "outputs": [
    {
     "data": {
      "text/plain": [
       "['NRC_GRISM',\n",
       " 'NRC_TSGRISM',\n",
       " 'MIR_LRS-FIXEDSLIT',\n",
       " 'MIR_LRS-SLITLESS',\n",
       " 'MIR_MRS',\n",
       " 'NRS_FIXEDSLIT',\n",
       " 'NRS_IFU',\n",
       " 'NRS_MSASPEC',\n",
       " 'NRS_BRIGHTOBJ',\n",
       " 'NIS_WFSS',\n",
       " 'NIS_SOSS']"
      ]
     },
     "execution_count": 6,
     "metadata": {},
     "output_type": "execute_result"
    }
   ],
   "source": [
    "spec_exptypes"
   ]
  },
  {
   "cell_type": "markdown",
   "metadata": {
    "deletable": true,
    "editable": true
   },
   "source": [
    "## MIRI spectra without backgrounds\n",
    "Formal test: test_level2_basics"
   ]
  },
  {
   "cell_type": "code",
   "execution_count": 7,
   "metadata": {
    "collapsed": false,
    "deletable": true,
    "editable": true
   },
   "outputs": [
    {
     "name": "stderr",
     "output_type": "stream",
     "text": [
      "/Users/eisenham/anaconda3/envs/jwstdevpy3/lib/python3.5/site-packages/astropy/table/table.py:1281: StringTruncateWarning: truncated right side string(s) longer than 14 character(s) during assignment\n",
      "  col[item] = val\n"
     ]
    }
   ],
   "source": [
    "pool = combine_pools('data/pool_007_spec_miri.csv')"
   ]
  },
  {
   "cell_type": "code",
   "execution_count": 8,
   "metadata": {
    "collapsed": false,
    "deletable": true,
    "editable": true,
    "scrolled": true
   },
   "outputs": [],
   "source": [
    "asns, orphaned = generate(pool, rules)"
   ]
  },
  {
   "cell_type": "code",
   "execution_count": 9,
   "metadata": {
    "collapsed": false,
    "deletable": true,
    "editable": true
   },
   "outputs": [],
   "source": [
    "assert len(asns) == 11"
   ]
  },
  {
   "cell_type": "code",
   "execution_count": 10,
   "metadata": {
    "collapsed": false,
    "scrolled": true
   },
   "outputs": [
    {
     "data": {
      "text/plain": [
       "[{\n",
       "     \"target\": \"1\",\n",
       "     \"version_id\": null,\n",
       "     \"members\": [\n",
       "         {\n",
       "             \"expname\": \"jw_00001_rate.fits\",\n",
       "             \"exptype\": \"SCIENCE\"\n",
       "         }\n",
       "     ],\n",
       "     \"code_version\": \"0.7.1.beta2\",\n",
       "     \"asn_type\": \"spec2\",\n",
       "     \"asn_rule\": \"Asn_Lv2Spec\",\n",
       "     \"asn_id\": \"a3001\",\n",
       "     \"constraints\": \"Constraints:\\n    opt_elem: P750L\\n    exp_type: MIR_LRS\\\\-FIXEDSLIT\\n    channel: None\\n    detector: MIRIMAGE\\n    opt_elem2: None\\n    instrument: MIRI\\n    single_science: False\\n    program: 99009\\n    subarray: FULL\",\n",
       "     \"asn_pool\": \"pool_007_spec_miri\",\n",
       "     \"program\": \"99009\"\n",
       " }, {\n",
       "     \"target\": \"1\",\n",
       "     \"version_id\": null,\n",
       "     \"members\": [\n",
       "         {\n",
       "             \"expname\": \"jw_00002_rate.fits\",\n",
       "             \"exptype\": \"SCIENCE\"\n",
       "         }\n",
       "     ],\n",
       "     \"code_version\": \"0.7.1.beta2\",\n",
       "     \"asn_type\": \"spec2\",\n",
       "     \"asn_rule\": \"Asn_Lv2Spec\",\n",
       "     \"asn_id\": \"a3001\",\n",
       "     \"constraints\": \"Constraints:\\n    opt_elem: P750L\\n    exp_type: MIR_LRS\\\\-FIXEDSLIT\\n    channel: None\\n    detector: MIRIMAGE\\n    opt_elem2: None\\n    instrument: MIRI\\n    single_science: False\\n    program: 99009\\n    subarray: FULL\",\n",
       "     \"asn_pool\": \"pool_007_spec_miri\",\n",
       "     \"program\": \"99009\"\n",
       " }, {\n",
       "     \"target\": \"1\",\n",
       "     \"version_id\": null,\n",
       "     \"members\": [\n",
       "         {\n",
       "             \"expname\": \"jw99009015001_02101_00002_mirimage_rate.fits\",\n",
       "             \"exptype\": \"SCIENCE\"\n",
       "         }\n",
       "     ],\n",
       "     \"code_version\": \"0.7.1.beta2\",\n",
       "     \"asn_type\": \"spec2\",\n",
       "     \"asn_rule\": \"Asn_Lv2Spec\",\n",
       "     \"asn_id\": \"a3001\",\n",
       "     \"constraints\": \"Constraints:\\n    opt_elem: P750L\\n    exp_type: MIR_LRS\\\\-SLITLESS\\n    channel: None\\n    detector: MIRIMAGE\\n    opt_elem2: None\\n    instrument: MIRI\\n    single_science: False\\n    program: 99009\\n    subarray: SUBPRISM\",\n",
       "     \"asn_pool\": \"pool_007_spec_miri\",\n",
       "     \"program\": \"99009\"\n",
       " }, {\n",
       "     \"target\": \"1\",\n",
       "     \"version_id\": null,\n",
       "     \"members\": [\n",
       "         {\n",
       "             \"expname\": \"jw99009015001_02101_00003_mirimage_rate.fits\",\n",
       "             \"exptype\": \"SCIENCE\"\n",
       "         }\n",
       "     ],\n",
       "     \"code_version\": \"0.7.1.beta2\",\n",
       "     \"asn_type\": \"spec2\",\n",
       "     \"asn_rule\": \"Asn_Lv2Spec\",\n",
       "     \"asn_id\": \"a3001\",\n",
       "     \"constraints\": \"Constraints:\\n    opt_elem: P750L\\n    exp_type: MIR_LRS\\\\-SLITLESS\\n    channel: None\\n    detector: MIRIMAGE\\n    opt_elem2: None\\n    instrument: MIRI\\n    single_science: False\\n    program: 99009\\n    subarray: SUBPRISM\",\n",
       "     \"asn_pool\": \"pool_007_spec_miri\",\n",
       "     \"program\": \"99009\"\n",
       " }, {\n",
       "     \"target\": \"1\",\n",
       "     \"version_id\": null,\n",
       "     \"members\": [\n",
       "         {\n",
       "             \"expname\": \"jw99009012001_02101_00002_mirimage_rate.fits\",\n",
       "             \"exptype\": \"SCIENCE\"\n",
       "         }\n",
       "     ],\n",
       "     \"code_version\": \"0.7.1.beta2\",\n",
       "     \"asn_type\": \"spec2\",\n",
       "     \"asn_rule\": \"Asn_Lv2Spec\",\n",
       "     \"asn_id\": \"a3001\",\n",
       "     \"constraints\": \"Constraints:\\n    opt_elem: P750L\\n    exp_type: MIR_LRS\\\\-SLITLESS\\n    channel: None\\n    detector: MIRIMAGE\\n    opt_elem2: None\\n    instrument: MIRI\\n    single_science: False\\n    program: 99009\\n    subarray: SUBPRISM\",\n",
       "     \"asn_pool\": \"pool_007_spec_miri\",\n",
       "     \"program\": \"99009\"\n",
       " }, {\n",
       "     \"target\": \"1\",\n",
       "     \"version_id\": null,\n",
       "     \"members\": [\n",
       "         {\n",
       "             \"expname\": \"jw99009016001_02101_00001_mirifushort_rate.fits\",\n",
       "             \"exptype\": \"SCIENCE\"\n",
       "         }\n",
       "     ],\n",
       "     \"code_version\": \"0.7.1.beta2\",\n",
       "     \"asn_type\": \"spec2\",\n",
       "     \"asn_rule\": \"Asn_Lv2Spec\",\n",
       "     \"asn_id\": \"a3001\",\n",
       "     \"constraints\": \"Constraints:\\n    opt_elem: SHORT\\n    exp_type: MIR_MRS\\n    channel: 12\\n    detector: MIRIFUSHORT\\n    opt_elem2: None\\n    instrument: MIRI\\n    single_science: False\\n    program: 99009\\n    subarray: FULL\",\n",
       "     \"asn_pool\": \"pool_007_spec_miri\",\n",
       "     \"program\": \"99009\"\n",
       " }, {\n",
       "     \"target\": \"1\",\n",
       "     \"version_id\": null,\n",
       "     \"members\": [\n",
       "         {\n",
       "             \"expname\": \"jw99009018001_02101_00002_mirifushort_rate.fits\",\n",
       "             \"exptype\": \"SCIENCE\"\n",
       "         }\n",
       "     ],\n",
       "     \"code_version\": \"0.7.1.beta2\",\n",
       "     \"asn_type\": \"spec2\",\n",
       "     \"asn_rule\": \"Asn_Lv2Spec\",\n",
       "     \"asn_id\": \"a3001\",\n",
       "     \"constraints\": \"Constraints:\\n    opt_elem: MEDIUM\\n    exp_type: MIR_MRS\\n    channel: 12\\n    detector: MIRIFUSHORT\\n    opt_elem2: None\\n    instrument: MIRI\\n    single_science: False\\n    program: 99009\\n    subarray: FULL\",\n",
       "     \"asn_pool\": \"pool_007_spec_miri\",\n",
       "     \"program\": \"99009\"\n",
       " }, {\n",
       "     \"target\": \"1\",\n",
       "     \"version_id\": null,\n",
       "     \"members\": [\n",
       "         {\n",
       "             \"expname\": \"jw99009018001_02101_00001_mirifushort_rate.fits\",\n",
       "             \"exptype\": \"SCIENCE\"\n",
       "         }\n",
       "     ],\n",
       "     \"code_version\": \"0.7.1.beta2\",\n",
       "     \"asn_type\": \"spec2\",\n",
       "     \"asn_rule\": \"Asn_Lv2Spec\",\n",
       "     \"asn_id\": \"a3001\",\n",
       "     \"constraints\": \"Constraints:\\n    opt_elem: SHORT\\n    exp_type: MIR_MRS\\n    channel: 12\\n    detector: MIRIFUSHORT\\n    opt_elem2: None\\n    instrument: MIRI\\n    single_science: False\\n    program: 99009\\n    subarray: FULL\",\n",
       "     \"asn_pool\": \"pool_007_spec_miri\",\n",
       "     \"program\": \"99009\"\n",
       " }, {\n",
       "     \"target\": \"1\",\n",
       "     \"version_id\": null,\n",
       "     \"members\": [\n",
       "         {\n",
       "             \"expname\": \"jw99009020001_02101_00001_mirifushort_rate.fits\",\n",
       "             \"exptype\": \"SCIENCE\"\n",
       "         }\n",
       "     ],\n",
       "     \"code_version\": \"0.7.1.beta2\",\n",
       "     \"asn_type\": \"spec2\",\n",
       "     \"asn_rule\": \"Asn_Lv2Spec\",\n",
       "     \"asn_id\": \"a3001\",\n",
       "     \"constraints\": \"Constraints:\\n    opt_elem: LONG\\n    exp_type: MIR_MRS\\n    channel: 12\\n    detector: MIRIFUSHORT\\n    opt_elem2: None\\n    instrument: MIRI\\n    single_science: False\\n    program: 99009\\n    subarray: FULL\",\n",
       "     \"asn_pool\": \"pool_007_spec_miri\",\n",
       "     \"program\": \"99009\"\n",
       " }, {\n",
       "     \"target\": \"1\",\n",
       "     \"version_id\": null,\n",
       "     \"members\": [\n",
       "         {\n",
       "             \"expname\": \"jw99009021001_02101_00001_mirifushort_rate.fits\",\n",
       "             \"exptype\": \"SCIENCE\"\n",
       "         }\n",
       "     ],\n",
       "     \"code_version\": \"0.7.1.beta2\",\n",
       "     \"asn_type\": \"spec2\",\n",
       "     \"asn_rule\": \"Asn_Lv2Spec\",\n",
       "     \"asn_id\": \"a3001\",\n",
       "     \"constraints\": \"Constraints:\\n    opt_elem: MEDIUM\\n    exp_type: MIR_MRS\\n    channel: 12\\n    detector: MIRIFUSHORT\\n    opt_elem2: None\\n    instrument: MIRI\\n    single_science: False\\n    program: 99009\\n    subarray: FULL\",\n",
       "     \"asn_pool\": \"pool_007_spec_miri\",\n",
       "     \"program\": \"99009\"\n",
       " }, {\n",
       "     \"target\": \"1\",\n",
       "     \"version_id\": null,\n",
       "     \"members\": [\n",
       "         {\n",
       "             \"expname\": \"jw99009050001_02102_00001_mirifushort_rate.fits\",\n",
       "             \"exptype\": \"SCIENCE\"\n",
       "         }\n",
       "     ],\n",
       "     \"code_version\": \"0.7.1.beta2\",\n",
       "     \"asn_type\": \"spec2\",\n",
       "     \"asn_rule\": \"Asn_Lv2Spec\",\n",
       "     \"asn_id\": \"a3001\",\n",
       "     \"constraints\": \"Constraints:\\n    opt_elem: SHORT\\n    exp_type: MIR_MRS\\n    channel: 12\\n    detector: MIRIFUSHORT\\n    opt_elem2: None\\n    instrument: MIRI\\n    single_science: False\\n    program: 99009\\n    subarray: FULL\",\n",
       "     \"asn_pool\": \"pool_007_spec_miri\",\n",
       "     \"program\": \"99009\"\n",
       " }]"
      ]
     },
     "execution_count": 10,
     "metadata": {},
     "output_type": "execute_result"
    }
   ],
   "source": [
    "asns"
   ]
  },
  {
   "cell_type": "code",
   "execution_count": 11,
   "metadata": {
    "collapsed": false
   },
   "outputs": [],
   "source": [
    "is_spec = np.array([\n",
    "    row['EXP_TYPE'] in spec_exptypes\n",
    "    for row in pool\n",
    "])"
   ]
  },
  {
   "cell_type": "code",
   "execution_count": 12,
   "metadata": {
    "collapsed": false,
    "scrolled": true
   },
   "outputs": [
    {
     "data": {
      "text/html": [
       "&lt;Column name=&apos;EXP_TYPE&apos; dtype=&apos;str17&apos; length=11&gt;\n",
       "<table>\n",
       "<tr><td>MIR_LRS-FIXEDSLIT</td></tr>\n",
       "<tr><td>MIR_LRS-FIXEDSLIT</td></tr>\n",
       "<tr><td>MIR_LRS-SLITLESS</td></tr>\n",
       "<tr><td>MIR_LRS-SLITLESS</td></tr>\n",
       "<tr><td>MIR_LRS-SLITLESS</td></tr>\n",
       "<tr><td>MIR_MRS</td></tr>\n",
       "<tr><td>MIR_MRS</td></tr>\n",
       "<tr><td>MIR_MRS</td></tr>\n",
       "<tr><td>MIR_MRS</td></tr>\n",
       "<tr><td>MIR_MRS</td></tr>\n",
       "<tr><td>MIR_MRS</td></tr>\n",
       "</table>"
      ],
      "text/plain": [
       "<Column name='EXP_TYPE' dtype='str17' length=11>\n",
       "MIR_LRS-FIXEDSLIT\n",
       "MIR_LRS-FIXEDSLIT\n",
       " MIR_LRS-SLITLESS\n",
       " MIR_LRS-SLITLESS\n",
       " MIR_LRS-SLITLESS\n",
       "          MIR_MRS\n",
       "          MIR_MRS\n",
       "          MIR_MRS\n",
       "          MIR_MRS\n",
       "          MIR_MRS\n",
       "          MIR_MRS"
      ]
     },
     "execution_count": 12,
     "metadata": {},
     "output_type": "execute_result"
    }
   ],
   "source": [
    "pool[is_spec]['EXP_TYPE']"
   ]
  },
  {
   "cell_type": "markdown",
   "metadata": {
    "deletable": true,
    "editable": true
   },
   "source": [
    "## Try with a very simple pool\n",
    "Formal test: test_level2_background"
   ]
  },
  {
   "cell_type": "code",
   "execution_count": 13,
   "metadata": {
    "collapsed": false,
    "deletable": true,
    "editable": true
   },
   "outputs": [
    {
     "name": "stderr",
     "output_type": "stream",
     "text": [
      "/Users/eisenham/anaconda3/envs/jwstdevpy3/lib/python3.5/site-packages/astropy/table/table.py:1281: StringTruncateWarning: truncated right side string(s) longer than 14 character(s) during assignment\n",
      "  col[item] = val\n"
     ]
    }
   ],
   "source": [
    "pool = combine_pools('data/pool_011_spec_miri_lv2bkg_lrs.csv')"
   ]
  },
  {
   "cell_type": "code",
   "execution_count": 14,
   "metadata": {
    "collapsed": false,
    "deletable": true,
    "editable": true,
    "scrolled": true
   },
   "outputs": [],
   "source": [
    "asns, orphaned = generate(pool, rules)"
   ]
  },
  {
   "cell_type": "code",
   "execution_count": 15,
   "metadata": {
    "collapsed": false,
    "deletable": true,
    "editable": true
   },
   "outputs": [
    {
     "data": {
      "text/plain": [
       "3"
      ]
     },
     "execution_count": 15,
     "metadata": {},
     "output_type": "execute_result"
    }
   ],
   "source": [
    "len(asns)"
   ]
  },
  {
   "cell_type": "code",
   "execution_count": 16,
   "metadata": {
    "collapsed": false,
    "deletable": true,
    "editable": true,
    "scrolled": true
   },
   "outputs": [
    {
     "data": {
      "text/plain": [
       "[{\n",
       "     \"target\": \"1\",\n",
       "     \"version_id\": null,\n",
       "     \"members\": [\n",
       "         {\n",
       "             \"expname\": \"jw_00001_rate.fits\",\n",
       "             \"exptype\": \"SCIENCE\"\n",
       "         }\n",
       "     ],\n",
       "     \"code_version\": \"0.7.1.beta2\",\n",
       "     \"asn_type\": \"spec2\",\n",
       "     \"asn_rule\": \"Asn_Lv2Spec\",\n",
       "     \"asn_id\": \"a3001\",\n",
       "     \"constraints\": \"Constraints:\\n    opt_elem: P750L\\n    exp_type: MIR_LRS\\\\-FIXEDSLIT\\n    channel: None\\n    detector: MIRIMAGE\\n    opt_elem2: None\\n    instrument: MIRI\\n    single_science: False\\n    program: 99009\\n    subarray: FULL\",\n",
       "     \"asn_pool\": \"pool_011_spec_miri_lv2bkg_lrs\",\n",
       "     \"program\": \"99009\"\n",
       " }, {\n",
       "     \"target\": \"1\",\n",
       "     \"version_id\": null,\n",
       "     \"members\": [\n",
       "         {\n",
       "             \"expname\": \"jw_00002_rate.fits\",\n",
       "             \"exptype\": \"SCIENCE\"\n",
       "         }\n",
       "     ],\n",
       "     \"code_version\": \"0.7.1.beta2\",\n",
       "     \"asn_type\": \"spec2\",\n",
       "     \"asn_rule\": \"Asn_Lv2Spec\",\n",
       "     \"asn_id\": \"a3001\",\n",
       "     \"constraints\": \"Constraints:\\n    opt_elem: P750L\\n    exp_type: MIR_LRS\\\\-FIXEDSLIT\\n    channel: None\\n    detector: MIRIMAGE\\n    opt_elem2: None\\n    instrument: MIRI\\n    single_science: False\\n    program: 99009\\n    subarray: FULL\",\n",
       "     \"asn_pool\": \"pool_011_spec_miri_lv2bkg_lrs\",\n",
       "     \"program\": \"99009\"\n",
       " }, {\n",
       "     \"target\": \"1\",\n",
       "     \"version_id\": null,\n",
       "     \"members\": [\n",
       "         {\n",
       "             \"expname\": \"jw_00001_rate.fits\",\n",
       "             \"exptype\": \"SCIENCE\"\n",
       "         },\n",
       "         {\n",
       "             \"expname\": \"jw_00002_rate.fits\",\n",
       "             \"exptype\": \"BACKGROUND\"\n",
       "         }\n",
       "     ],\n",
       "     \"code_version\": \"0.7.1.beta2\",\n",
       "     \"asn_type\": \"spec2\",\n",
       "     \"asn_rule\": \"Asn_Lv2SpecBkg\",\n",
       "     \"asn_id\": \"a3001\",\n",
       "     \"constraints\": \"Constraints:\\n    opt_elem: P750L\\n    exp_type: MIR_LRS\\\\-FIXEDSLIT\\n    channel: None\\n    detector: MIRIMAGE\\n    opt_elem2: None\\n    background: \\\\(\\\\'r1000\\\\'\\\\,\\\\ \\\\'BACKGROUND\\\\'\\\\)\\n    instrument: MIRI\\n    single_science: False\\n    program: 99009\\n    subarray: FULL\",\n",
       "     \"asn_pool\": \"pool_011_spec_miri_lv2bkg_lrs\",\n",
       "     \"program\": \"99009\"\n",
       " }]"
      ]
     },
     "execution_count": 16,
     "metadata": {},
     "output_type": "execute_result"
    }
   ],
   "source": [
    "asns"
   ]
  },
  {
   "cell_type": "markdown",
   "metadata": {
    "collapsed": true,
    "deletable": true,
    "editable": true
   },
   "source": [
    "## Try with all MIRI data"
   ]
  },
  {
   "cell_type": "code",
   "execution_count": 17,
   "metadata": {
    "collapsed": false,
    "deletable": true,
    "editable": true
   },
   "outputs": [
    {
     "name": "stderr",
     "output_type": "stream",
     "text": [
      "/Users/eisenham/anaconda3/envs/jwstdevpy3/lib/python3.5/site-packages/astropy/table/table.py:1281: StringTruncateWarning: truncated right side string(s) longer than 14 character(s) during assignment\n",
      "  col[item] = val\n"
     ]
    }
   ],
   "source": [
    "pool = combine_pools('data/pool_009_spec_miri_lv2bkg.csv')"
   ]
  },
  {
   "cell_type": "code",
   "execution_count": 18,
   "metadata": {
    "collapsed": false,
    "deletable": true,
    "editable": true
   },
   "outputs": [],
   "source": [
    "asns, orphaned = generate(pool, rules)"
   ]
  },
  {
   "cell_type": "code",
   "execution_count": 19,
   "metadata": {
    "collapsed": false,
    "deletable": true,
    "editable": true
   },
   "outputs": [
    {
     "data": {
      "text/plain": [
       "16"
      ]
     },
     "execution_count": 19,
     "metadata": {},
     "output_type": "execute_result"
    }
   ],
   "source": [
    "len(asns)"
   ]
  },
  {
   "cell_type": "code",
   "execution_count": 20,
   "metadata": {
    "collapsed": false,
    "deletable": true,
    "editable": true,
    "scrolled": true
   },
   "outputs": [
    {
     "data": {
      "text/plain": [
       "[{\n",
       "     \"target\": \"1\",\n",
       "     \"version_id\": null,\n",
       "     \"members\": [\n",
       "         {\n",
       "             \"expname\": \"jw_00001_rate.fits\",\n",
       "             \"exptype\": \"SCIENCE\"\n",
       "         }\n",
       "     ],\n",
       "     \"code_version\": \"0.7.1.beta2\",\n",
       "     \"asn_type\": \"spec2\",\n",
       "     \"asn_rule\": \"Asn_Lv2Spec\",\n",
       "     \"asn_id\": \"a3001\",\n",
       "     \"constraints\": \"Constraints:\\n    opt_elem: P750L\\n    exp_type: MIR_LRS\\\\-FIXEDSLIT\\n    channel: None\\n    detector: MIRIMAGE\\n    opt_elem2: None\\n    instrument: MIRI\\n    single_science: False\\n    program: 99009\\n    subarray: FULL\",\n",
       "     \"asn_pool\": \"pool_009_spec_miri_lv2bkg\",\n",
       "     \"program\": \"99009\"\n",
       " }, {\n",
       "     \"target\": \"1\",\n",
       "     \"version_id\": null,\n",
       "     \"members\": [\n",
       "         {\n",
       "             \"expname\": \"jw_00002_rate.fits\",\n",
       "             \"exptype\": \"SCIENCE\"\n",
       "         }\n",
       "     ],\n",
       "     \"code_version\": \"0.7.1.beta2\",\n",
       "     \"asn_type\": \"spec2\",\n",
       "     \"asn_rule\": \"Asn_Lv2Spec\",\n",
       "     \"asn_id\": \"a3001\",\n",
       "     \"constraints\": \"Constraints:\\n    opt_elem: P750L\\n    exp_type: MIR_LRS\\\\-FIXEDSLIT\\n    channel: None\\n    detector: MIRIMAGE\\n    opt_elem2: None\\n    instrument: MIRI\\n    single_science: False\\n    program: 99009\\n    subarray: FULL\",\n",
       "     \"asn_pool\": \"pool_009_spec_miri_lv2bkg\",\n",
       "     \"program\": \"99009\"\n",
       " }, {\n",
       "     \"target\": \"1\",\n",
       "     \"version_id\": null,\n",
       "     \"members\": [\n",
       "         {\n",
       "             \"expname\": \"jw_00004_rate.fits\",\n",
       "             \"exptype\": \"SCIENCE\"\n",
       "         }\n",
       "     ],\n",
       "     \"code_version\": \"0.7.1.beta2\",\n",
       "     \"asn_type\": \"spec2\",\n",
       "     \"asn_rule\": \"Asn_Lv2Spec\",\n",
       "     \"asn_id\": \"a3001\",\n",
       "     \"constraints\": \"Constraints:\\n    opt_elem: SHORT\\n    exp_type: MIR_MRS\\n    channel: 12\\n    detector: MIRIFUSHORT\\n    opt_elem2: None\\n    instrument: MIRI\\n    single_science: False\\n    program: 99009\\n    subarray: FULL\",\n",
       "     \"asn_pool\": \"pool_009_spec_miri_lv2bkg\",\n",
       "     \"program\": \"99009\"\n",
       " }, {\n",
       "     \"target\": \"1\",\n",
       "     \"version_id\": null,\n",
       "     \"members\": [\n",
       "         {\n",
       "             \"expname\": \"jw_00008_rate.fits\",\n",
       "             \"exptype\": \"SCIENCE\"\n",
       "         }\n",
       "     ],\n",
       "     \"code_version\": \"0.7.1.beta2\",\n",
       "     \"asn_type\": \"spec2\",\n",
       "     \"asn_rule\": \"Asn_Lv2Spec\",\n",
       "     \"asn_id\": \"a3001\",\n",
       "     \"constraints\": \"Constraints:\\n    opt_elem: MEDIUM\\n    exp_type: MIR_MRS\\n    channel: 12\\n    detector: MIRIFUSHORT\\n    opt_elem2: None\\n    instrument: MIRI\\n    single_science: False\\n    program: 99009\\n    subarray: FULL\",\n",
       "     \"asn_pool\": \"pool_009_spec_miri_lv2bkg\",\n",
       "     \"program\": \"99009\"\n",
       " }, {\n",
       "     \"target\": \"1\",\n",
       "     \"version_id\": null,\n",
       "     \"members\": [\n",
       "         {\n",
       "             \"expname\": \"jw_00009_rate.fits\",\n",
       "             \"exptype\": \"SCIENCE\"\n",
       "         }\n",
       "     ],\n",
       "     \"code_version\": \"0.7.1.beta2\",\n",
       "     \"asn_type\": \"spec2\",\n",
       "     \"asn_rule\": \"Asn_Lv2Spec\",\n",
       "     \"asn_id\": \"a3001\",\n",
       "     \"constraints\": \"Constraints:\\n    opt_elem: SHORT\\n    exp_type: MIR_MRS\\n    channel: 12\\n    detector: MIRIFUSHORT\\n    opt_elem2: None\\n    instrument: MIRI\\n    single_science: False\\n    program: 99009\\n    subarray: FULL\",\n",
       "     \"asn_pool\": \"pool_009_spec_miri_lv2bkg\",\n",
       "     \"program\": \"99009\"\n",
       " }, {\n",
       "     \"target\": \"1\",\n",
       "     \"version_id\": null,\n",
       "     \"members\": [\n",
       "         {\n",
       "             \"expname\": \"jw_00012_rate.fits\",\n",
       "             \"exptype\": \"SCIENCE\"\n",
       "         }\n",
       "     ],\n",
       "     \"code_version\": \"0.7.1.beta2\",\n",
       "     \"asn_type\": \"spec2\",\n",
       "     \"asn_rule\": \"Asn_Lv2Spec\",\n",
       "     \"asn_id\": \"a3001\",\n",
       "     \"constraints\": \"Constraints:\\n    opt_elem: LONG\\n    exp_type: MIR_MRS\\n    channel: 12\\n    detector: MIRIFUSHORT\\n    opt_elem2: None\\n    instrument: MIRI\\n    single_science: False\\n    program: 99009\\n    subarray: FULL\",\n",
       "     \"asn_pool\": \"pool_009_spec_miri_lv2bkg\",\n",
       "     \"program\": \"99009\"\n",
       " }, {\n",
       "     \"target\": \"1\",\n",
       "     \"version_id\": null,\n",
       "     \"members\": [\n",
       "         {\n",
       "             \"expname\": \"jw_00014_rate.fits\",\n",
       "             \"exptype\": \"SCIENCE\"\n",
       "         }\n",
       "     ],\n",
       "     \"code_version\": \"0.7.1.beta2\",\n",
       "     \"asn_type\": \"spec2\",\n",
       "     \"asn_rule\": \"Asn_Lv2Spec\",\n",
       "     \"asn_id\": \"a3001\",\n",
       "     \"constraints\": \"Constraints:\\n    opt_elem: MEDIUM\\n    exp_type: MIR_MRS\\n    channel: 12\\n    detector: MIRIFUSHORT\\n    opt_elem2: None\\n    instrument: MIRI\\n    single_science: False\\n    program: 99009\\n    subarray: FULL\",\n",
       "     \"asn_pool\": \"pool_009_spec_miri_lv2bkg\",\n",
       "     \"program\": \"99009\"\n",
       " }, {\n",
       "     \"target\": \"1\",\n",
       "     \"version_id\": null,\n",
       "     \"members\": [\n",
       "         {\n",
       "             \"expname\": \"jw_00029_rate.fits\",\n",
       "             \"exptype\": \"SCIENCE\"\n",
       "         }\n",
       "     ],\n",
       "     \"code_version\": \"0.7.1.beta2\",\n",
       "     \"asn_type\": \"spec2\",\n",
       "     \"asn_rule\": \"Asn_Lv2Spec\",\n",
       "     \"asn_id\": \"a3001\",\n",
       "     \"constraints\": \"Constraints:\\n    opt_elem: SHORT\\n    exp_type: MIR_MRS\\n    channel: 12\\n    detector: MIRIFUSHORT\\n    opt_elem2: None\\n    instrument: MIRI\\n    single_science: False\\n    program: 99009\\n    subarray: FULL\",\n",
       "     \"asn_pool\": \"pool_009_spec_miri_lv2bkg\",\n",
       "     \"program\": \"99009\"\n",
       " }, {\n",
       "     \"target\": \"1\",\n",
       "     \"version_id\": null,\n",
       "     \"members\": [\n",
       "         {\n",
       "             \"expname\": \"jw_00039_rate.fits\",\n",
       "             \"exptype\": \"SCIENCE\"\n",
       "         }\n",
       "     ],\n",
       "     \"code_version\": \"0.7.1.beta2\",\n",
       "     \"asn_type\": \"spec2\",\n",
       "     \"asn_rule\": \"Asn_Lv2Spec\",\n",
       "     \"asn_id\": \"a3001\",\n",
       "     \"constraints\": \"Constraints:\\n    opt_elem: SHORT\\n    exp_type: MIR_MRS\\n    channel: 12\\n    detector: MIRIFUSHORT\\n    opt_elem2: None\\n    instrument: MIRI\\n    single_science: False\\n    program: 99009\\n    subarray: FULL\",\n",
       "     \"asn_pool\": \"pool_009_spec_miri_lv2bkg\",\n",
       "     \"program\": \"99009\"\n",
       " }, {\n",
       "     \"target\": \"1\",\n",
       "     \"version_id\": null,\n",
       "     \"members\": [\n",
       "         {\n",
       "             \"expname\": \"jw_00001_rate.fits\",\n",
       "             \"exptype\": \"SCIENCE\"\n",
       "         },\n",
       "         {\n",
       "             \"expname\": \"jw_00002_rate.fits\",\n",
       "             \"exptype\": \"BACKGROUND\"\n",
       "         }\n",
       "     ],\n",
       "     \"code_version\": \"0.7.1.beta2\",\n",
       "     \"asn_type\": \"spec2\",\n",
       "     \"asn_rule\": \"Asn_Lv2SpecBkg\",\n",
       "     \"asn_id\": \"a3001\",\n",
       "     \"constraints\": \"Constraints:\\n    opt_elem: P750L\\n    exp_type: MIR_LRS\\\\-FIXEDSLIT\\n    channel: None\\n    detector: MIRIMAGE\\n    opt_elem2: None\\n    background: \\\\(\\\\'r1000\\\\'\\\\,\\\\ \\\\'BACKGROUND\\\\'\\\\)\\n    instrument: MIRI\\n    single_science: False\\n    program: 99009\\n    subarray: FULL\",\n",
       "     \"asn_pool\": \"pool_009_spec_miri_lv2bkg\",\n",
       "     \"program\": \"99009\"\n",
       " }, {\n",
       "     \"target\": \"1\",\n",
       "     \"version_id\": null,\n",
       "     \"members\": [\n",
       "         {\n",
       "             \"expname\": \"jw_00004_rate.fits\",\n",
       "             \"exptype\": \"SCIENCE\"\n",
       "         },\n",
       "         {\n",
       "             \"expname\": \"jw_00039_rate.fits\",\n",
       "             \"exptype\": \"BACKGROUND\"\n",
       "         }\n",
       "     ],\n",
       "     \"code_version\": \"0.7.1.beta2\",\n",
       "     \"asn_type\": \"spec2\",\n",
       "     \"asn_rule\": \"Asn_Lv2SpecBkg\",\n",
       "     \"asn_id\": \"a3001\",\n",
       "     \"constraints\": \"Constraints:\\n    opt_elem: SHORT\\n    exp_type: MIR_MRS\\n    channel: 12\\n    detector: MIRIFUSHORT\\n    opt_elem2: None\\n    background: \\\\(\\\\'r1001\\\\'\\\\,\\\\ \\\\'BACKGROUND\\\\'\\\\)\\n    instrument: MIRI\\n    single_science: False\\n    program: 99009\\n    subarray: FULL\",\n",
       "     \"asn_pool\": \"pool_009_spec_miri_lv2bkg\",\n",
       "     \"program\": \"99009\"\n",
       " }, {\n",
       "     \"target\": \"1\",\n",
       "     \"version_id\": null,\n",
       "     \"members\": [\n",
       "         {\n",
       "             \"expname\": \"jw_00008_rate.fits\",\n",
       "             \"exptype\": \"SCIENCE\"\n",
       "         }\n",
       "     ],\n",
       "     \"code_version\": \"0.7.1.beta2\",\n",
       "     \"asn_type\": \"spec2\",\n",
       "     \"asn_rule\": \"Asn_Lv2SpecBkg\",\n",
       "     \"asn_id\": \"a3001\",\n",
       "     \"constraints\": \"Constraints:\\n    opt_elem: MEDIUM\\n    exp_type: MIR_MRS\\n    channel: 12\\n    detector: MIRIFUSHORT\\n    opt_elem2: None\\n    background: \\\\(\\\\'r1001\\\\'\\\\,\\\\ \\\\'BACKGROUND\\\\'\\\\)\\n    instrument: MIRI\\n    single_science: False\\n    program: 99009\\n    subarray: FULL\",\n",
       "     \"asn_pool\": \"pool_009_spec_miri_lv2bkg\",\n",
       "     \"program\": \"99009\"\n",
       " }, {\n",
       "     \"target\": \"1\",\n",
       "     \"version_id\": null,\n",
       "     \"members\": [\n",
       "         {\n",
       "             \"expname\": \"jw_00009_rate.fits\",\n",
       "             \"exptype\": \"SCIENCE\"\n",
       "         },\n",
       "         {\n",
       "             \"expname\": \"jw_00039_rate.fits\",\n",
       "             \"exptype\": \"BACKGROUND\"\n",
       "         }\n",
       "     ],\n",
       "     \"code_version\": \"0.7.1.beta2\",\n",
       "     \"asn_type\": \"spec2\",\n",
       "     \"asn_rule\": \"Asn_Lv2SpecBkg\",\n",
       "     \"asn_id\": \"a3001\",\n",
       "     \"constraints\": \"Constraints:\\n    opt_elem: SHORT\\n    exp_type: MIR_MRS\\n    channel: 12\\n    detector: MIRIFUSHORT\\n    opt_elem2: None\\n    background: \\\\(\\\\'r1001\\\\'\\\\,\\\\ \\\\'BACKGROUND\\\\'\\\\)\\n    instrument: MIRI\\n    single_science: False\\n    program: 99009\\n    subarray: FULL\",\n",
       "     \"asn_pool\": \"pool_009_spec_miri_lv2bkg\",\n",
       "     \"program\": \"99009\"\n",
       " }, {\n",
       "     \"target\": \"1\",\n",
       "     \"version_id\": null,\n",
       "     \"members\": [\n",
       "         {\n",
       "             \"expname\": \"jw_00012_rate.fits\",\n",
       "             \"exptype\": \"SCIENCE\"\n",
       "         }\n",
       "     ],\n",
       "     \"code_version\": \"0.7.1.beta2\",\n",
       "     \"asn_type\": \"spec2\",\n",
       "     \"asn_rule\": \"Asn_Lv2SpecBkg\",\n",
       "     \"asn_id\": \"a3001\",\n",
       "     \"constraints\": \"Constraints:\\n    opt_elem: LONG\\n    exp_type: MIR_MRS\\n    channel: 12\\n    detector: MIRIFUSHORT\\n    opt_elem2: None\\n    background: \\\\(\\\\'r1001\\\\'\\\\,\\\\ \\\\'BACKGROUND\\\\'\\\\)\\n    instrument: MIRI\\n    single_science: False\\n    program: 99009\\n    subarray: FULL\",\n",
       "     \"asn_pool\": \"pool_009_spec_miri_lv2bkg\",\n",
       "     \"program\": \"99009\"\n",
       " }, {\n",
       "     \"target\": \"1\",\n",
       "     \"version_id\": null,\n",
       "     \"members\": [\n",
       "         {\n",
       "             \"expname\": \"jw_00014_rate.fits\",\n",
       "             \"exptype\": \"SCIENCE\"\n",
       "         }\n",
       "     ],\n",
       "     \"code_version\": \"0.7.1.beta2\",\n",
       "     \"asn_type\": \"spec2\",\n",
       "     \"asn_rule\": \"Asn_Lv2SpecBkg\",\n",
       "     \"asn_id\": \"a3001\",\n",
       "     \"constraints\": \"Constraints:\\n    opt_elem: MEDIUM\\n    exp_type: MIR_MRS\\n    channel: 12\\n    detector: MIRIFUSHORT\\n    opt_elem2: None\\n    background: \\\\(\\\\'r1001\\\\'\\\\,\\\\ \\\\'BACKGROUND\\\\'\\\\)\\n    instrument: MIRI\\n    single_science: False\\n    program: 99009\\n    subarray: FULL\",\n",
       "     \"asn_pool\": \"pool_009_spec_miri_lv2bkg\",\n",
       "     \"program\": \"99009\"\n",
       " }, {\n",
       "     \"target\": \"1\",\n",
       "     \"version_id\": null,\n",
       "     \"members\": [\n",
       "         {\n",
       "             \"expname\": \"jw_00029_rate.fits\",\n",
       "             \"exptype\": \"SCIENCE\"\n",
       "         },\n",
       "         {\n",
       "             \"expname\": \"jw_00039_rate.fits\",\n",
       "             \"exptype\": \"BACKGROUND\"\n",
       "         }\n",
       "     ],\n",
       "     \"code_version\": \"0.7.1.beta2\",\n",
       "     \"asn_type\": \"spec2\",\n",
       "     \"asn_rule\": \"Asn_Lv2SpecBkg\",\n",
       "     \"asn_id\": \"a3001\",\n",
       "     \"constraints\": \"Constraints:\\n    opt_elem: SHORT\\n    exp_type: MIR_MRS\\n    channel: 12\\n    detector: MIRIFUSHORT\\n    opt_elem2: None\\n    background: \\\\(\\\\'r1001\\\\'\\\\,\\\\ \\\\'BACKGROUND\\\\'\\\\)\\n    instrument: MIRI\\n    single_science: False\\n    program: 99009\\n    subarray: FULL\",\n",
       "     \"asn_pool\": \"pool_009_spec_miri_lv2bkg\",\n",
       "     \"program\": \"99009\"\n",
       " }]"
      ]
     },
     "execution_count": 20,
     "metadata": {},
     "output_type": "execute_result"
    }
   ],
   "source": [
    "asns"
   ]
  },
  {
   "cell_type": "code",
   "execution_count": 21,
   "metadata": {
    "collapsed": false,
    "deletable": true,
    "editable": true
   },
   "outputs": [],
   "source": [
    "is_spec = np.array([\n",
    "    row['EXP_TYPE'] in spec_exptypes\n",
    "    for row in pool\n",
    "])"
   ]
  },
  {
   "cell_type": "code",
   "execution_count": 22,
   "metadata": {
    "collapsed": false,
    "deletable": true,
    "editable": true,
    "scrolled": true
   },
   "outputs": [
    {
     "data": {
      "text/html": [
       "&lt;Column name=&apos;EXP_TYPE&apos; dtype=&apos;str17&apos; length=9&gt;\n",
       "<table>\n",
       "<tr><td>MIR_LRS-FIXEDSLIT</td></tr>\n",
       "<tr><td>MIR_LRS-FIXEDSLIT</td></tr>\n",
       "<tr><td>MIR_MRS</td></tr>\n",
       "<tr><td>MIR_MRS</td></tr>\n",
       "<tr><td>MIR_MRS</td></tr>\n",
       "<tr><td>MIR_MRS</td></tr>\n",
       "<tr><td>MIR_MRS</td></tr>\n",
       "<tr><td>MIR_MRS</td></tr>\n",
       "<tr><td>MIR_MRS</td></tr>\n",
       "</table>"
      ],
      "text/plain": [
       "<Column name='EXP_TYPE' dtype='str17' length=9>\n",
       "MIR_LRS-FIXEDSLIT\n",
       "MIR_LRS-FIXEDSLIT\n",
       "          MIR_MRS\n",
       "          MIR_MRS\n",
       "          MIR_MRS\n",
       "          MIR_MRS\n",
       "          MIR_MRS\n",
       "          MIR_MRS\n",
       "          MIR_MRS"
      ]
     },
     "execution_count": 22,
     "metadata": {},
     "output_type": "execute_result"
    }
   ],
   "source": [
    "pool[is_spec]['EXP_TYPE']"
   ]
  },
  {
   "cell_type": "code",
   "execution_count": 26,
   "metadata": {
    "collapsed": false
   },
   "outputs": [],
   "source": [
    "is_lv2_asn = [\n",
    "    asn\n",
    "    for asn in asns\n",
    "    if asn['asn_rule'] == 'Asn_Lv2Spec'\n",
    "]"
   ]
  },
  {
   "cell_type": "code",
   "execution_count": 28,
   "metadata": {
    "collapsed": false
   },
   "outputs": [
    {
     "data": {
      "text/plain": [
       "9"
      ]
     },
     "execution_count": 28,
     "metadata": {},
     "output_type": "execute_result"
    }
   ],
   "source": [
    "len(is_lv2_asn)"
   ]
  },
  {
   "cell_type": "code",
   "execution_count": 29,
   "metadata": {
    "collapsed": false,
    "deletable": true,
    "editable": true
   },
   "outputs": [],
   "source": [
    "is_lv2bkg_asn = [\n",
    "    asn\n",
    "    for asn in asns\n",
    "    if asn['asn_rule'] == 'Asn_Lv2SpecBkg'\n",
    "]"
   ]
  },
  {
   "cell_type": "code",
   "execution_count": 30,
   "metadata": {
    "collapsed": false
   },
   "outputs": [
    {
     "data": {
      "text/plain": [
       "7"
      ]
     },
     "execution_count": 30,
     "metadata": {},
     "output_type": "execute_result"
    }
   ],
   "source": [
    "len(is_lv2bkg_asn)"
   ]
  },
  {
   "cell_type": "code",
   "execution_count": 34,
   "metadata": {
    "collapsed": false,
    "scrolled": false
   },
   "outputs": [
    {
     "data": {
      "text/plain": [
       "[{\n",
       "     \"target\": \"1\",\n",
       "     \"version_id\": null,\n",
       "     \"members\": [\n",
       "         {\n",
       "             \"expname\": \"jw_00001_rate.fits\",\n",
       "             \"exptype\": \"SCIENCE\"\n",
       "         },\n",
       "         {\n",
       "             \"expname\": \"jw_00002_rate.fits\",\n",
       "             \"exptype\": \"BACKGROUND\"\n",
       "         }\n",
       "     ],\n",
       "     \"code_version\": \"0.7.1.beta2\",\n",
       "     \"asn_type\": \"spec2\",\n",
       "     \"asn_rule\": \"Asn_Lv2SpecBkg\",\n",
       "     \"asn_id\": \"a3001\",\n",
       "     \"constraints\": \"Constraints:\\n    opt_elem: P750L\\n    exp_type: MIR_LRS\\\\-FIXEDSLIT\\n    channel: None\\n    detector: MIRIMAGE\\n    opt_elem2: None\\n    background: \\\\(\\\\'r1000\\\\'\\\\,\\\\ \\\\'BACKGROUND\\\\'\\\\)\\n    instrument: MIRI\\n    single_science: False\\n    program: 99009\\n    subarray: FULL\",\n",
       "     \"asn_pool\": \"pool_009_spec_miri_lv2bkg\",\n",
       "     \"program\": \"99009\"\n",
       " }, {\n",
       "     \"target\": \"1\",\n",
       "     \"version_id\": null,\n",
       "     \"members\": [\n",
       "         {\n",
       "             \"expname\": \"jw_00004_rate.fits\",\n",
       "             \"exptype\": \"SCIENCE\"\n",
       "         },\n",
       "         {\n",
       "             \"expname\": \"jw_00039_rate.fits\",\n",
       "             \"exptype\": \"BACKGROUND\"\n",
       "         }\n",
       "     ],\n",
       "     \"code_version\": \"0.7.1.beta2\",\n",
       "     \"asn_type\": \"spec2\",\n",
       "     \"asn_rule\": \"Asn_Lv2SpecBkg\",\n",
       "     \"asn_id\": \"a3001\",\n",
       "     \"constraints\": \"Constraints:\\n    opt_elem: SHORT\\n    exp_type: MIR_MRS\\n    channel: 12\\n    detector: MIRIFUSHORT\\n    opt_elem2: None\\n    background: \\\\(\\\\'r1001\\\\'\\\\,\\\\ \\\\'BACKGROUND\\\\'\\\\)\\n    instrument: MIRI\\n    single_science: False\\n    program: 99009\\n    subarray: FULL\",\n",
       "     \"asn_pool\": \"pool_009_spec_miri_lv2bkg\",\n",
       "     \"program\": \"99009\"\n",
       " }, {\n",
       "     \"target\": \"1\",\n",
       "     \"version_id\": null,\n",
       "     \"members\": [\n",
       "         {\n",
       "             \"expname\": \"jw_00008_rate.fits\",\n",
       "             \"exptype\": \"SCIENCE\"\n",
       "         }\n",
       "     ],\n",
       "     \"code_version\": \"0.7.1.beta2\",\n",
       "     \"asn_type\": \"spec2\",\n",
       "     \"asn_rule\": \"Asn_Lv2SpecBkg\",\n",
       "     \"asn_id\": \"a3001\",\n",
       "     \"constraints\": \"Constraints:\\n    opt_elem: MEDIUM\\n    exp_type: MIR_MRS\\n    channel: 12\\n    detector: MIRIFUSHORT\\n    opt_elem2: None\\n    background: \\\\(\\\\'r1001\\\\'\\\\,\\\\ \\\\'BACKGROUND\\\\'\\\\)\\n    instrument: MIRI\\n    single_science: False\\n    program: 99009\\n    subarray: FULL\",\n",
       "     \"asn_pool\": \"pool_009_spec_miri_lv2bkg\",\n",
       "     \"program\": \"99009\"\n",
       " }, {\n",
       "     \"target\": \"1\",\n",
       "     \"version_id\": null,\n",
       "     \"members\": [\n",
       "         {\n",
       "             \"expname\": \"jw_00009_rate.fits\",\n",
       "             \"exptype\": \"SCIENCE\"\n",
       "         },\n",
       "         {\n",
       "             \"expname\": \"jw_00039_rate.fits\",\n",
       "             \"exptype\": \"BACKGROUND\"\n",
       "         }\n",
       "     ],\n",
       "     \"code_version\": \"0.7.1.beta2\",\n",
       "     \"asn_type\": \"spec2\",\n",
       "     \"asn_rule\": \"Asn_Lv2SpecBkg\",\n",
       "     \"asn_id\": \"a3001\",\n",
       "     \"constraints\": \"Constraints:\\n    opt_elem: SHORT\\n    exp_type: MIR_MRS\\n    channel: 12\\n    detector: MIRIFUSHORT\\n    opt_elem2: None\\n    background: \\\\(\\\\'r1001\\\\'\\\\,\\\\ \\\\'BACKGROUND\\\\'\\\\)\\n    instrument: MIRI\\n    single_science: False\\n    program: 99009\\n    subarray: FULL\",\n",
       "     \"asn_pool\": \"pool_009_spec_miri_lv2bkg\",\n",
       "     \"program\": \"99009\"\n",
       " }, {\n",
       "     \"target\": \"1\",\n",
       "     \"version_id\": null,\n",
       "     \"members\": [\n",
       "         {\n",
       "             \"expname\": \"jw_00012_rate.fits\",\n",
       "             \"exptype\": \"SCIENCE\"\n",
       "         }\n",
       "     ],\n",
       "     \"code_version\": \"0.7.1.beta2\",\n",
       "     \"asn_type\": \"spec2\",\n",
       "     \"asn_rule\": \"Asn_Lv2SpecBkg\",\n",
       "     \"asn_id\": \"a3001\",\n",
       "     \"constraints\": \"Constraints:\\n    opt_elem: LONG\\n    exp_type: MIR_MRS\\n    channel: 12\\n    detector: MIRIFUSHORT\\n    opt_elem2: None\\n    background: \\\\(\\\\'r1001\\\\'\\\\,\\\\ \\\\'BACKGROUND\\\\'\\\\)\\n    instrument: MIRI\\n    single_science: False\\n    program: 99009\\n    subarray: FULL\",\n",
       "     \"asn_pool\": \"pool_009_spec_miri_lv2bkg\",\n",
       "     \"program\": \"99009\"\n",
       " }, {\n",
       "     \"target\": \"1\",\n",
       "     \"version_id\": null,\n",
       "     \"members\": [\n",
       "         {\n",
       "             \"expname\": \"jw_00014_rate.fits\",\n",
       "             \"exptype\": \"SCIENCE\"\n",
       "         }\n",
       "     ],\n",
       "     \"code_version\": \"0.7.1.beta2\",\n",
       "     \"asn_type\": \"spec2\",\n",
       "     \"asn_rule\": \"Asn_Lv2SpecBkg\",\n",
       "     \"asn_id\": \"a3001\",\n",
       "     \"constraints\": \"Constraints:\\n    opt_elem: MEDIUM\\n    exp_type: MIR_MRS\\n    channel: 12\\n    detector: MIRIFUSHORT\\n    opt_elem2: None\\n    background: \\\\(\\\\'r1001\\\\'\\\\,\\\\ \\\\'BACKGROUND\\\\'\\\\)\\n    instrument: MIRI\\n    single_science: False\\n    program: 99009\\n    subarray: FULL\",\n",
       "     \"asn_pool\": \"pool_009_spec_miri_lv2bkg\",\n",
       "     \"program\": \"99009\"\n",
       " }, {\n",
       "     \"target\": \"1\",\n",
       "     \"version_id\": null,\n",
       "     \"members\": [\n",
       "         {\n",
       "             \"expname\": \"jw_00029_rate.fits\",\n",
       "             \"exptype\": \"SCIENCE\"\n",
       "         },\n",
       "         {\n",
       "             \"expname\": \"jw_00039_rate.fits\",\n",
       "             \"exptype\": \"BACKGROUND\"\n",
       "         }\n",
       "     ],\n",
       "     \"code_version\": \"0.7.1.beta2\",\n",
       "     \"asn_type\": \"spec2\",\n",
       "     \"asn_rule\": \"Asn_Lv2SpecBkg\",\n",
       "     \"asn_id\": \"a3001\",\n",
       "     \"constraints\": \"Constraints:\\n    opt_elem: SHORT\\n    exp_type: MIR_MRS\\n    channel: 12\\n    detector: MIRIFUSHORT\\n    opt_elem2: None\\n    background: \\\\(\\\\'r1001\\\\'\\\\,\\\\ \\\\'BACKGROUND\\\\'\\\\)\\n    instrument: MIRI\\n    single_science: False\\n    program: 99009\\n    subarray: FULL\",\n",
       "     \"asn_pool\": \"pool_009_spec_miri_lv2bkg\",\n",
       "     \"program\": \"99009\"\n",
       " }]"
      ]
     },
     "execution_count": 34,
     "metadata": {},
     "output_type": "execute_result"
    }
   ],
   "source": [
    "is_lv2bkg_asn"
   ]
  },
  {
   "cell_type": "code",
   "execution_count": 32,
   "metadata": {
    "collapsed": false,
    "deletable": true,
    "editable": true
   },
   "outputs": [],
   "source": [
    "is_bkg = np.array([\n",
    "    row['BACKGROUND'] != 'NULL'\n",
    "    for row in pool\n",
    "])"
   ]
  },
  {
   "cell_type": "code",
   "execution_count": 33,
   "metadata": {
    "collapsed": false
   },
   "outputs": [
    {
     "data": {
      "text/html": [
       "&lt;AssociationPool length=2&gt;\n",
       "<table id=\"table4522874136\" class=\"table-striped table-bordered table-condensed\">\n",
       "<thead><tr><th>FILENAME</th><th>OBS_ID</th><th>PROGRAM</th><th>OBS_NUM</th><th>VISIT</th><th>VISIT_ID</th><th>VISITGRP</th><th>WFSVISIT</th><th>SEQ_ID</th><th>ACT_ID</th><th>EXPOSURE</th><th>EXP_TYPE</th><th>NEXPOSUR</th><th>EXPCOUNT</th><th>INSTRUME</th><th>DETECTOR</th><th>CHANNEL</th><th>TARGETID</th><th>TARGPROP</th><th>TARGNAME</th><th>TARGTYPE</th><th>TEMPLATE</th><th>PNTGTYPE</th><th>PNTG_SEQ</th><th>TARGORDN</th><th>EXPSPCIN</th><th>DITHPTIN</th><th>MOSTILNO</th><th>MODULE</th><th>FILTER</th><th>PUPIL</th><th>DITHERID</th><th>PATTTYPE</th><th>PATTSTRT</th><th>NUMDTHPT</th><th>PATTSIZE</th><th>SUBPXPNS</th><th>PATT_NUM</th><th>SUBPXNUM</th><th>SUBPIXEL</th><th>APERNAME</th><th>SDP_VER</th><th>SUBARRAY</th><th>GRATING</th><th>FXD_SLIT</th><th>BAND</th><th>ASN_CANDIDATE</th><th>BACKGROUND</th></tr></thead>\n",
       "<thead><tr><th>str19</th><th>str26</th><th>str7</th><th>str14</th><th>str5</th><th>str11</th><th>str8</th><th>str8</th><th>str6</th><th>str6</th><th>str8</th><th>str17</th><th>str8</th><th>str8</th><th>str8</th><th>str11</th><th>str7</th><th>str8</th><th>str13</th><th>str23</th><th>str8</th><th>str35</th><th>str8</th><th>str8</th><th>str8</th><th>str8</th><th>str8</th><th>str8</th><th>str6</th><th>str6</th><th>str5</th><th>str8</th><th>str12</th><th>str8</th><th>str8</th><th>str8</th><th>str8</th><th>str8</th><th>str8</th><th>str8</th><th>str19</th><th>str7</th><th>str8</th><th>str7</th><th>str8</th><th>str6</th><th>str75</th><th>str10</th></tr></thead>\n",
       "<tr><td>jw_00002_uncal.fits</td><td>V99009014001P0000000002101</td><td>99009</td><td>2</td><td>1</td><td>99009014001</td><td>2</td><td>NULL</td><td>1</td><td>1</td><td>1</td><td>MIR_LRS-FIXEDSLIT</td><td>NULL</td><td>NULL</td><td>MIRI</td><td>MIRIMAGE</td><td>NULL</td><td>1</td><td>FRED-AB-DOR-C</td><td>NULL</td><td>FIXED</td><td>MIRI Low Resolution Spectroscopy</td><td>SCIENCE</td><td>1</td><td>1</td><td>1</td><td>1</td><td>1</td><td>NULL</td><td>P750L</td><td>NULL</td><td>NULL</td><td>Point Source</td><td>NULL</td><td>NULL</td><td>NULL</td><td>NULL</td><td>NULL</td><td>NULL</td><td>NULL</td><td>MIRIM_FULL_SLITCNTR</td><td>2015_1</td><td>FULL</td><td>NULL</td><td>NULL</td><td>NULL</td><td>[(&apos;o002&apos;, &apos;OBSERVATION&apos;), (&apos;r1000&apos;, &apos;BACKGROUND&apos;)]</td><td>BACKGROUND</td></tr>\n",
       "<tr><td>jw_00039_uncal.fits</td><td>V99009016001P0000000002101</td><td>99009</td><td>8</td><td>1</td><td>99009016001</td><td>2</td><td>NULL</td><td>1</td><td>01</td><td>1</td><td>MIR_MRS</td><td>1</td><td>0</td><td>MIRI</td><td>MIRIFUSHORT</td><td>12</td><td>1</td><td>NULL</td><td>2MASS-J00243075-6635527</td><td>FIXED</td><td>MIRI Medium Resolution Spectroscopy</td><td>SCIENCE</td><td>1</td><td>1</td><td>1</td><td>1</td><td>1</td><td>NULL</td><td>NULL</td><td>NULL</td><td>NULL</td><td>NULL</td><td>NULL</td><td>NULL</td><td>NULL</td><td>NULL</td><td>NULL</td><td>NULL</td><td>NULL</td><td>MIRIFU_CHANNEL1A</td><td>2016_1</td><td>FULL</td><td>NULL</td><td>NULL</td><td>SHORT</td><td>[(&apos;o008&apos;, &apos;OBSERVATION&apos;), (&apos;r1001&apos;, &apos;BACKGROUND&apos;)]</td><td>BACKGROUND</td></tr>\n",
       "</table>"
      ],
      "text/plain": [
       "<AssociationPool length=2>\n",
       "      FILENAME                OBS_ID           ... BACKGROUND\n",
       "       str19                  str26            ...   str10   \n",
       "------------------- -------------------------- ... ----------\n",
       "jw_00002_uncal.fits V99009014001P0000000002101 ... BACKGROUND\n",
       "jw_00039_uncal.fits V99009016001P0000000002101 ... BACKGROUND"
      ]
     },
     "execution_count": 33,
     "metadata": {},
     "output_type": "execute_result"
    }
   ],
   "source": [
    "pool[is_bkg]"
   ]
  },
  {
   "cell_type": "markdown",
   "metadata": {
    "deletable": true,
    "editable": true
   },
   "source": [
    "## Test NIRSpec"
   ]
  },
  {
   "cell_type": "code",
   "execution_count": null,
   "metadata": {
    "collapsed": false,
    "deletable": true,
    "editable": true
   },
   "outputs": [],
   "source": [
    "pool = combine_pools('data/pool_010_spec_nirspec_lv2bkg.csv')"
   ]
  },
  {
   "cell_type": "code",
   "execution_count": null,
   "metadata": {
    "collapsed": true,
    "deletable": true,
    "editable": true
   },
   "outputs": [],
   "source": [
    "asns, orphaned = generate(pool, rules)"
   ]
  },
  {
   "cell_type": "code",
   "execution_count": null,
   "metadata": {
    "collapsed": false,
    "deletable": true,
    "editable": true
   },
   "outputs": [],
   "source": [
    "len(asns)"
   ]
  },
  {
   "cell_type": "code",
   "execution_count": null,
   "metadata": {
    "collapsed": false,
    "deletable": true,
    "editable": true
   },
   "outputs": [],
   "source": [
    "asns"
   ]
  },
  {
   "cell_type": "code",
   "execution_count": null,
   "metadata": {
    "collapsed": true,
    "deletable": true,
    "editable": true
   },
   "outputs": [],
   "source": []
  }
 ],
 "metadata": {
  "kernelspec": {
   "display_name": "Python [default]",
   "language": "python",
   "name": "python3"
  },
  "language_info": {
   "codemirror_mode": {
    "name": "ipython",
    "version": 3
   },
   "file_extension": ".py",
   "mimetype": "text/x-python",
   "name": "python",
   "nbconvert_exporter": "python",
   "pygments_lexer": "ipython3",
   "version": "3.5.2"
  }
 },
 "nbformat": 4,
 "nbformat_minor": 2
}
