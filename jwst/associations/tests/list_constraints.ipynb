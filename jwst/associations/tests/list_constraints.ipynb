{
 "cells": [
  {
   "cell_type": "markdown",
   "metadata": {},
   "source": [
    "# Abstract"
   ]
  },
  {
   "cell_type": "markdown",
   "metadata": {},
   "source": [
    "Test out lists constraints"
   ]
  },
  {
   "cell_type": "markdown",
   "metadata": {},
   "source": [
    "# Environment"
   ]
  },
  {
   "cell_type": "markdown",
   "metadata": {},
   "source": [
    "# Setup debugging log\n",
    "import logging\n",
    "logger = logging.getLogger('jwst.associations')\n",
    "handler = logging.StreamHandler()\n",
    "logger.addHandler(handler)\n",
    "handler.setLevel(logging.DEBUG)\n",
    "logger.setLevel(logging.DEBUG)"
   ]
  },
  {
   "cell_type": "code",
   "execution_count": 1,
   "metadata": {
    "collapsed": true
   },
   "outputs": [],
   "source": [
    "import pdb"
   ]
  },
  {
   "cell_type": "code",
   "execution_count": 2,
   "metadata": {
    "collapsed": true
   },
   "outputs": [],
   "source": [
    "from jwst.associations.tests.helpers import (\n",
    "    combine_pools,\n",
    "    registry_level2_only,\n",
    "    registry_level3_only\n",
    ")"
   ]
  },
  {
   "cell_type": "code",
   "execution_count": 3,
   "metadata": {
    "collapsed": true
   },
   "outputs": [],
   "source": [
    "from jwst.associations import (\n",
    "    generate\n",
    ")"
   ]
  },
  {
   "cell_type": "code",
   "execution_count": 4,
   "metadata": {
    "collapsed": true
   },
   "outputs": [],
   "source": [
    "from jwst.associations.main import (\n",
    "    constrain_on_candidates\n",
    ")"
   ]
  },
  {
   "cell_type": "markdown",
   "metadata": {},
   "source": [
    "# Library"
   ]
  },
  {
   "cell_type": "markdown",
   "metadata": {},
   "source": [
    "# Main"
   ]
  },
  {
   "cell_type": "markdown",
   "metadata": {},
   "source": [
    "## Really paired down candidate"
   ]
  },
  {
   "cell_type": "code",
   "execution_count": 5,
   "metadata": {},
   "outputs": [
    {
     "name": "stderr",
     "output_type": "stream",
     "text": [
      "/Users/eisenham/anaconda3/envs/asnopt_py3/lib/python3.5/site-packages/astropy/table/table.py:1301: StringTruncateWarning: truncated right side string(s) longer than 14 character(s) during assignment\n",
      "  col[item] = val\n"
     ]
    }
   ],
   "source": [
    "pool = combine_pools('data/pool_012_image_miri_single_exp.csv')"
   ]
  },
  {
   "cell_type": "code",
   "execution_count": 6,
   "metadata": {},
   "outputs": [],
   "source": [
    "c_o001 = {'asn_candidate': constrain_on_candidates(['o002'])}"
   ]
  },
  {
   "cell_type": "code",
   "execution_count": 7,
   "metadata": {
    "scrolled": true
   },
   "outputs": [],
   "source": [
    "rules = registry_level3_only(global_constraints=c_o001)"
   ]
  },
  {
   "cell_type": "code",
   "execution_count": 8,
   "metadata": {
    "collapsed": true
   },
   "outputs": [],
   "source": [
    "names = [name for name in rules]"
   ]
  },
  {
   "cell_type": "code",
   "execution_count": 9,
   "metadata": {},
   "outputs": [],
   "source": [
    "for name in names:\n",
    "    if name != 'Asn_Image':\n",
    "        del rules[name]"
   ]
  },
  {
   "cell_type": "code",
   "execution_count": 10,
   "metadata": {},
   "outputs": [
    {
     "data": {
      "text/plain": [
       "{'Asn_Image': abc.Asn_Image}"
      ]
     },
     "execution_count": 10,
     "metadata": {},
     "output_type": "execute_result"
    }
   ],
   "source": [
    "rules"
   ]
  },
  {
   "cell_type": "code",
   "execution_count": null,
   "metadata": {
    "scrolled": false
   },
   "outputs": [
    {
     "name": "stdout",
     "output_type": "stream",
     "text": [
      "> <string>(1)<module>()\n",
      "(Pdb) s\n",
      "--Call--\n",
      "> /Users/eisenham/anaconda3/envs/asnopt_py3/lib/python3.5/site-packages/jwst-0.7.7.dev491-py3.5-macosx-10.7-x86_64.egg/jwst/associations/generate.py(15)generate()\n",
      "-> def generate(pool, rules, version_id=None):\n",
      "(Pdb) n\n",
      "> /Users/eisenham/anaconda3/envs/asnopt_py3/lib/python3.5/site-packages/jwst-0.7.7.dev491-py3.5-macosx-10.7-x86_64.egg/jwst/associations/generate.py(46)generate()\n",
      "-> logger.debug('Starting...')\n",
      "(Pdb) n\n",
      "> /Users/eisenham/anaconda3/envs/asnopt_py3/lib/python3.5/site-packages/jwst-0.7.7.dev491-py3.5-macosx-10.7-x86_64.egg/jwst/associations/generate.py(48)generate()\n",
      "-> associations = []\n",
      "(Pdb) n\n",
      "> /Users/eisenham/anaconda3/envs/asnopt_py3/lib/python3.5/site-packages/jwst-0.7.7.dev491-py3.5-macosx-10.7-x86_64.egg/jwst/associations/generate.py(49)generate()\n",
      "-> in_an_asn = np.zeros((len(pool),), dtype=bool)\n",
      "(Pdb) n\n",
      "> /Users/eisenham/anaconda3/envs/asnopt_py3/lib/python3.5/site-packages/jwst-0.7.7.dev491-py3.5-macosx-10.7-x86_64.egg/jwst/associations/generate.py(50)generate()\n",
      "-> if type(version_id) is bool:\n",
      "(Pdb) n\n",
      "> /Users/eisenham/anaconda3/envs/asnopt_py3/lib/python3.5/site-packages/jwst-0.7.7.dev491-py3.5-macosx-10.7-x86_64.egg/jwst/associations/generate.py(53)generate()\n",
      "-> ProcessList(\n",
      "(Pdb) n\n",
      "> /Users/eisenham/anaconda3/envs/asnopt_py3/lib/python3.5/site-packages/jwst-0.7.7.dev491-py3.5-macosx-10.7-x86_64.egg/jwst/associations/generate.py(54)generate()\n",
      "-> members=pool,\n",
      "(Pdb) n\n",
      "> /Users/eisenham/anaconda3/envs/asnopt_py3/lib/python3.5/site-packages/jwst-0.7.7.dev491-py3.5-macosx-10.7-x86_64.egg/jwst/associations/generate.py(55)generate()\n",
      "-> rules=[rule for _, rule in rules.items()]\n",
      "(Pdb) n\n",
      "> /Users/eisenham/anaconda3/envs/asnopt_py3/lib/python3.5/site-packages/jwst-0.7.7.dev491-py3.5-macosx-10.7-x86_64.egg/jwst/associations/generate.py(59)generate()\n",
      "-> for process_item in process_list:\n",
      "(Pdb) n\n",
      "> /Users/eisenham/anaconda3/envs/asnopt_py3/lib/python3.5/site-packages/jwst-0.7.7.dev491-py3.5-macosx-10.7-x86_64.egg/jwst/associations/generate.py(60)generate()\n",
      "-> for member in process_item.members:\n",
      "(Pdb) n\n",
      "> /Users/eisenham/anaconda3/envs/asnopt_py3/lib/python3.5/site-packages/jwst-0.7.7.dev491-py3.5-macosx-10.7-x86_64.egg/jwst/associations/generate.py(61)generate()\n",
      "-> logger.debug('Working member=\"{}\"'.format(member))\n",
      "(Pdb) n\n",
      "> /Users/eisenham/anaconda3/envs/asnopt_py3/lib/python3.5/site-packages/jwst-0.7.7.dev491-py3.5-macosx-10.7-x86_64.egg/jwst/associations/generate.py(62)generate()\n",
      "-> existing_asns, new_asns, to_process = generate_from_member(\n",
      "(Pdb) s\n",
      "> /Users/eisenham/anaconda3/envs/asnopt_py3/lib/python3.5/site-packages/jwst-0.7.7.dev491-py3.5-macosx-10.7-x86_64.egg/jwst/associations/generate.py(63)generate()\n",
      "-> member,\n",
      "(Pdb) s\n",
      "> /Users/eisenham/anaconda3/envs/asnopt_py3/lib/python3.5/site-packages/jwst-0.7.7.dev491-py3.5-macosx-10.7-x86_64.egg/jwst/associations/generate.py(64)generate()\n",
      "-> version_id,\n",
      "(Pdb) s\n",
      "> /Users/eisenham/anaconda3/envs/asnopt_py3/lib/python3.5/site-packages/jwst-0.7.7.dev491-py3.5-macosx-10.7-x86_64.egg/jwst/associations/generate.py(65)generate()\n",
      "-> associations,\n",
      "(Pdb) s\n",
      "> /Users/eisenham/anaconda3/envs/asnopt_py3/lib/python3.5/site-packages/jwst-0.7.7.dev491-py3.5-macosx-10.7-x86_64.egg/jwst/associations/generate.py(66)generate()\n",
      "-> rules,\n",
      "(Pdb) s\n",
      "> /Users/eisenham/anaconda3/envs/asnopt_py3/lib/python3.5/site-packages/jwst-0.7.7.dev491-py3.5-macosx-10.7-x86_64.egg/jwst/associations/generate.py(67)generate()\n",
      "-> process_item.rules\n",
      "(Pdb) s\n",
      "--Call--\n",
      "> /Users/eisenham/anaconda3/envs/asnopt_py3/lib/python3.5/site-packages/jwst-0.7.7.dev491-py3.5-macosx-10.7-x86_64.egg/jwst/associations/generate.py(83)generate_from_member()\n",
      "-> def generate_from_member(\n",
      "(Pdb) n\n",
      "> /Users/eisenham/anaconda3/envs/asnopt_py3/lib/python3.5/site-packages/jwst-0.7.7.dev491-py3.5-macosx-10.7-x86_64.egg/jwst/associations/generate.py(128)generate_from_member()\n",
      "-> asn\n",
      "(Pdb) n\n",
      "> /Users/eisenham/anaconda3/envs/asnopt_py3/lib/python3.5/site-packages/jwst-0.7.7.dev491-py3.5-macosx-10.7-x86_64.egg/jwst/associations/generate.py(129)generate_from_member()\n",
      "-> for asn in associations\n",
      "(Pdb) associations\n",
      "[]\n",
      "(Pdb) n\n",
      "> /Users/eisenham/anaconda3/envs/asnopt_py3/lib/python3.5/site-packages/jwst-0.7.7.dev491-py3.5-macosx-10.7-x86_64.egg/jwst/associations/generate.py(132)generate_from_member()\n",
      "-> existing_asns, process_list = match_member(member, associations)\n",
      "(Pdb) n\n",
      "> /Users/eisenham/anaconda3/envs/asnopt_py3/lib/python3.5/site-packages/jwst-0.7.7.dev491-py3.5-macosx-10.7-x86_64.egg/jwst/associations/generate.py(137)generate_from_member()\n",
      "-> ignore_asns = set([type(asn) for asn in existing_asns])\n",
      "(Pdb) n\n",
      "> /Users/eisenham/anaconda3/envs/asnopt_py3/lib/python3.5/site-packages/jwst-0.7.7.dev491-py3.5-macosx-10.7-x86_64.egg/jwst/associations/generate.py(138)generate_from_member()\n",
      "-> new_asns, to_process = rules.match(\n",
      "(Pdb) ignore_asns\n",
      "set()\n",
      "(Pdb) s\n",
      "> /Users/eisenham/anaconda3/envs/asnopt_py3/lib/python3.5/site-packages/jwst-0.7.7.dev491-py3.5-macosx-10.7-x86_64.egg/jwst/associations/generate.py(139)generate_from_member()\n",
      "-> member,\n",
      "(Pdb) s\n",
      "> /Users/eisenham/anaconda3/envs/asnopt_py3/lib/python3.5/site-packages/jwst-0.7.7.dev491-py3.5-macosx-10.7-x86_64.egg/jwst/associations/generate.py(140)generate_from_member()\n",
      "-> version_id=version_id,\n",
      "(Pdb) s\n",
      "> /Users/eisenham/anaconda3/envs/asnopt_py3/lib/python3.5/site-packages/jwst-0.7.7.dev491-py3.5-macosx-10.7-x86_64.egg/jwst/associations/generate.py(141)generate_from_member()\n",
      "-> allow=allowed_rules,\n",
      "(Pdb) s\n",
      "> /Users/eisenham/anaconda3/envs/asnopt_py3/lib/python3.5/site-packages/jwst-0.7.7.dev491-py3.5-macosx-10.7-x86_64.egg/jwst/associations/generate.py(142)generate_from_member()\n",
      "-> ignore=ignore_asns,\n",
      "(Pdb) s\n",
      "--Call--\n",
      "> /Users/eisenham/anaconda3/envs/asnopt_py3/lib/python3.5/site-packages/jwst-0.7.7.dev491-py3.5-macosx-10.7-x86_64.egg/jwst/associations/registry.py(120)match()\n",
      "-> def match(self, member, version_id=None, allow=None, ignore=None):\n",
      "(Pdb) n\n",
      "> /Users/eisenham/anaconda3/envs/asnopt_py3/lib/python3.5/site-packages/jwst-0.7.7.dev491-py3.5-macosx-10.7-x86_64.egg/jwst/associations/registry.py(149)match()\n",
      "-> logger.debug('Starting...')\n",
      "(Pdb) n\n",
      "> /Users/eisenham/anaconda3/envs/asnopt_py3/lib/python3.5/site-packages/jwst-0.7.7.dev491-py3.5-macosx-10.7-x86_64.egg/jwst/associations/registry.py(150)match()\n",
      "-> if allow is None:\n",
      "(Pdb) allow\n",
      "[<class 'abc.Asn_Image'>]\n",
      "(Pdb) n\n",
      "> /Users/eisenham/anaconda3/envs/asnopt_py3/lib/python3.5/site-packages/jwst-0.7.7.dev491-py3.5-macosx-10.7-x86_64.egg/jwst/associations/registry.py(152)match()\n",
      "-> if ignore is None:\n",
      "(Pdb) ignore\n",
      "*** Breakpoint number expected\n",
      "(Pdb) print ignore\n",
      "*** SyntaxError: Missing parentheses in call to 'print'\n",
      "(Pdb) print(ignore)\n",
      "set()\n",
      "(Pdb) n\n",
      "> /Users/eisenham/anaconda3/envs/asnopt_py3/lib/python3.5/site-packages/jwst-0.7.7.dev491-py3.5-macosx-10.7-x86_64.egg/jwst/associations/registry.py(154)match()\n",
      "-> associations = []\n",
      "(Pdb) n\n",
      "> /Users/eisenham/anaconda3/envs/asnopt_py3/lib/python3.5/site-packages/jwst-0.7.7.dev491-py3.5-macosx-10.7-x86_64.egg/jwst/associations/registry.py(155)match()\n",
      "-> process_list = []\n",
      "(Pdb) n\n",
      "> /Users/eisenham/anaconda3/envs/asnopt_py3/lib/python3.5/site-packages/jwst-0.7.7.dev491-py3.5-macosx-10.7-x86_64.egg/jwst/associations/registry.py(156)match()\n",
      "-> for name, rule in self.items():\n",
      "(Pdb) n\n",
      "> /Users/eisenham/anaconda3/envs/asnopt_py3/lib/python3.5/site-packages/jwst-0.7.7.dev491-py3.5-macosx-10.7-x86_64.egg/jwst/associations/registry.py(157)match()\n",
      "-> if rule not in ignore and rule in allow:\n",
      "(Pdb) n\n",
      "> /Users/eisenham/anaconda3/envs/asnopt_py3/lib/python3.5/site-packages/jwst-0.7.7.dev491-py3.5-macosx-10.7-x86_64.egg/jwst/associations/registry.py(158)match()\n",
      "-> logger.debug('Checking membership for rule \"{}\"'.format(rule))\n",
      "(Pdb) n\n",
      "> /Users/eisenham/anaconda3/envs/asnopt_py3/lib/python3.5/site-packages/jwst-0.7.7.dev491-py3.5-macosx-10.7-x86_64.egg/jwst/associations/registry.py(159)match()\n",
      "-> asn, reprocess = rule.create(member, version_id)\n",
      "(Pdb) rule\n",
      "<class 'abc.Asn_Image'>\n",
      "(Pdb) s\n",
      "--Call--\n",
      "> /Users/eisenham/anaconda3/envs/asnopt_py3/lib/python3.5/site-packages/jwst-0.7.7.dev491-py3.5-macosx-10.7-x86_64.egg/jwst/associations/association.py(118)create()\n",
      "-> @classmethod\n",
      "(Pdb) n\n",
      "> /Users/eisenham/anaconda3/envs/asnopt_py3/lib/python3.5/site-packages/jwst-0.7.7.dev491-py3.5-macosx-10.7-x86_64.egg/jwst/associations/association.py(139)create()\n",
      "-> asn = cls(version_id=version_id)\n"
     ]
    },
    {
     "name": "stdout",
     "output_type": "stream",
     "text": [
      "(Pdb) n\n",
      "> /Users/eisenham/anaconda3/envs/asnopt_py3/lib/python3.5/site-packages/jwst-0.7.7.dev491-py3.5-macosx-10.7-x86_64.egg/jwst/associations/association.py(140)create()\n",
      "-> matches, reprocess = asn.add(member)\n",
      "(Pdb) asn\n",
      "<class 'abc.Asn_Image'>\n",
      "(Pdb) l\n",
      "135  \t            - association: The association or, if the member does not\n",
      "136  \t                this rule, None\n",
      "137  \t            - [ProcessList[, ...]]: List of members to process again.\n",
      "138  \t        \"\"\"\n",
      "139  \t        asn = cls(version_id=version_id)\n",
      "140  ->\t        matches, reprocess = asn.add(member)\n",
      "141  \t        if not matches:\n",
      "142  \t            return None, reprocess\n",
      "143  \t        asn.sequence = next(asn._sequence)\n",
      "144  \t        return asn, reprocess\n",
      "145  \t\n",
      "(Pdb) s\n",
      "--Call--\n",
      "> /Users/eisenham/anaconda3/envs/asnopt_py3/lib/python3.5/site-packages/jwst-0.7.7.dev491-py3.5-macosx-10.7-x86_64.egg/jwst/associations/association.py(314)add()\n",
      "-> def add(self, member, check_constraints=True):\n",
      "(Pdb) n\n",
      "> /Users/eisenham/anaconda3/envs/asnopt_py3/lib/python3.5/site-packages/jwst-0.7.7.dev491-py3.5-macosx-10.7-x86_64.egg/jwst/associations/association.py(333)add()\n",
      "-> if check_constraints:\n",
      "(Pdb) n\n",
      "> /Users/eisenham/anaconda3/envs/asnopt_py3/lib/python3.5/site-packages/jwst-0.7.7.dev491-py3.5-macosx-10.7-x86_64.egg/jwst/associations/association.py(334)add()\n",
      "-> matches, reprocess = self.test_and_set_constraints(member)\n",
      "(Pdb) s\n",
      "--Call--\n",
      "> /Users/eisenham/anaconda3/envs/asnopt_py3/lib/python3.5/site-packages/jwst-0.7.7.dev491-py3.5-macosx-10.7-x86_64.egg/jwst/associations/association.py(344)test_and_set_constraints()\n",
      "-> @nottest\n",
      "(Pdb) n\n",
      "> /Users/eisenham/anaconda3/envs/asnopt_py3/lib/python3.5/site-packages/jwst-0.7.7.dev491-py3.5-macosx-10.7-x86_64.egg/jwst/associations/association.py(370)test_and_set_constraints()\n",
      "-> matches = True\n",
      "(Pdb) n\n",
      "> /Users/eisenham/anaconda3/envs/asnopt_py3/lib/python3.5/site-packages/jwst-0.7.7.dev491-py3.5-macosx-10.7-x86_64.egg/jwst/associations/association.py(372)test_and_set_constraints()\n",
      "-> reprocess = []\n",
      "(Pdb) n\n",
      "> /Users/eisenham/anaconda3/envs/asnopt_py3/lib/python3.5/site-packages/jwst-0.7.7.dev491-py3.5-macosx-10.7-x86_64.egg/jwst/associations/association.py(373)test_and_set_constraints()\n",
      "-> constraints = deepcopy(self.constraints)\n",
      "(Pdb) n\n",
      "> /Users/eisenham/anaconda3/envs/asnopt_py3/lib/python3.5/site-packages/jwst-0.7.7.dev491-py3.5-macosx-10.7-x86_64.egg/jwst/associations/association.py(374)test_and_set_constraints()\n",
      "-> for constraint, conditions in constraints.items():\n",
      "(Pdb) n\n",
      "> /Users/eisenham/anaconda3/envs/asnopt_py3/lib/python3.5/site-packages/jwst-0.7.7.dev491-py3.5-macosx-10.7-x86_64.egg/jwst/associations/association.py(375)test_and_set_constraints()\n",
      "-> logger.debug('Constraint=\"{}\" Conditions=\"{}\"'.format(\n",
      "(Pdb) n\n",
      "> /Users/eisenham/anaconda3/envs/asnopt_py3/lib/python3.5/site-packages/jwst-0.7.7.dev491-py3.5-macosx-10.7-x86_64.egg/jwst/associations/association.py(376)test_and_set_constraints()\n",
      "-> constraint, conditions\n",
      "(Pdb) n\n",
      "> /Users/eisenham/anaconda3/envs/asnopt_py3/lib/python3.5/site-packages/jwst-0.7.7.dev491-py3.5-macosx-10.7-x86_64.egg/jwst/associations/association.py(378)test_and_set_constraints()\n",
      "-> test = conditions.get('test', self.match_member)\n",
      "(Pdb) n\n",
      "> /Users/eisenham/anaconda3/envs/asnopt_py3/lib/python3.5/site-packages/jwst-0.7.7.dev491-py3.5-macosx-10.7-x86_64.egg/jwst/associations/association.py(379)test_and_set_constraints()\n",
      "-> matches, new_reprocess = test(member, constraint, conditions)\n",
      "(Pdb) test\n",
      "<bound method Association.match_member of <class 'abc.Asn_Image'>>\n",
      "(Pdb) constraint\n",
      "'asn_candidate'\n",
      "(Pdb) conditions\n",
      "{'is_acid': True, 'inputs': ['ASN_CANDIDATE'], 'value': '.+(o002).+', 'force_unique': True}\n",
      "(Pdb) s\n",
      "--Call--\n",
      "> /Users/eisenham/anaconda3/envs/asnopt_py3/lib/python3.5/site-packages/jwst-0.7.7.dev491-py3.5-macosx-10.7-x86_64.egg/jwst/associations/association.py(387)match_member()\n",
      "-> def match_member(self, member, constraint, conditions):\n",
      "(Pdb) n\n",
      "> /Users/eisenham/anaconda3/envs/asnopt_py3/lib/python3.5/site-packages/jwst-0.7.7.dev491-py3.5-macosx-10.7-x86_64.egg/jwst/associations/association.py(408)match_member()\n",
      "-> logger.debug(\n",
      "(Pdb) n\n",
      "> /Users/eisenham/anaconda3/envs/asnopt_py3/lib/python3.5/site-packages/jwst-0.7.7.dev491-py3.5-macosx-10.7-x86_64.egg/jwst/associations/association.py(409)match_member()\n",
      "-> 'Called with:\\n'\n",
      "(Pdb) n\n",
      "> /Users/eisenham/anaconda3/envs/asnopt_py3/lib/python3.5/site-packages/jwst-0.7.7.dev491-py3.5-macosx-10.7-x86_64.egg/jwst/associations/association.py(413)match_member()\n",
      "-> member,\n",
      "(Pdb) n\n",
      "> /Users/eisenham/anaconda3/envs/asnopt_py3/lib/python3.5/site-packages/jwst-0.7.7.dev491-py3.5-macosx-10.7-x86_64.egg/jwst/associations/association.py(414)match_member()\n",
      "-> constraint,\n",
      "(Pdb) n\n",
      "> /Users/eisenham/anaconda3/envs/asnopt_py3/lib/python3.5/site-packages/jwst-0.7.7.dev491-py3.5-macosx-10.7-x86_64.egg/jwst/associations/association.py(415)match_member()\n",
      "-> conditions\n",
      "(Pdb) n\n",
      "> /Users/eisenham/anaconda3/envs/asnopt_py3/lib/python3.5/site-packages/jwst-0.7.7.dev491-py3.5-macosx-10.7-x86_64.egg/jwst/associations/association.py(419)match_member()\n",
      "-> reprocess = []\n",
      "(Pdb) n\n",
      "> /Users/eisenham/anaconda3/envs/asnopt_py3/lib/python3.5/site-packages/jwst-0.7.7.dev491-py3.5-macosx-10.7-x86_64.egg/jwst/associations/association.py(422)match_member()\n",
      "-> try:\n",
      "(Pdb) n\n",
      "> /Users/eisenham/anaconda3/envs/asnopt_py3/lib/python3.5/site-packages/jwst-0.7.7.dev491-py3.5-macosx-10.7-x86_64.egg/jwst/associations/association.py(423)match_member()\n",
      "-> input, value = getattr_from_list(\n",
      "(Pdb) n\n",
      "> /Users/eisenham/anaconda3/envs/asnopt_py3/lib/python3.5/site-packages/jwst-0.7.7.dev491-py3.5-macosx-10.7-x86_64.egg/jwst/associations/association.py(424)match_member()\n",
      "-> member,\n",
      "(Pdb) n\n",
      "> /Users/eisenham/anaconda3/envs/asnopt_py3/lib/python3.5/site-packages/jwst-0.7.7.dev491-py3.5-macosx-10.7-x86_64.egg/jwst/associations/association.py(425)match_member()\n",
      "-> conditions['inputs'],\n",
      "(Pdb) n\n",
      "> /Users/eisenham/anaconda3/envs/asnopt_py3/lib/python3.5/site-packages/jwst-0.7.7.dev491-py3.5-macosx-10.7-x86_64.egg/jwst/associations/association.py(426)match_member()\n",
      "-> invalid_values=self.INVALID_VALUES\n",
      "(Pdb) n\n",
      "> /Users/eisenham/anaconda3/envs/asnopt_py3/lib/python3.5/site-packages/jwst-0.7.7.dev491-py3.5-macosx-10.7-x86_64.egg/jwst/associations/association.py(441)match_member()\n",
      "-> if conditions.get('force_undefined', False):\n",
      "(Pdb) l\n",
      "436  \t                )\n",
      "437  \t                return False, reprocess\n",
      "438  \t            else:\n",
      "439  \t                return True, reprocess\n",
      "440  \t        else:\n",
      "441  ->\t            if conditions.get('force_undefined', False):\n",
      "442  \t                logger.debug(\n",
      "443  \t                    'Constraint {} present'\n",
      "444  \t                    ' when it should not be'.format(constraint)\n",
      "445  \t                )\n",
      "446  \t                return False, reprocess\n",
      "(Pdb) input\n",
      "'ASN_CANDIDATE'\n",
      "(Pdb) value\n",
      "\"[('o001', 'OBSERVATION')]\"\n",
      "(Pdb) n\n",
      "> /Users/eisenham/anaconda3/envs/asnopt_py3/lib/python3.5/site-packages/jwst-0.7.7.dev491-py3.5-macosx-10.7-x86_64.egg/jwst/associations/association.py(449)match_member()\n",
      "-> logger.debug('To check: Input=\"{}\" Value=\"{}\"'.format(input, value))\n",
      "(Pdb) n\n",
      "> /Users/eisenham/anaconda3/envs/asnopt_py3/lib/python3.5/site-packages/jwst-0.7.7.dev491-py3.5-macosx-10.7-x86_64.egg/jwst/associations/association.py(450)match_member()\n",
      "-> evaled = evaluate(value)\n",
      "(Pdb) n\n",
      "> /Users/eisenham/anaconda3/envs/asnopt_py3/lib/python3.5/site-packages/jwst-0.7.7.dev491-py3.5-macosx-10.7-x86_64.egg/jwst/associations/association.py(451)match_member()\n",
      "-> if is_iterable(evaled):\n",
      "(Pdb) evaled\n",
      "[('o001', 'OBSERVATION')]\n",
      "(Pdb) n\n",
      "> /Users/eisenham/anaconda3/envs/asnopt_py3/lib/python3.5/site-packages/jwst-0.7.7.dev491-py3.5-macosx-10.7-x86_64.egg/jwst/associations/association.py(452)match_member()\n",
      "-> process_members = []\n",
      "(Pdb) n\n",
      "> /Users/eisenham/anaconda3/envs/asnopt_py3/lib/python3.5/site-packages/jwst-0.7.7.dev491-py3.5-macosx-10.7-x86_64.egg/jwst/associations/association.py(453)match_member()\n",
      "-> for avalue in evaled:\n",
      "(Pdb) n\n",
      "> /Users/eisenham/anaconda3/envs/asnopt_py3/lib/python3.5/site-packages/jwst-0.7.7.dev491-py3.5-macosx-10.7-x86_64.egg/jwst/associations/association.py(454)match_member()\n",
      "-> new_member = deepcopy(member)\n",
      "(Pdb) n\n",
      "> /Users/eisenham/anaconda3/envs/asnopt_py3/lib/python3.5/site-packages/jwst-0.7.7.dev491-py3.5-macosx-10.7-x86_64.egg/jwst/associations/association.py(455)match_member()\n",
      "-> new_member[input] = str(avalue)\n"
     ]
    },
    {
     "name": "stdout",
     "output_type": "stream",
     "text": [
      "(Pdb) avalue\n",
      "('o001', 'OBSERVATION')\n",
      "(Pdb) input\n",
      "'ASN_CANDIDATE'\n",
      "(Pdb) n\n",
      "> /Users/eisenham/anaconda3/envs/asnopt_py3/lib/python3.5/site-packages/jwst-0.7.7.dev491-py3.5-macosx-10.7-x86_64.egg/jwst/associations/association.py(456)match_member()\n",
      "-> process_members.append(new_member)\n",
      "(Pdb) n\n",
      "> /Users/eisenham/anaconda3/envs/asnopt_py3/lib/python3.5/site-packages/jwst-0.7.7.dev491-py3.5-macosx-10.7-x86_64.egg/jwst/associations/association.py(453)match_member()\n",
      "-> for avalue in evaled:\n",
      "(Pdb) n\n",
      "> /Users/eisenham/anaconda3/envs/asnopt_py3/lib/python3.5/site-packages/jwst-0.7.7.dev491-py3.5-macosx-10.7-x86_64.egg/jwst/associations/association.py(457)match_member()\n",
      "-> reprocess.append(ProcessList(\n",
      "(Pdb) process_members\n",
      "[<Row index=0>\n",
      "      FILENAME                OBS_ID           PROGRAM OBS_NUM VISIT   VISIT_ID  VISITGRP WFSVISIT SEQ_ID ACT_ID EXPOSURE  EXP_TYPE NEXPOSUR EXPCOUNT INSTRUME DETECTOR CHANNEL TARGETID TARGPROP   TARGNAME   TARGTYPE   TEMPLATE   PNTGTYPE PNTG_SEQ TARGORDN EXPSPCIN DITHPTIN MOSTILNO MODULE FILTER PUPIL DITHERID PATTTYPE PATTSTRT NUMDTHPT PATTSIZE SUBPXPNS PATT_NUM SUBPXNUM SUBPIXEL      APERNAME      SDP_VER SUBARRAY GRATING FXD_SLIT BAND      ASN_CANDIDATE     \n",
      "       str19                  str26              str5   str14   str1    str11      str1     str4    str1   str1    str1      str9     str1     str1     str4     str8     str4    str1     str4      str12       str5      str12       str7     str1     str1     str1     str1     str1    str4   str5   str4   str4     str4     str1     str1     str4     str4     str1     str1     str5         str18          str6    str4     str4    str4   str4          str43         \n",
      "------------------- -------------------------- ------- ------- ----- ----------- -------- -------- ------ ------ -------- --------- -------- -------- -------- -------- ------- -------- -------- ------------ -------- ------------ -------- -------- -------- -------- -------- -------- ------ ------ ----- -------- -------- -------- -------- -------- -------- -------- -------- -------- ------------------ ------- -------- ------- -------- ---- -----------------------\n",
      "jw_00001_uncal.fits V99009001001P0000000002101   99009       1     1 99009001001        2     NULL      1      1        1 MIR_IMAGE        0        0     MIRI MIRIMAGE    NULL        1     NULL DIL-NGC-3603    FIXED MIRI Imaging  SCIENCE        1        1        1        1        1   NULL  F560W  NULL     NULL     NULL        0        0     NULL     NULL        0        0    False MIRIM_FULL_ILLCNTR  2015_2     FULL    NULL     NULL NULL ('o001', 'OBSERVATION')]\n",
      "(Pdb) n\n",
      "> /Users/eisenham/anaconda3/envs/asnopt_py3/lib/python3.5/site-packages/jwst-0.7.7.dev491-py3.5-macosx-10.7-x86_64.egg/jwst/associations/association.py(458)match_member()\n",
      "-> process_members,\n",
      "(Pdb) n\n",
      "> /Users/eisenham/anaconda3/envs/asnopt_py3/lib/python3.5/site-packages/jwst-0.7.7.dev491-py3.5-macosx-10.7-x86_64.egg/jwst/associations/association.py(459)match_member()\n",
      "-> [type(self)]\n",
      "(Pdb) type(self)\n",
      "<class 'abc.Asn_Image'>\n",
      "(Pdb) n\n",
      "> /Users/eisenham/anaconda3/envs/asnopt_py3/lib/python3.5/site-packages/jwst-0.7.7.dev491-py3.5-macosx-10.7-x86_64.egg/jwst/associations/association.py(461)match_member()\n",
      "-> logger.debug('List found reprocess=\"{}\"'.format(reprocess))\n",
      "(Pdb) n\n",
      "> /Users/eisenham/anaconda3/envs/asnopt_py3/lib/python3.5/site-packages/jwst-0.7.7.dev491-py3.5-macosx-10.7-x86_64.egg/jwst/associations/association.py(462)match_member()\n",
      "-> return False, reprocess\n",
      "(Pdb) n\n",
      "--Return--\n",
      "> /Users/eisenham/anaconda3/envs/asnopt_py3/lib/python3.5/site-packages/jwst-0.7.7.dev491-py3.5-macosx-10.7-x86_64.egg/jwst/associations/association.py(462)match_member()->(False, [<jwst.associa...t 0x11365b9e8>])\n",
      "-> return False, reprocess\n",
      "(Pdb) l\n",
      "457  \t            reprocess.append(ProcessList(\n",
      "458  \t                process_members,\n",
      "459  \t                [type(self)]\n",
      "460  \t            ))\n",
      "461  \t            logger.debug('List found reprocess=\"{}\"'.format(reprocess))\n",
      "462  ->\t            return False, reprocess\n",
      "463  \t\n",
      "464  \t        evaled_str = str(evaled)\n",
      "465  \t        if conditions['value'] is not None:\n",
      "466  \t            if not meets_conditions(\n",
      "467  \t                    evaled_str, conditions['value']\n",
      "(Pdb) n\n",
      "> /Users/eisenham/anaconda3/envs/asnopt_py3/lib/python3.5/site-packages/jwst-0.7.7.dev491-py3.5-macosx-10.7-x86_64.egg/jwst/associations/association.py(380)test_and_set_constraints()\n",
      "-> if not matches and not new_reprocess:\n",
      "(Pdb) matches\n",
      "False\n",
      "(Pdb) new_reprocess\n",
      "[<jwst.associations.association.ProcessList object at 0x11365b9e8>]\n",
      "(Pdb) n\n",
      "> /Users/eisenham/anaconda3/envs/asnopt_py3/lib/python3.5/site-packages/jwst-0.7.7.dev491-py3.5-macosx-10.7-x86_64.egg/jwst/associations/association.py(382)test_and_set_constraints()\n",
      "-> reprocess.extend(new_reprocess)\n",
      "(Pdb) reprocess\n",
      "[]\n",
      "(Pdb) n\n",
      "> /Users/eisenham/anaconda3/envs/asnopt_py3/lib/python3.5/site-packages/jwst-0.7.7.dev491-py3.5-macosx-10.7-x86_64.egg/jwst/associations/association.py(374)test_and_set_constraints()\n",
      "-> for constraint, conditions in constraints.items():\n"
     ]
    }
   ],
   "source": [
    "pdb.run('generate(pool, rules)')"
   ]
  },
  {
   "cell_type": "code",
   "execution_count": null,
   "metadata": {
    "scrolled": false
   },
   "outputs": [],
   "source": [
    "asns, orphanded = generate(pool, rules)"
   ]
  },
  {
   "cell_type": "code",
   "execution_count": null,
   "metadata": {},
   "outputs": [],
   "source": [
    "assert len(asns) == 1"
   ]
  },
  {
   "cell_type": "code",
   "execution_count": null,
   "metadata": {},
   "outputs": [],
   "source": [
    "asn = asns[0]"
   ]
  },
  {
   "cell_type": "code",
   "execution_count": null,
   "metadata": {},
   "outputs": [],
   "source": [
    "asn.constraints"
   ]
  },
  {
   "cell_type": "markdown",
   "metadata": {},
   "source": [
    "## Try Level 2 now"
   ]
  },
  {
   "cell_type": "code",
   "execution_count": null,
   "metadata": {
    "collapsed": true
   },
   "outputs": [],
   "source": [
    "rules_lv2 = registry_level2_only(global_constraints=c_o001)"
   ]
  },
  {
   "cell_type": "code",
   "execution_count": null,
   "metadata": {
    "collapsed": true
   },
   "outputs": [],
   "source": [
    "asns, orphaned = generate(pool, rules_lv2)"
   ]
  },
  {
   "cell_type": "code",
   "execution_count": null,
   "metadata": {},
   "outputs": [],
   "source": [
    "assert len(asns) == 1"
   ]
  },
  {
   "cell_type": "code",
   "execution_count": null,
   "metadata": {
    "collapsed": true
   },
   "outputs": [],
   "source": [
    "asn = asns[0]"
   ]
  },
  {
   "cell_type": "code",
   "execution_count": null,
   "metadata": {},
   "outputs": [],
   "source": [
    "asn.constraints"
   ]
  },
  {
   "cell_type": "code",
   "execution_count": null,
   "metadata": {},
   "outputs": [],
   "source": [
    "asn.acid.type"
   ]
  },
  {
   "cell_type": "code",
   "execution_count": null,
   "metadata": {},
   "outputs": [],
   "source": [
    "rules_lv2"
   ]
  },
  {
   "cell_type": "code",
   "execution_count": null,
   "metadata": {},
   "outputs": [],
   "source": [
    "asn.asn_rule"
   ]
  },
  {
   "cell_type": "code",
   "execution_count": null,
   "metadata": {
    "collapsed": true
   },
   "outputs": [],
   "source": []
  }
 ],
 "metadata": {
  "kernelspec": {
   "display_name": "Python 3",
   "language": "python",
   "name": "python3"
  },
  "language_info": {
   "codemirror_mode": {
    "name": "ipython",
    "version": 3
   },
   "file_extension": ".py",
   "mimetype": "text/x-python",
   "name": "python",
   "nbconvert_exporter": "python",
   "pygments_lexer": "ipython3",
   "version": "3.5.3"
  }
 },
 "nbformat": 4,
 "nbformat_minor": 2
}
