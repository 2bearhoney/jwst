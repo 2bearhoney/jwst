{
 "cells": [
  {
   "cell_type": "markdown",
   "metadata": {},
   "source": [
    "# Abstract"
   ]
  },
  {
   "cell_type": "markdown",
   "metadata": {},
   "source": [
    "# Environment"
   ]
  },
  {
   "cell_type": "code",
   "execution_count": 38,
   "metadata": {
    "collapsed": true
   },
   "outputs": [],
   "source": [
    "import json\n",
    "import jsonschema\n",
    "import os.path as path\n",
    "import re"
   ]
  },
  {
   "cell_type": "code",
   "execution_count": 40,
   "metadata": {
    "collapsed": false
   },
   "outputs": [],
   "source": [
    "import jwst.associations as associations\n",
    "from jwst.associations import load_asn\n",
    "from jwst.associations.lib.rules_level2_base import _REGEX_LEVEL2A"
   ]
  },
  {
   "cell_type": "markdown",
   "metadata": {},
   "source": [
    "# Library"
   ]
  },
  {
   "cell_type": "code",
   "execution_count": 46,
   "metadata": {
    "collapsed": false
   },
   "outputs": [],
   "source": [
    "def lv2_v1_to_v2(asn):\n",
    "    new_asn = dict(asn)\n",
    "    products = []\n",
    "    members_to_add = []\n",
    "    for member in asn['members']:\n",
    "        product = {\n",
    "            'name': product_name(member['expname'])\n",
    "        }\n",
    "        new_members = []\n",
    "        new_members.append({\n",
    "            'expname': member['expname'],\n",
    "            'exptype': member['exptype']\n",
    "        })\n",
    "        for bkg in member.get('bkgexps', []):\n",
    "            new_members.append({\n",
    "                'expname': bkg['expname'],\n",
    "                'exptype': 'BACKGROUND'\n",
    "            })\n",
    "            members_to_add.append({\n",
    "                'expname': bkg['expname'],\n",
    "                'exptype': 'SCIENCE'\n",
    "            })\n",
    "        product['members'] = new_members\n",
    "        products.append(product)\n",
    "    \n",
    "    for new_member in members_to_add:\n",
    "        product = {\n",
    "            'name': product_name(new_member['expname'])\n",
    "        }\n",
    "        product['members'] = [{\n",
    "            'expname': new_member['expname'],\n",
    "            'exptype': 'SCIENCE'\n",
    "        }]\n",
    "        products.append(product)\n",
    "        \n",
    "    new_asn['products'] = products\n",
    "    del new_asn['members']\n",
    "    return new_asn\n",
    "    "
   ]
  },
  {
   "cell_type": "code",
   "execution_count": 25,
   "metadata": {
    "collapsed": true
   },
   "outputs": [],
   "source": [
    "def product_name(expname):\n",
    "    name = path.basename(expname.lower())\n",
    "    match = re.match(_REGEX_LEVEL2A, name)\n",
    "    if match:\n",
    "        return match.groupdict()['path']\n",
    "    else:\n",
    "        return name"
   ]
  },
  {
   "cell_type": "markdown",
   "metadata": {},
   "source": [
    "# Main"
   ]
  },
  {
   "cell_type": "code",
   "execution_count": 17,
   "metadata": {
    "collapsed": true
   },
   "outputs": [],
   "source": [
    "with open('data/asn_level2_v1.json') as fp:\n",
    "    lv2_v1 = json.load(fp)"
   ]
  },
  {
   "cell_type": "code",
   "execution_count": 26,
   "metadata": {
    "collapsed": false
   },
   "outputs": [
    {
     "data": {
      "text/plain": [
       "{'asn_id': 'a3002',\n",
       " 'asn_pool': 'jw82600_001_20160304T145416_pool',\n",
       " 'asn_rule': 'Asn_MIRI_BkgChop',\n",
       " 'asn_type': 'background',\n",
       " 'members': [{'bkgexps': [{'expname': 'test_lrsbkg_rate.fits'}],\n",
       "   'expname': 'test_lrs1_rate.fits',\n",
       "   'exptype': 'SCIENCE'},\n",
       "  {'bkgexps': [{'expname': 'test_lrsbkg_rate.fits'}],\n",
       "   'expname': 'test_lrs2_rate.fits',\n",
       "   'exptype': 'SCIENCE'},\n",
       "  {'bkgexps': [{'expname': 'test_lrsbkg_rate.fits'}],\n",
       "   'expname': 'test_lrs3_rate.fits',\n",
       "   'exptype': 'SCIENCE'},\n",
       "  {'bkgexps': [{'expname': 'test_lrsbkg_rate.fits'}],\n",
       "   'expname': 'test_lrs4_rate.fits',\n",
       "   'exptype': 'SCIENCE'}],\n",
       " 'program': '82600',\n",
       " 'targname': '2MASS-J00243075-6635527'}"
      ]
     },
     "execution_count": 26,
     "metadata": {},
     "output_type": "execute_result"
    }
   ],
   "source": [
    "lv2_v1"
   ]
  },
  {
   "cell_type": "code",
   "execution_count": 47,
   "metadata": {
    "collapsed": false
   },
   "outputs": [],
   "source": [
    "lv2_v2 = lv2_v1_to_v2(lv2_v1)"
   ]
  },
  {
   "cell_type": "code",
   "execution_count": 48,
   "metadata": {
    "collapsed": false
   },
   "outputs": [
    {
     "data": {
      "text/plain": [
       "{'asn_id': 'a3002',\n",
       " 'asn_pool': 'jw82600_001_20160304T145416_pool',\n",
       " 'asn_rule': 'Asn_MIRI_BkgChop',\n",
       " 'asn_type': 'background',\n",
       " 'products': [{'members': [{'expname': 'test_lrs1_rate.fits',\n",
       "     'exptype': 'SCIENCE'},\n",
       "    {'expname': 'test_lrsbkg_rate.fits', 'exptype': 'BACKGROUND'}],\n",
       "   'name': 'test_lrs1'},\n",
       "  {'members': [{'expname': 'test_lrs2_rate.fits', 'exptype': 'SCIENCE'},\n",
       "    {'expname': 'test_lrsbkg_rate.fits', 'exptype': 'BACKGROUND'}],\n",
       "   'name': 'test_lrs2'},\n",
       "  {'members': [{'expname': 'test_lrs3_rate.fits', 'exptype': 'SCIENCE'},\n",
       "    {'expname': 'test_lrsbkg_rate.fits', 'exptype': 'BACKGROUND'}],\n",
       "   'name': 'test_lrs3'},\n",
       "  {'members': [{'expname': 'test_lrs4_rate.fits', 'exptype': 'SCIENCE'},\n",
       "    {'expname': 'test_lrsbkg_rate.fits', 'exptype': 'BACKGROUND'}],\n",
       "   'name': 'test_lrs4'},\n",
       "  {'members': [{'expname': 'test_lrsbkg_rate.fits', 'exptype': 'SCIENCE'}],\n",
       "   'name': 'test_lrsbkg'},\n",
       "  {'members': [{'expname': 'test_lrsbkg_rate.fits', 'exptype': 'SCIENCE'}],\n",
       "   'name': 'test_lrsbkg'},\n",
       "  {'members': [{'expname': 'test_lrsbkg_rate.fits', 'exptype': 'SCIENCE'}],\n",
       "   'name': 'test_lrsbkg'},\n",
       "  {'members': [{'expname': 'test_lrsbkg_rate.fits', 'exptype': 'SCIENCE'}],\n",
       "   'name': 'test_lrsbkg'}],\n",
       " 'program': '82600',\n",
       " 'targname': '2MASS-J00243075-6635527'}"
      ]
     },
     "execution_count": 48,
     "metadata": {},
     "output_type": "execute_result"
    }
   ],
   "source": [
    "lv2_v2"
   ]
  },
  {
   "cell_type": "code",
   "execution_count": 49,
   "metadata": {
    "collapsed": false
   },
   "outputs": [],
   "source": [
    "with open('/tmp/level2b_asn.json', 'w') as fp:\n",
    "    json.dump(lv2_v2, fp)"
   ]
  },
  {
   "cell_type": "code",
   "execution_count": 50,
   "metadata": {
    "collapsed": true
   },
   "outputs": [],
   "source": [
    "with open('/tmp/level2b_asn.json') as fp:\n",
    "    asn = load_asn(fp)"
   ]
  },
  {
   "cell_type": "code",
   "execution_count": 51,
   "metadata": {
    "collapsed": false
   },
   "outputs": [
    {
     "data": {
      "text/plain": [
       "{'asn_id': 'a3002',\n",
       " 'asn_pool': 'jw82600_001_20160304T145416_pool',\n",
       " 'asn_rule': 'Asn_MIRI_BkgChop',\n",
       " 'asn_type': 'background',\n",
       " 'products': [{'members': [{'expname': 'test_lrs1_rate.fits',\n",
       "     'exptype': 'SCIENCE'},\n",
       "    {'expname': 'test_lrsbkg_rate.fits', 'exptype': 'BACKGROUND'}],\n",
       "   'name': 'test_lrs1'},\n",
       "  {'members': [{'expname': 'test_lrs2_rate.fits', 'exptype': 'SCIENCE'},\n",
       "    {'expname': 'test_lrsbkg_rate.fits', 'exptype': 'BACKGROUND'}],\n",
       "   'name': 'test_lrs2'},\n",
       "  {'members': [{'expname': 'test_lrs3_rate.fits', 'exptype': 'SCIENCE'},\n",
       "    {'expname': 'test_lrsbkg_rate.fits', 'exptype': 'BACKGROUND'}],\n",
       "   'name': 'test_lrs3'},\n",
       "  {'members': [{'expname': 'test_lrs4_rate.fits', 'exptype': 'SCIENCE'},\n",
       "    {'expname': 'test_lrsbkg_rate.fits', 'exptype': 'BACKGROUND'}],\n",
       "   'name': 'test_lrs4'},\n",
       "  {'members': [{'expname': 'test_lrsbkg_rate.fits', 'exptype': 'SCIENCE'}],\n",
       "   'name': 'test_lrsbkg'},\n",
       "  {'members': [{'expname': 'test_lrsbkg_rate.fits', 'exptype': 'SCIENCE'}],\n",
       "   'name': 'test_lrsbkg'},\n",
       "  {'members': [{'expname': 'test_lrsbkg_rate.fits', 'exptype': 'SCIENCE'}],\n",
       "   'name': 'test_lrsbkg'},\n",
       "  {'members': [{'expname': 'test_lrsbkg_rate.fits', 'exptype': 'SCIENCE'}],\n",
       "   'name': 'test_lrsbkg'}],\n",
       " 'program': '82600',\n",
       " 'targname': '2MASS-J00243075-6635527'}"
      ]
     },
     "execution_count": 51,
     "metadata": {},
     "output_type": "execute_result"
    }
   ],
   "source": [
    "asn"
   ]
  },
  {
   "cell_type": "code",
   "execution_count": 52,
   "metadata": {
    "collapsed": false
   },
   "outputs": [
    {
     "data": {
      "text/plain": [
       "[{'members': [{'expname': 'test_lrs1_rate.fits', 'exptype': 'SCIENCE'},\n",
       "   {'expname': 'test_lrsbkg_rate.fits', 'exptype': 'BACKGROUND'}],\n",
       "  'name': 'test_lrs1'},\n",
       " {'members': [{'expname': 'test_lrs2_rate.fits', 'exptype': 'SCIENCE'},\n",
       "   {'expname': 'test_lrsbkg_rate.fits', 'exptype': 'BACKGROUND'}],\n",
       "  'name': 'test_lrs2'},\n",
       " {'members': [{'expname': 'test_lrs3_rate.fits', 'exptype': 'SCIENCE'},\n",
       "   {'expname': 'test_lrsbkg_rate.fits', 'exptype': 'BACKGROUND'}],\n",
       "  'name': 'test_lrs3'},\n",
       " {'members': [{'expname': 'test_lrs4_rate.fits', 'exptype': 'SCIENCE'},\n",
       "   {'expname': 'test_lrsbkg_rate.fits', 'exptype': 'BACKGROUND'}],\n",
       "  'name': 'test_lrs4'},\n",
       " {'members': [{'expname': 'test_lrsbkg_rate.fits', 'exptype': 'SCIENCE'}],\n",
       "  'name': 'test_lrsbkg'},\n",
       " {'members': [{'expname': 'test_lrsbkg_rate.fits', 'exptype': 'SCIENCE'}],\n",
       "  'name': 'test_lrsbkg'},\n",
       " {'members': [{'expname': 'test_lrsbkg_rate.fits', 'exptype': 'SCIENCE'}],\n",
       "  'name': 'test_lrsbkg'},\n",
       " {'members': [{'expname': 'test_lrsbkg_rate.fits', 'exptype': 'SCIENCE'}],\n",
       "  'name': 'test_lrsbkg'}]"
      ]
     },
     "execution_count": 52,
     "metadata": {},
     "output_type": "execute_result"
    }
   ],
   "source": [
    "asn['products']"
   ]
  },
  {
   "cell_type": "code",
   "execution_count": 53,
   "metadata": {
    "collapsed": false
   },
   "outputs": [
    {
     "data": {
      "text/plain": [
       "[{'expname': 'test_lrs1_rate.fits', 'exptype': 'SCIENCE'},\n",
       " {'expname': 'test_lrsbkg_rate.fits', 'exptype': 'BACKGROUND'}]"
      ]
     },
     "execution_count": 53,
     "metadata": {},
     "output_type": "execute_result"
    }
   ],
   "source": [
    "asn['products'][0]['members']"
   ]
  },
  {
   "cell_type": "code",
   "execution_count": null,
   "metadata": {
    "collapsed": true
   },
   "outputs": [],
   "source": []
  }
 ],
 "metadata": {
  "kernelspec": {
   "display_name": "Python [default]",
   "language": "python",
   "name": "python3"
  },
  "language_info": {
   "codemirror_mode": {
    "name": "ipython",
    "version": 3
   },
   "file_extension": ".py",
   "mimetype": "text/x-python",
   "name": "python",
   "nbconvert_exporter": "python",
   "pygments_lexer": "ipython3",
   "version": "3.5.2"
  }
 },
 "nbformat": 4,
 "nbformat_minor": 2
}
