{
 "cells": [
  {
   "cell_type": "markdown",
   "metadata": {},
   "source": [
    "# Abstract"
   ]
  },
  {
   "cell_type": "code",
   "execution_count": 1,
   "metadata": {
    "collapsed": true
   },
   "outputs": [],
   "source": [
    "# Setup debugging log\n",
    "import logging\n",
    "logger = logging.getLogger('jwst.associations')\n",
    "handler = logging.StreamHandler()\n",
    "logger.addHandler(handler)\n",
    "handler.setLevel(logging.DEBUG)\n",
    "logger.setLevel(logging.DEBUG)"
   ]
  },
  {
   "cell_type": "markdown",
   "metadata": {},
   "source": [
    "# Environment"
   ]
  },
  {
   "cell_type": "code",
   "execution_count": 2,
   "metadata": {
    "collapsed": true
   },
   "outputs": [],
   "source": [
    "import numpy as np\n",
    "import pdb"
   ]
  },
  {
   "cell_type": "code",
   "execution_count": 3,
   "metadata": {
    "collapsed": true
   },
   "outputs": [],
   "source": [
    "from jwst.associations import (\n",
    "    AssociationRegistry,\n",
    "    generate\n",
    ")\n",
    "from jwst.associations.main import Main"
   ]
  },
  {
   "cell_type": "code",
   "execution_count": 4,
   "metadata": {
    "collapsed": true
   },
   "outputs": [],
   "source": [
    "from jwst.associations.tests.helpers import (\n",
    "    combine_pools,\n",
    "    registry_level3_only,\n",
    "    registry_level2_only,\n",
    "    t_path,\n",
    ")"
   ]
  },
  {
   "cell_type": "markdown",
   "metadata": {},
   "source": [
    "# Library"
   ]
  },
  {
   "cell_type": "markdown",
   "metadata": {},
   "source": [
    "# Main"
   ]
  },
  {
   "cell_type": "markdown",
   "metadata": {},
   "source": [
    "## Pool"
   ]
  },
  {
   "cell_type": "code",
   "execution_count": 5,
   "metadata": {
    "collapsed": true
   },
   "outputs": [],
   "source": [
    "pool = combine_pools('../data/pool_010_spec_nirspec_lv2bkg.csv')"
   ]
  },
  {
   "cell_type": "code",
   "execution_count": 6,
   "metadata": {},
   "outputs": [
    {
     "data": {
      "text/html": [
       "&lt;AssociationPool length=20&gt;\n",
       "<table id=\"table4539432856\" class=\"table-striped table-bordered table-condensed\">\n",
       "<thead><tr><th>filename</th><th>exp_type</th><th>background</th></tr></thead>\n",
       "<thead><tr><th>str19</th><th>str13</th><th>str10</th></tr></thead>\n",
       "<tr><td>set acid</td><td>exp_type</td><td>null</td></tr>\n",
       "<tr><td>jw_00001_uncal.fits</td><td>nrs_fixedslit</td><td>background</td></tr>\n",
       "<tr><td>jw_00002_uncal.fits</td><td>nrs_fixedslit</td><td>background</td></tr>\n",
       "<tr><td>jw_00003_uncal.fits</td><td>nrs_ifu</td><td>background</td></tr>\n",
       "<tr><td>jw_00004_uncal.fits</td><td>nrs_ifu</td><td>background</td></tr>\n",
       "<tr><td>jw_00005_uncal.fits</td><td>nrs_fixedslit</td><td>null</td></tr>\n",
       "<tr><td>jw_00006_uncal.fits</td><td>nrs_fixedslit</td><td>null</td></tr>\n",
       "<tr><td>jw_00007_uncal.fits</td><td>nrs_taconfirm</td><td>null</td></tr>\n",
       "<tr><td>jw_00008_uncal.fits</td><td>nrs_confirm</td><td>null</td></tr>\n",
       "<tr><td>jw_00009_uncal.fits</td><td>nrs_taslit</td><td>null</td></tr>\n",
       "<tr><td>jw_00010_uncal.fits</td><td>nrs_tacq</td><td>null</td></tr>\n",
       "<tr><td>jw_00011_uncal.fits</td><td>nrs_autowave</td><td>null</td></tr>\n",
       "<tr><td>jw_00012_uncal.fits</td><td>nrs_ifu</td><td>null</td></tr>\n",
       "<tr><td>jw_00013_uncal.fits</td><td>nrs_ifu</td><td>null</td></tr>\n",
       "<tr><td>jw_00014_uncal.fits</td><td>nrs_taslit</td><td>null</td></tr>\n",
       "<tr><td>jw_00015_uncal.fits</td><td>nrs_tacq</td><td>null</td></tr>\n",
       "<tr><td>jw_00016_uncal.fits</td><td>nrs_taconfirm</td><td>null</td></tr>\n",
       "<tr><td>jw_00017_uncal.fits</td><td>nrs_confirm</td><td>null</td></tr>\n",
       "<tr><td>jw_00018_uncal.fits</td><td>nrs_autowave</td><td>null</td></tr>\n",
       "<tr><td>set acid</td><td>exp_type</td><td>null</td></tr>\n",
       "</table>"
      ],
      "text/plain": [
       "<AssociationPool length=20>\n",
       "      filename         exp_type   background\n",
       "       str19            str13       str10   \n",
       "------------------- ------------- ----------\n",
       "           set acid      exp_type       null\n",
       "jw_00001_uncal.fits nrs_fixedslit background\n",
       "jw_00002_uncal.fits nrs_fixedslit background\n",
       "jw_00003_uncal.fits       nrs_ifu background\n",
       "jw_00004_uncal.fits       nrs_ifu background\n",
       "jw_00005_uncal.fits nrs_fixedslit       null\n",
       "jw_00006_uncal.fits nrs_fixedslit       null\n",
       "jw_00007_uncal.fits nrs_taconfirm       null\n",
       "jw_00008_uncal.fits   nrs_confirm       null\n",
       "jw_00009_uncal.fits    nrs_taslit       null\n",
       "jw_00010_uncal.fits      nrs_tacq       null\n",
       "jw_00011_uncal.fits  nrs_autowave       null\n",
       "jw_00012_uncal.fits       nrs_ifu       null\n",
       "jw_00013_uncal.fits       nrs_ifu       null\n",
       "jw_00014_uncal.fits    nrs_taslit       null\n",
       "jw_00015_uncal.fits      nrs_tacq       null\n",
       "jw_00016_uncal.fits nrs_taconfirm       null\n",
       "jw_00017_uncal.fits   nrs_confirm       null\n",
       "jw_00018_uncal.fits  nrs_autowave       null\n",
       "           set acid      exp_type       null"
      ]
     },
     "execution_count": 6,
     "metadata": {},
     "output_type": "execute_result"
    }
   ],
   "source": [
    "pool['filename', 'exp_type', 'background']"
   ]
  },
  {
   "cell_type": "markdown",
   "metadata": {},
   "source": [
    "## Command line"
   ]
  },
  {
   "cell_type": "code",
   "execution_count": 7,
   "metadata": {},
   "outputs": [],
   "source": [
    "def_args = [\n",
    "    '--dry-run',\n",
    "    '-D',\n",
    "    '-r',\n",
    "    '../../lib/rules_level2b.py',\n",
    "    '--ignore-default',\n",
    "]"
   ]
  },
  {
   "cell_type": "code",
   "execution_count": 8,
   "metadata": {},
   "outputs": [
    {
     "name": "stdout",
     "output_type": "stream",
     "text": [
      "Command-line arguments: ['--dry-run', '-D', '-r', '../../lib/rules_level2b.py', '--ignore-default']\n",
      "Reading rules.\n",
      "Generating associations.\n"
     ]
    },
    {
     "name": "stderr",
     "output_type": "stream",
     "text": [
      "201709111211:WARNING:jwst.associations.lib.rules_level2_base.rename_to_level2a:Item FILENAME=\"set acid\" is not a Level 1b name. Cannot transform to Level 2a.\n",
      "201709111211:WARNING:jwst.associations.lib.rules_level2_base.rename_to_level2a:Item FILENAME=\"set acid\" is not a Level 1b name. Cannot transform to Level 2a.\n",
      "201709111211:WARNING:jwst.associations.lib.rules_level2_base.rename_to_level2a:Item FILENAME=\"set acid\" is not a Level 1b name. Cannot transform to Level 2a.\n",
      "201709111211:WARNING:jwst.associations.lib.rules_level2_base.rename_to_level2a:Item FILENAME=\"set acid\" is not a Level 1b name. Cannot transform to Level 2a.\n",
      "201709111211:WARNING:jwst.associations.lib.rules_level2_base.rename_to_level2a:Item FILENAME=\"set acid\" is not a Level 1b name. Cannot transform to Level 2a.\n",
      "201709111211:WARNING:jwst.associations.lib.rules_level2_base.rename_to_level2a:Item FILENAME=\"set acid\" is not a Level 1b name. Cannot transform to Level 2a.\n",
      "201709111211:WARNING:jwst.associations.lib.rules_level2_base.rename_to_level2a:Item FILENAME=\"set acid\" is not a Level 1b name. Cannot transform to Level 2a.\n",
      "201709111211:WARNING:jwst.associations.lib.rules_level2_base.rename_to_level2a:Item FILENAME=\"set acid\" is not a Level 1b name. Cannot transform to Level 2a.\n",
      "201709111211:WARNING:jwst.associations.lib.rules_level2_base.rename_to_level2a:Item FILENAME=\"set acid\" is not a Level 1b name. Cannot transform to Level 2a.\n",
      "201709111211:WARNING:jwst.associations.lib.rules_level2_base.rename_to_level2a:Item FILENAME=\"set acid\" is not a Level 1b name. Cannot transform to Level 2a.\n",
      "201709111211:WARNING:jwst.associations.lib.rules_level2_base.rename_to_level2a:Item FILENAME=\"set acid\" is not a Level 1b name. Cannot transform to Level 2a.\n",
      "201709111211:WARNING:jwst.associations.lib.rules_level2_base.rename_to_level2a:Item FILENAME=\"set acid\" is not a Level 1b name. Cannot transform to Level 2a.\n",
      "201709111211:DEBUG:jwst.associations.__init__:# asns found before discover filtering=1\n"
     ]
    },
    {
     "name": "stdout",
     "output_type": "stream",
     "text": [
      "There where 1 associations and 12 orphaned items found.\n",
      "Associations found are:\n",
      "Association jw99009-a3001_spec2_001_asn\n",
      "    Parameters:\n",
      "        Product type: spec2\n",
      "        Rule:         discover_Asn_Lv2Spec\n",
      "        Program:      99009\n",
      "        Target:       1\n",
      "        Pool:         pool_010_spec_nirspec_lv2bkg\n",
      "        Constraints:\n",
      "            single_science: False\n",
      "            exp_type: nrs_fixedslit\n",
      "            program: 99009\n",
      "            instrument: nirspec\n",
      "            detector: nrs1\n",
      "            opt_elem: f100lp\n",
      "            opt_elem2: g140m\n",
      "            subarray: s200a2\n",
      "            channel: None\n",
      "\tjw_00005 with 2 members\n",
      "\tjw_00006 with 2 members\n",
      "\tjw_00012 with 2 members\n",
      "\tjw_00013 with 2 members\n",
      "\n",
      "\n"
     ]
    }
   ],
   "source": [
    "results = Main(\n",
    "    def_args,\n",
    "    pool=pool\n",
    ")"
   ]
  },
  {
   "cell_type": "markdown",
   "metadata": {},
   "source": [
    "## Basic generate"
   ]
  },
  {
   "cell_type": "code",
   "execution_count": 9,
   "metadata": {
    "collapsed": true
   },
   "outputs": [],
   "source": [
    "reg_lvl2 = registry_level2_only()"
   ]
  },
  {
   "cell_type": "code",
   "execution_count": 10,
   "metadata": {},
   "outputs": [
    {
     "name": "stderr",
     "output_type": "stream",
     "text": [
      "201709111211:WARNING:jwst.associations.lib.rules_level2_base.rename_to_level2a:Item FILENAME=\"set acid\" is not a Level 1b name. Cannot transform to Level 2a.\n",
      "201709111211:WARNING:jwst.associations.lib.rules_level2_base.rename_to_level2a:Item FILENAME=\"set acid\" is not a Level 1b name. Cannot transform to Level 2a.\n",
      "201709111211:WARNING:jwst.associations.lib.rules_level2_base.rename_to_level2a:Item FILENAME=\"set acid\" is not a Level 1b name. Cannot transform to Level 2a.\n",
      "201709111211:WARNING:jwst.associations.lib.rules_level2_base.rename_to_level2a:Item FILENAME=\"set acid\" is not a Level 1b name. Cannot transform to Level 2a.\n",
      "201709111211:WARNING:jwst.associations.lib.rules_level2_base.rename_to_level2a:Item FILENAME=\"set acid\" is not a Level 1b name. Cannot transform to Level 2a.\n",
      "201709111211:WARNING:jwst.associations.lib.rules_level2_base.rename_to_level2a:Item FILENAME=\"set acid\" is not a Level 1b name. Cannot transform to Level 2a.\n",
      "201709111211:WARNING:jwst.associations.lib.rules_level2_base.rename_to_level2a:Item FILENAME=\"set acid\" is not a Level 1b name. Cannot transform to Level 2a.\n",
      "201709111211:WARNING:jwst.associations.lib.rules_level2_base.rename_to_level2a:Item FILENAME=\"set acid\" is not a Level 1b name. Cannot transform to Level 2a.\n"
     ]
    }
   ],
   "source": [
    "asns, orphaned = generate(pool, reg_lvl2)"
   ]
  },
  {
   "cell_type": "code",
   "execution_count": 11,
   "metadata": {
    "collapsed": true
   },
   "outputs": [],
   "source": [
    "asn = asns[0]"
   ]
  },
  {
   "cell_type": "code",
   "execution_count": 12,
   "metadata": {},
   "outputs": [
    {
     "data": {
      "text/plain": [
       "{\n",
       "    \"asn_type\": \"spec2\",\n",
       "    \"asn_rule\": \"Asn_Lv2Spec\",\n",
       "    \"version_id\": null,\n",
       "    \"code_version\": \"0.7.1.beta5\",\n",
       "    \"program\": \"99009\",\n",
       "    \"target\": \"1\",\n",
       "    \"asn_pool\": \"pool_010_spec_nirspec_lv2bkg\",\n",
       "    \"constraints\": \"Constraints:\\n    single_science: False\\n    exp_type: nrs_fixedslit\\n    program: 99009\\n    instrument: nirspec\\n    detector: nrs1\\n    opt_elem: f100lp\\n    opt_elem2: g140m\\n    subarray: s200a2\\n    channel: None\",\n",
       "    \"asn_id\": \"a3001\",\n",
       "    \"products\": [\n",
       "        {\n",
       "            \"name\": \"jw_00005\",\n",
       "            \"members\": [\n",
       "                {\n",
       "                    \"expname\": \"jw_00001_rate.fits\",\n",
       "                    \"exptype\": \"background\"\n",
       "                },\n",
       "                {\n",
       "                    \"expname\": \"jw_00005_rate.fits\",\n",
       "                    \"exptype\": \"science\"\n",
       "                }\n",
       "            ]\n",
       "        },\n",
       "        {\n",
       "            \"name\": \"jw_00006\",\n",
       "            \"members\": [\n",
       "                {\n",
       "                    \"expname\": \"jw_00002_rate.fits\",\n",
       "                    \"exptype\": \"background\"\n",
       "                },\n",
       "                {\n",
       "                    \"expname\": \"jw_00006_rate.fits\",\n",
       "                    \"exptype\": \"science\"\n",
       "                }\n",
       "            ]\n",
       "        },\n",
       "        {\n",
       "            \"name\": \"jw_00012\",\n",
       "            \"members\": [\n",
       "                {\n",
       "                    \"expname\": \"jw_00003_rate.fits\",\n",
       "                    \"exptype\": \"background\"\n",
       "                },\n",
       "                {\n",
       "                    \"expname\": \"jw_00012_rate.fits\",\n",
       "                    \"exptype\": \"science\"\n",
       "                }\n",
       "            ]\n",
       "        },\n",
       "        {\n",
       "            \"name\": \"jw_00013\",\n",
       "            \"members\": [\n",
       "                {\n",
       "                    \"expname\": \"jw_00004_rate.fits\",\n",
       "                    \"exptype\": \"background\"\n",
       "                },\n",
       "                {\n",
       "                    \"expname\": \"jw_00013_rate.fits\",\n",
       "                    \"exptype\": \"science\"\n",
       "                }\n",
       "            ]\n",
       "        }\n",
       "    ]\n",
       "}"
      ]
     },
     "execution_count": 12,
     "metadata": {},
     "output_type": "execute_result"
    }
   ],
   "source": [
    "asn"
   ]
  },
  {
   "cell_type": "code",
   "execution_count": 13,
   "metadata": {},
   "outputs": [
    {
     "name": "stdout",
     "output_type": "stream",
     "text": [
      "expname jw_00001_rate.fits: exptype background\n",
      "expname jw_00005_rate.fits: exptype science\n",
      "expname jw_00002_rate.fits: exptype background\n",
      "expname jw_00006_rate.fits: exptype science\n",
      "expname jw_00003_rate.fits: exptype background\n",
      "expname jw_00012_rate.fits: exptype science\n",
      "expname jw_00004_rate.fits: exptype background\n",
      "expname jw_00013_rate.fits: exptype science\n"
     ]
    }
   ],
   "source": [
    "for product in asn['products']:\n",
    "    for member in product['members']:\n",
    "        print('expname {}: exptype {}'.format(member['expname'], member['exptype']))"
   ]
  },
  {
   "cell_type": "markdown",
   "metadata": {
    "collapsed": true
   },
   "source": [
    "## Pool with backgrounds after science"
   ]
  },
  {
   "cell_type": "code",
   "execution_count": 14,
   "metadata": {
    "collapsed": true
   },
   "outputs": [],
   "source": [
    "pool_post_bkg = combine_pools('../data/pool_015_spec_nirspec_lv2bkg_reversed.csv')"
   ]
  },
  {
   "cell_type": "code",
   "execution_count": 15,
   "metadata": {
    "scrolled": true
   },
   "outputs": [
    {
     "data": {
      "text/html": [
       "&lt;AssociationPool length=20&gt;\n",
       "<table id=\"table4541395240\" class=\"table-striped table-bordered table-condensed\">\n",
       "<thead><tr><th>filename</th><th>exp_type</th><th>background</th></tr></thead>\n",
       "<thead><tr><th>str19</th><th>str13</th><th>str10</th></tr></thead>\n",
       "<tr><td>set acid</td><td>exp_type</td><td>null</td></tr>\n",
       "<tr><td>jw_00001_uncal.fits</td><td>nrs_fixedslit</td><td>null</td></tr>\n",
       "<tr><td>jw_00002_uncal.fits</td><td>nrs_fixedslit</td><td>null</td></tr>\n",
       "<tr><td>jw_00003_uncal.fits</td><td>nrs_taconfirm</td><td>null</td></tr>\n",
       "<tr><td>jw_00004_uncal.fits</td><td>nrs_confirm</td><td>null</td></tr>\n",
       "<tr><td>jw_00005_uncal.fits</td><td>nrs_taslit</td><td>null</td></tr>\n",
       "<tr><td>jw_00006_uncal.fits</td><td>nrs_tacq</td><td>null</td></tr>\n",
       "<tr><td>jw_00007_uncal.fits</td><td>nrs_autowave</td><td>null</td></tr>\n",
       "<tr><td>jw_00008_uncal.fits</td><td>nrs_ifu</td><td>null</td></tr>\n",
       "<tr><td>jw_00009_uncal.fits</td><td>nrs_ifu</td><td>null</td></tr>\n",
       "<tr><td>jw_00010_uncal.fits</td><td>nrs_taslit</td><td>null</td></tr>\n",
       "<tr><td>jw_00011_uncal.fits</td><td>nrs_tacq</td><td>null</td></tr>\n",
       "<tr><td>jw_00012_uncal.fits</td><td>nrs_taconfirm</td><td>null</td></tr>\n",
       "<tr><td>jw_00013_uncal.fits</td><td>nrs_confirm</td><td>null</td></tr>\n",
       "<tr><td>jw_00014_uncal.fits</td><td>nrs_autowave</td><td>null</td></tr>\n",
       "<tr><td>jw_00015_uncal.fits</td><td>nrs_fixedslit</td><td>background</td></tr>\n",
       "<tr><td>jw_00016_uncal.fits</td><td>nrs_fixedslit</td><td>background</td></tr>\n",
       "<tr><td>jw_00017_uncal.fits</td><td>nrs_ifu</td><td>background</td></tr>\n",
       "<tr><td>jw_00018_uncal.fits</td><td>nrs_ifu</td><td>background</td></tr>\n",
       "<tr><td>set acid</td><td>exp_type</td><td>null</td></tr>\n",
       "</table>"
      ],
      "text/plain": [
       "<AssociationPool length=20>\n",
       "      filename         exp_type   background\n",
       "       str19            str13       str10   \n",
       "------------------- ------------- ----------\n",
       "           set acid      exp_type       null\n",
       "jw_00001_uncal.fits nrs_fixedslit       null\n",
       "jw_00002_uncal.fits nrs_fixedslit       null\n",
       "jw_00003_uncal.fits nrs_taconfirm       null\n",
       "jw_00004_uncal.fits   nrs_confirm       null\n",
       "jw_00005_uncal.fits    nrs_taslit       null\n",
       "jw_00006_uncal.fits      nrs_tacq       null\n",
       "jw_00007_uncal.fits  nrs_autowave       null\n",
       "jw_00008_uncal.fits       nrs_ifu       null\n",
       "jw_00009_uncal.fits       nrs_ifu       null\n",
       "jw_00010_uncal.fits    nrs_taslit       null\n",
       "jw_00011_uncal.fits      nrs_tacq       null\n",
       "jw_00012_uncal.fits nrs_taconfirm       null\n",
       "jw_00013_uncal.fits   nrs_confirm       null\n",
       "jw_00014_uncal.fits  nrs_autowave       null\n",
       "jw_00015_uncal.fits nrs_fixedslit background\n",
       "jw_00016_uncal.fits nrs_fixedslit background\n",
       "jw_00017_uncal.fits       nrs_ifu background\n",
       "jw_00018_uncal.fits       nrs_ifu background\n",
       "           set acid      exp_type       null"
      ]
     },
     "execution_count": 15,
     "metadata": {},
     "output_type": "execute_result"
    }
   ],
   "source": [
    "pool_post_bkg['filename', 'exp_type', 'background']"
   ]
  },
  {
   "cell_type": "code",
   "execution_count": 16,
   "metadata": {},
   "outputs": [
    {
     "name": "stderr",
     "output_type": "stream",
     "text": [
      "201709111211:WARNING:jwst.associations.lib.rules_level2_base.rename_to_level2a:Item FILENAME=\"set acid\" is not a Level 1b name. Cannot transform to Level 2a.\n",
      "201709111211:WARNING:jwst.associations.lib.rules_level2_base.rename_to_level2a:Item FILENAME=\"set acid\" is not a Level 1b name. Cannot transform to Level 2a.\n",
      "201709111211:WARNING:jwst.associations.lib.rules_level2_base.rename_to_level2a:Item FILENAME=\"set acid\" is not a Level 1b name. Cannot transform to Level 2a.\n",
      "201709111211:WARNING:jwst.associations.lib.rules_level2_base.rename_to_level2a:Item FILENAME=\"set acid\" is not a Level 1b name. Cannot transform to Level 2a.\n",
      "201709111211:WARNING:jwst.associations.lib.rules_level2_base.rename_to_level2a:Item FILENAME=\"set acid\" is not a Level 1b name. Cannot transform to Level 2a.\n",
      "201709111211:WARNING:jwst.associations.lib.rules_level2_base.rename_to_level2a:Item FILENAME=\"set acid\" is not a Level 1b name. Cannot transform to Level 2a.\n",
      "201709111211:WARNING:jwst.associations.lib.rules_level2_base.rename_to_level2a:Item FILENAME=\"set acid\" is not a Level 1b name. Cannot transform to Level 2a.\n",
      "201709111211:WARNING:jwst.associations.lib.rules_level2_base.rename_to_level2a:Item FILENAME=\"set acid\" is not a Level 1b name. Cannot transform to Level 2a.\n"
     ]
    }
   ],
   "source": [
    "asns_post_bkg, orphaned = generate(pool_post_bkg, reg_lvl2)"
   ]
  },
  {
   "cell_type": "code",
   "execution_count": 17,
   "metadata": {
    "collapsed": true
   },
   "outputs": [],
   "source": [
    "asn_post_bkg = asns_post_bkg[0]"
   ]
  },
  {
   "cell_type": "code",
   "execution_count": 18,
   "metadata": {},
   "outputs": [
    {
     "data": {
      "text/plain": [
       "{\n",
       "    \"asn_type\": \"spec2\",\n",
       "    \"asn_rule\": \"Asn_Lv2Spec\",\n",
       "    \"version_id\": null,\n",
       "    \"code_version\": \"0.7.1.beta5\",\n",
       "    \"program\": \"99009\",\n",
       "    \"target\": \"1\",\n",
       "    \"asn_pool\": \"pool_015_spec_nirspec_lv2bkg_reversed\",\n",
       "    \"constraints\": \"Constraints:\\n    single_science: False\\n    exp_type: nrs_fixedslit\\n    program: 99009\\n    instrument: nirspec\\n    detector: nrs1\\n    opt_elem: f100lp\\n    opt_elem2: g140m\\n    subarray: s200a2\\n    channel: None\",\n",
       "    \"asn_id\": \"a3001\",\n",
       "    \"products\": [\n",
       "        {\n",
       "            \"name\": \"jw_00001\",\n",
       "            \"members\": [\n",
       "                {\n",
       "                    \"expname\": \"jw_00001_rate.fits\",\n",
       "                    \"exptype\": \"science\"\n",
       "                },\n",
       "                {\n",
       "                    \"expname\": \"jw_00015_rate.fits\",\n",
       "                    \"exptype\": \"background\"\n",
       "                }\n",
       "            ]\n",
       "        },\n",
       "        {\n",
       "            \"name\": \"jw_00002\",\n",
       "            \"members\": [\n",
       "                {\n",
       "                    \"expname\": \"jw_00002_rate.fits\",\n",
       "                    \"exptype\": \"science\"\n",
       "                },\n",
       "                {\n",
       "                    \"expname\": \"jw_00016_rate.fits\",\n",
       "                    \"exptype\": \"background\"\n",
       "                }\n",
       "            ]\n",
       "        },\n",
       "        {\n",
       "            \"name\": \"jw_00008\",\n",
       "            \"members\": [\n",
       "                {\n",
       "                    \"expname\": \"jw_00008_rate.fits\",\n",
       "                    \"exptype\": \"science\"\n",
       "                },\n",
       "                {\n",
       "                    \"expname\": \"jw_00017_rate.fits\",\n",
       "                    \"exptype\": \"background\"\n",
       "                }\n",
       "            ]\n",
       "        },\n",
       "        {\n",
       "            \"name\": \"jw_00009\",\n",
       "            \"members\": [\n",
       "                {\n",
       "                    \"expname\": \"jw_00009_rate.fits\",\n",
       "                    \"exptype\": \"science\"\n",
       "                },\n",
       "                {\n",
       "                    \"expname\": \"jw_00018_rate.fits\",\n",
       "                    \"exptype\": \"background\"\n",
       "                }\n",
       "            ]\n",
       "        }\n",
       "    ]\n",
       "}"
      ]
     },
     "execution_count": 18,
     "metadata": {},
     "output_type": "execute_result"
    }
   ],
   "source": [
    "asn_post_bkg"
   ]
  },
  {
   "cell_type": "code",
   "execution_count": 19,
   "metadata": {},
   "outputs": [
    {
     "name": "stdout",
     "output_type": "stream",
     "text": [
      "expname jw_00001_rate.fits: exptype science\n",
      "expname jw_00015_rate.fits: exptype background\n",
      "expname jw_00002_rate.fits: exptype science\n",
      "expname jw_00016_rate.fits: exptype background\n",
      "expname jw_00008_rate.fits: exptype science\n",
      "expname jw_00017_rate.fits: exptype background\n",
      "expname jw_00009_rate.fits: exptype science\n",
      "expname jw_00018_rate.fits: exptype background\n"
     ]
    }
   ],
   "source": [
    "for product in asn_post_bkg['products']:\n",
    "    for member in product['members']:\n",
    "        print('expname {}: exptype {}'.format(member['expname'], member['exptype']))"
   ]
  },
  {
   "cell_type": "markdown",
   "metadata": {
    "collapsed": true
   },
   "source": [
    "## Pool with backgrounds before and after science"
   ]
  },
  {
   "cell_type": "code",
   "execution_count": 20,
   "metadata": {
    "collapsed": true
   },
   "outputs": [],
   "source": [
    "pool_both_bkg = combine_pools('../data/pool_016_spec_nirspec_lv2bkg_double.csv')"
   ]
  },
  {
   "cell_type": "code",
   "execution_count": 21,
   "metadata": {
    "scrolled": true
   },
   "outputs": [
    {
     "data": {
      "text/html": [
       "&lt;AssociationPool length=24&gt;\n",
       "<table id=\"table4541353600\" class=\"table-striped table-bordered table-condensed\">\n",
       "<thead><tr><th>filename</th><th>exp_type</th><th>background</th></tr></thead>\n",
       "<thead><tr><th>str19</th><th>str13</th><th>str10</th></tr></thead>\n",
       "<tr><td>set acid</td><td>exp_type</td><td>null</td></tr>\n",
       "<tr><td>jw_00001_uncal.fits</td><td>nrs_fixedslit</td><td>background</td></tr>\n",
       "<tr><td>jw_00002_uncal.fits</td><td>nrs_fixedslit</td><td>background</td></tr>\n",
       "<tr><td>jw_00003_uncal.fits</td><td>nrs_ifu</td><td>background</td></tr>\n",
       "<tr><td>jw_00004_uncal.fits</td><td>nrs_ifu</td><td>background</td></tr>\n",
       "<tr><td>jw_00005_uncal.fits</td><td>nrs_fixedslit</td><td>null</td></tr>\n",
       "<tr><td>jw_00006_uncal.fits</td><td>nrs_fixedslit</td><td>null</td></tr>\n",
       "<tr><td>jw_00007_uncal.fits</td><td>nrs_taconfirm</td><td>null</td></tr>\n",
       "<tr><td>jw_00008_uncal.fits</td><td>nrs_confirm</td><td>null</td></tr>\n",
       "<tr><td>jw_00009_uncal.fits</td><td>nrs_taslit</td><td>null</td></tr>\n",
       "<tr><td>...</td><td>...</td><td>...</td></tr>\n",
       "<tr><td>jw_00014_uncal.fits</td><td>nrs_taslit</td><td>null</td></tr>\n",
       "<tr><td>jw_00015_uncal.fits</td><td>nrs_tacq</td><td>null</td></tr>\n",
       "<tr><td>jw_00016_uncal.fits</td><td>nrs_taconfirm</td><td>null</td></tr>\n",
       "<tr><td>jw_00017_uncal.fits</td><td>nrs_confirm</td><td>null</td></tr>\n",
       "<tr><td>jw_00018_uncal.fits</td><td>nrs_autowave</td><td>null</td></tr>\n",
       "<tr><td>jw_00019_uncal.fits</td><td>nrs_fixedslit</td><td>background</td></tr>\n",
       "<tr><td>jw_00020_uncal.fits</td><td>nrs_fixedslit</td><td>background</td></tr>\n",
       "<tr><td>jw_00021_uncal.fits</td><td>nrs_ifu</td><td>background</td></tr>\n",
       "<tr><td>jw_00022_uncal.fits</td><td>nrs_ifu</td><td>background</td></tr>\n",
       "<tr><td>set acid</td><td>exp_type</td><td>null</td></tr>\n",
       "</table>"
      ],
      "text/plain": [
       "<AssociationPool length=24>\n",
       "      filename         exp_type   background\n",
       "       str19            str13       str10   \n",
       "------------------- ------------- ----------\n",
       "           set acid      exp_type       null\n",
       "jw_00001_uncal.fits nrs_fixedslit background\n",
       "jw_00002_uncal.fits nrs_fixedslit background\n",
       "jw_00003_uncal.fits       nrs_ifu background\n",
       "jw_00004_uncal.fits       nrs_ifu background\n",
       "jw_00005_uncal.fits nrs_fixedslit       null\n",
       "jw_00006_uncal.fits nrs_fixedslit       null\n",
       "jw_00007_uncal.fits nrs_taconfirm       null\n",
       "jw_00008_uncal.fits   nrs_confirm       null\n",
       "jw_00009_uncal.fits    nrs_taslit       null\n",
       "                ...           ...        ...\n",
       "jw_00014_uncal.fits    nrs_taslit       null\n",
       "jw_00015_uncal.fits      nrs_tacq       null\n",
       "jw_00016_uncal.fits nrs_taconfirm       null\n",
       "jw_00017_uncal.fits   nrs_confirm       null\n",
       "jw_00018_uncal.fits  nrs_autowave       null\n",
       "jw_00019_uncal.fits nrs_fixedslit background\n",
       "jw_00020_uncal.fits nrs_fixedslit background\n",
       "jw_00021_uncal.fits       nrs_ifu background\n",
       "jw_00022_uncal.fits       nrs_ifu background\n",
       "           set acid      exp_type       null"
      ]
     },
     "execution_count": 21,
     "metadata": {},
     "output_type": "execute_result"
    }
   ],
   "source": [
    "pool_both_bkg['filename', 'exp_type', 'background']"
   ]
  },
  {
   "cell_type": "code",
   "execution_count": 22,
   "metadata": {},
   "outputs": [
    {
     "name": "stderr",
     "output_type": "stream",
     "text": [
      "201709111211:WARNING:jwst.associations.lib.rules_level2_base.rename_to_level2a:Item FILENAME=\"set acid\" is not a Level 1b name. Cannot transform to Level 2a.\n",
      "201709111211:WARNING:jwst.associations.lib.rules_level2_base.rename_to_level2a:Item FILENAME=\"set acid\" is not a Level 1b name. Cannot transform to Level 2a.\n",
      "201709111211:WARNING:jwst.associations.lib.rules_level2_base.rename_to_level2a:Item FILENAME=\"set acid\" is not a Level 1b name. Cannot transform to Level 2a.\n",
      "201709111211:WARNING:jwst.associations.lib.rules_level2_base.rename_to_level2a:Item FILENAME=\"set acid\" is not a Level 1b name. Cannot transform to Level 2a.\n",
      "201709111211:WARNING:jwst.associations.lib.rules_level2_base.rename_to_level2a:Item FILENAME=\"set acid\" is not a Level 1b name. Cannot transform to Level 2a.\n",
      "201709111211:WARNING:jwst.associations.lib.rules_level2_base.rename_to_level2a:Item FILENAME=\"set acid\" is not a Level 1b name. Cannot transform to Level 2a.\n",
      "201709111211:WARNING:jwst.associations.lib.rules_level2_base.rename_to_level2a:Item FILENAME=\"set acid\" is not a Level 1b name. Cannot transform to Level 2a.\n",
      "201709111211:WARNING:jwst.associations.lib.rules_level2_base.rename_to_level2a:Item FILENAME=\"set acid\" is not a Level 1b name. Cannot transform to Level 2a.\n"
     ]
    }
   ],
   "source": [
    "asns_both_bkg, orphaned = generate(pool_both_bkg, reg_lvl2)"
   ]
  },
  {
   "cell_type": "code",
   "execution_count": 23,
   "metadata": {
    "collapsed": true
   },
   "outputs": [],
   "source": [
    "asn_both_bkg = asns_both_bkg[0]"
   ]
  },
  {
   "cell_type": "code",
   "execution_count": 24,
   "metadata": {},
   "outputs": [
    {
     "data": {
      "text/plain": [
       "{\n",
       "    \"asn_type\": \"spec2\",\n",
       "    \"asn_rule\": \"Asn_Lv2Spec\",\n",
       "    \"version_id\": null,\n",
       "    \"code_version\": \"0.7.1.beta5\",\n",
       "    \"program\": \"99009\",\n",
       "    \"target\": \"1\",\n",
       "    \"asn_pool\": \"pool_016_spec_nirspec_lv2bkg_double\",\n",
       "    \"constraints\": \"Constraints:\\n    single_science: False\\n    exp_type: nrs_fixedslit\\n    program: 99009\\n    instrument: nirspec\\n    detector: nrs1\\n    opt_elem: f100lp\\n    opt_elem2: g140m\\n    subarray: s200a2\\n    channel: None\",\n",
       "    \"asn_id\": \"a3001\",\n",
       "    \"products\": [\n",
       "        {\n",
       "            \"name\": \"jw_00005\",\n",
       "            \"members\": [\n",
       "                {\n",
       "                    \"expname\": \"jw_00001_rate.fits\",\n",
       "                    \"exptype\": \"background\"\n",
       "                },\n",
       "                {\n",
       "                    \"expname\": \"jw_00005_rate.fits\",\n",
       "                    \"exptype\": \"science\"\n",
       "                },\n",
       "                {\n",
       "                    \"expname\": \"jw_00019_rate.fits\",\n",
       "                    \"exptype\": \"background\"\n",
       "                }\n",
       "            ]\n",
       "        },\n",
       "        {\n",
       "            \"name\": \"jw_00006\",\n",
       "            \"members\": [\n",
       "                {\n",
       "                    \"expname\": \"jw_00002_rate.fits\",\n",
       "                    \"exptype\": \"background\"\n",
       "                },\n",
       "                {\n",
       "                    \"expname\": \"jw_00006_rate.fits\",\n",
       "                    \"exptype\": \"science\"\n",
       "                },\n",
       "                {\n",
       "                    \"expname\": \"jw_00020_rate.fits\",\n",
       "                    \"exptype\": \"background\"\n",
       "                }\n",
       "            ]\n",
       "        },\n",
       "        {\n",
       "            \"name\": \"jw_00012\",\n",
       "            \"members\": [\n",
       "                {\n",
       "                    \"expname\": \"jw_00003_rate.fits\",\n",
       "                    \"exptype\": \"background\"\n",
       "                },\n",
       "                {\n",
       "                    \"expname\": \"jw_00012_rate.fits\",\n",
       "                    \"exptype\": \"science\"\n",
       "                },\n",
       "                {\n",
       "                    \"expname\": \"jw_00021_rate.fits\",\n",
       "                    \"exptype\": \"background\"\n",
       "                }\n",
       "            ]\n",
       "        },\n",
       "        {\n",
       "            \"name\": \"jw_00013\",\n",
       "            \"members\": [\n",
       "                {\n",
       "                    \"expname\": \"jw_00004_rate.fits\",\n",
       "                    \"exptype\": \"background\"\n",
       "                },\n",
       "                {\n",
       "                    \"expname\": \"jw_00013_rate.fits\",\n",
       "                    \"exptype\": \"science\"\n",
       "                },\n",
       "                {\n",
       "                    \"expname\": \"jw_00022_rate.fits\",\n",
       "                    \"exptype\": \"background\"\n",
       "                }\n",
       "            ]\n",
       "        }\n",
       "    ]\n",
       "}"
      ]
     },
     "execution_count": 24,
     "metadata": {},
     "output_type": "execute_result"
    }
   ],
   "source": [
    "asn_both_bkg"
   ]
  },
  {
   "cell_type": "code",
   "execution_count": 25,
   "metadata": {},
   "outputs": [
    {
     "name": "stdout",
     "output_type": "stream",
     "text": [
      "expname jw_00001_rate.fits: exptype background\n",
      "expname jw_00005_rate.fits: exptype science\n",
      "expname jw_00019_rate.fits: exptype background\n",
      "expname jw_00002_rate.fits: exptype background\n",
      "expname jw_00006_rate.fits: exptype science\n",
      "expname jw_00020_rate.fits: exptype background\n",
      "expname jw_00003_rate.fits: exptype background\n",
      "expname jw_00012_rate.fits: exptype science\n",
      "expname jw_00021_rate.fits: exptype background\n",
      "expname jw_00004_rate.fits: exptype background\n",
      "expname jw_00013_rate.fits: exptype science\n",
      "expname jw_00022_rate.fits: exptype background\n"
     ]
    }
   ],
   "source": [
    "for product in asn_both_bkg['products']:\n",
    "    for member in product['members']:\n",
    "        print('expname {}: exptype {}'.format(member['expname'], member['exptype']))"
   ]
  },
  {
   "cell_type": "code",
   "execution_count": null,
   "metadata": {
    "collapsed": true
   },
   "outputs": [],
   "source": []
  }
 ],
 "metadata": {
  "anaconda-cloud": {},
  "kernelspec": {
   "display_name": "Python 3",
   "language": "python",
   "name": "python3"
  },
  "language_info": {
   "codemirror_mode": {
    "name": "ipython",
    "version": 3
   },
   "file_extension": ".py",
   "mimetype": "text/x-python",
   "name": "python",
   "nbconvert_exporter": "python",
   "pygments_lexer": "ipython3",
   "version": "3.6.2"
  }
 },
 "nbformat": 4,
 "nbformat_minor": 2
}
