{
 "cells": [
  {
   "cell_type": "markdown",
   "metadata": {},
   "source": [
    "# Abstract"
   ]
  },
  {
   "cell_type": "markdown",
   "metadata": {},
   "source": [
    "Test candidates and discovery"
   ]
  },
  {
   "cell_type": "markdown",
   "metadata": {},
   "source": [
    "# Environment"
   ]
  },
  {
   "cell_type": "code",
   "execution_count": 1,
   "metadata": {},
   "outputs": [],
   "source": [
    "## Setup debugging log\n",
    "import logging\n",
    "logger = logging.getLogger('jwst.associations')\n",
    "handler = logging.StreamHandler()\n",
    "logger.addHandler(handler)\n",
    "handler.setLevel(logging.INFO)\n",
    "logger.setLevel(logging.INFO)"
   ]
  },
  {
   "cell_type": "code",
   "execution_count": 2,
   "metadata": {},
   "outputs": [],
   "source": [
    "import pdb"
   ]
  },
  {
   "cell_type": "code",
   "execution_count": 3,
   "metadata": {},
   "outputs": [
    {
     "name": "stdout",
     "output_type": "stream",
     "text": [
      "['/Users/ddavis/src/JWST/scsb/jwst/jwst/associations/tests/notebooks', '/Users/ddavis/src/python', '/Users/ddavis/src/JWST/jwstsdp/jwst/src/scripts', '/Users/ddavis/src/JWST/jwstsdp/common/src/scripts', '/Users/ddavis/src/JWST/jwstsdp/jwst/tools/xml_to_prd', '/anaconda3/lib/python37.zip', '/anaconda3/lib/python3.7', '/anaconda3/lib/python3.7/lib-dynload', '', '/anaconda3/lib/python3.7/site-packages', '/anaconda3/lib/python3.7/site-packages/aeosa', '/anaconda3/lib/python3.7/site-packages/IPython/extensions', '/Users/ddavis/.ipython']\n"
     ]
    }
   ],
   "source": [
    "import sys\n",
    "print(sys.path)\n",
    "sys.path.append(\"/Users/ddavis/src/JWST/scsb/jwst\")"
   ]
  },
  {
   "cell_type": "code",
   "execution_count": 4,
   "metadata": {},
   "outputs": [],
   "source": [
    "from jwst.associations.tests.helpers import (\n",
    "    combine_pools,\n",
    "    registry_level2_only,\n",
    "    registry_level3_only,\n",
    ")"
   ]
  },
  {
   "cell_type": "code",
   "execution_count": 5,
   "metadata": {},
   "outputs": [],
   "source": [
    "from jwst.associations.main import Main\n",
    "from jwst.associations import generate"
   ]
  },
  {
   "cell_type": "markdown",
   "metadata": {},
   "source": [
    "# Library"
   ]
  },
  {
   "cell_type": "markdown",
   "metadata": {},
   "source": [
    "# Main"
   ]
  },
  {
   "cell_type": "markdown",
   "metadata": {},
   "source": [
    "## One-liner pool"
   ]
  },
  {
   "cell_type": "code",
   "execution_count": 6,
   "metadata": {},
   "outputs": [],
   "source": [
    "pool_single = combine_pools('/Users/ddavis/src/JWST/JP-525/jw00623_pool.csv')"
   ]
  },
  {
   "cell_type": "code",
   "execution_count": 18,
   "metadata": {},
   "outputs": [
    {
     "data": {
      "text/html": [
       "<i>AssociationPool length=28</i>\n",
       "<table id=\"table4812125408\" class=\"table-striped table-bordered table-condensed\">\n",
       "<thead><tr><th>filename</th><th>obs_id</th><th>program</th><th>obs_num</th><th>visit</th><th>visit_id</th><th>visitgrp</th><th>visitype</th><th>seq_id</th><th>act_id</th><th>exposure</th><th>exp_type</th><th>nexposur</th><th>expcount</th><th>instrume</th><th>detector</th><th>channel</th><th>targetid</th><th>targprop</th><th>targname</th><th>targtype</th><th>template</th><th>pntgtype</th><th>pntg_seq</th><th>targordn</th><th>expspcin</th><th>dithptin</th><th>mostilno</th><th>module</th><th>filter</th><th>pupil</th><th>ditherid</th><th>patttype</th><th>pattstrt</th><th>numdthpt</th><th>pattsize</th><th>subpxpns</th><th>patt_num</th><th>subpxnum</th><th>subpixel</th><th>apername</th><th>sdp_ver</th><th>subarray</th><th>grating</th><th>fxd_slit</th><th>band</th><th>gwa_xtil</th><th>gwa_ytil</th><th>asn_candidate</th><th>exposerr</th><th>is_psf</th><th>is_imprt</th><th>bkgdtarg</th><th>tsovisit</th><th>msastate</th><th>msametfl</th></tr></thead>\n",
       "<thead><tr><th>str48</th><th>str26</th><th>str3</th><th>str1</th><th>str1</th><th>str9</th><th>str1</th><th>str20</th><th>str1</th><th>str2</th><th>str1</th><th>str17</th><th>str1</th><th>str1</th><th>str4</th><th>str11</th><th>str4</th><th>str1</th><th>str25</th><th>str4</th><th>str5</th><th>str35</th><th>str7</th><th>str1</th><th>str1</th><th>str1</th><th>str1</th><th>str1</th><th>str4</th><th>str5</th><th>str4</th><th>str1</th><th>str14</th><th>str1</th><th>str1</th><th>str4</th><th>str4</th><th>str1</th><th>str1</th><th>str4</th><th>str16</th><th>str7</th><th>str4</th><th>str4</th><th>str4</th><th>str6</th><th>str4</th><th>str4</th><th>str70</th><th>str4</th><th>str4</th><th>str4</th><th>str1</th><th>str1</th><th>str4</th><th>str4</th></tr></thead>\n",
       "<tr><td>jw00623001001_03102_00002_mirifushort_uncal.fits</td><td>v00623001001p0000000003102</td><td>623</td><td>1</td><td>1</td><td>623001001</td><td>3</td><td>prime_targeted_fixed</td><td>1</td><td>2</td><td>2</td><td>mir_mrs</td><td>7</td><td>2</td><td>miri</td><td>mirifushort</td><td>12</td><td>3</td><td>fake-southpole-sky2</td><td>null</td><td>fixed</td><td>miri medium resolution spectroscopy</td><td>science</td><td>2</td><td>1</td><td>1</td><td>1</td><td>1</td><td>null</td><td>n/a</td><td>null</td><td>1</td><td>2-point</td><td>1</td><td>2</td><td>null</td><td>null</td><td>1</td><td>0</td><td>null</td><td>mirifu_channel1a</td><td>2018_2a</td><td>full</td><td>null</td><td>null</td><td>short</td><td>null</td><td>null</td><td>[(&apos;c1000&apos;, &apos;group&apos;), (&apos;c1001&apos;, &apos;background&apos;), (&apos;o001&apos;, &apos;observation&apos;)]</td><td>null</td><td>null</td><td>null</td><td>f</td><td>f</td><td>null</td><td>null</td></tr>\n",
       "<tr><td>jw00623001001_03104_00002_mirifushort_uncal.fits</td><td>v00623001001p0000000003104</td><td>623</td><td>1</td><td>1</td><td>623001001</td><td>3</td><td>prime_targeted_fixed</td><td>1</td><td>4</td><td>2</td><td>mir_mrs</td><td>7</td><td>3</td><td>miri</td><td>mirifushort</td><td>12</td><td>3</td><td>fake-southpole-sky2</td><td>null</td><td>fixed</td><td>miri medium resolution spectroscopy</td><td>science</td><td>3</td><td>1</td><td>1</td><td>2</td><td>1</td><td>null</td><td>n/a</td><td>null</td><td>1</td><td>2-point</td><td>1</td><td>2</td><td>null</td><td>null</td><td>2</td><td>0</td><td>null</td><td>mirifu_channel1a</td><td>2018_2a</td><td>full</td><td>null</td><td>null</td><td>short</td><td>null</td><td>null</td><td>[(&apos;c1000&apos;, &apos;group&apos;), (&apos;c1001&apos;, &apos;background&apos;), (&apos;o001&apos;, &apos;observation&apos;)]</td><td>null</td><td>null</td><td>null</td><td>f</td><td>f</td><td>null</td><td>null</td></tr>\n",
       "<tr><td>jw00623001001_03106_00002_mirifushort_uncal.fits</td><td>v00623001001p0000000003106</td><td>623</td><td>1</td><td>1</td><td>623001001</td><td>3</td><td>prime_targeted_fixed</td><td>1</td><td>6</td><td>2</td><td>mir_mrs</td><td>7</td><td>4</td><td>miri</td><td>mirifushort</td><td>12</td><td>3</td><td>fake-southpole-sky2</td><td>null</td><td>fixed</td><td>miri medium resolution spectroscopy</td><td>science</td><td>4</td><td>1</td><td>2</td><td>1</td><td>1</td><td>null</td><td>n/a</td><td>null</td><td>1</td><td>2-point</td><td>1</td><td>2</td><td>null</td><td>null</td><td>1</td><td>0</td><td>null</td><td>mirifu_channel1a</td><td>2018_2a</td><td>full</td><td>null</td><td>null</td><td>medium</td><td>null</td><td>null</td><td>[(&apos;c1000&apos;, &apos;group&apos;), (&apos;c1001&apos;, &apos;background&apos;), (&apos;o001&apos;, &apos;observation&apos;)]</td><td>null</td><td>null</td><td>null</td><td>f</td><td>f</td><td>null</td><td>null</td></tr>\n",
       "<tr><td>jw00623001001_03108_00002_mirifushort_uncal.fits</td><td>v00623001001p0000000003108</td><td>623</td><td>1</td><td>1</td><td>623001001</td><td>3</td><td>prime_targeted_fixed</td><td>1</td><td>8</td><td>2</td><td>mir_mrs</td><td>7</td><td>5</td><td>miri</td><td>mirifushort</td><td>12</td><td>3</td><td>fake-southpole-sky2</td><td>null</td><td>fixed</td><td>miri medium resolution spectroscopy</td><td>science</td><td>5</td><td>1</td><td>2</td><td>2</td><td>1</td><td>null</td><td>n/a</td><td>null</td><td>1</td><td>2-point</td><td>1</td><td>2</td><td>null</td><td>null</td><td>2</td><td>0</td><td>null</td><td>mirifu_channel1a</td><td>2018_2a</td><td>full</td><td>null</td><td>null</td><td>medium</td><td>null</td><td>null</td><td>[(&apos;c1000&apos;, &apos;group&apos;), (&apos;c1001&apos;, &apos;background&apos;), (&apos;o001&apos;, &apos;observation&apos;)]</td><td>null</td><td>null</td><td>null</td><td>f</td><td>f</td><td>null</td><td>null</td></tr>\n",
       "<tr><td>jw00623001001_03110_00002_mirifushort_uncal.fits</td><td>v00623001001p0000000003110</td><td>623</td><td>1</td><td>1</td><td>623001001</td><td>3</td><td>prime_targeted_fixed</td><td>1</td><td>10</td><td>2</td><td>mir_mrs</td><td>7</td><td>6</td><td>miri</td><td>mirifushort</td><td>12</td><td>3</td><td>fake-southpole-sky2</td><td>null</td><td>fixed</td><td>miri medium resolution spectroscopy</td><td>science</td><td>6</td><td>1</td><td>3</td><td>1</td><td>1</td><td>null</td><td>n/a</td><td>null</td><td>1</td><td>2-point</td><td>1</td><td>2</td><td>null</td><td>null</td><td>1</td><td>0</td><td>null</td><td>mirifu_channel1a</td><td>2018_2a</td><td>full</td><td>null</td><td>null</td><td>long</td><td>null</td><td>null</td><td>[(&apos;c1000&apos;, &apos;group&apos;), (&apos;c1001&apos;, &apos;background&apos;), (&apos;o001&apos;, &apos;observation&apos;)]</td><td>null</td><td>null</td><td>null</td><td>f</td><td>f</td><td>null</td><td>null</td></tr>\n",
       "<tr><td>jw00623001001_03112_00002_mirifushort_uncal.fits</td><td>v00623001001p0000000003112</td><td>623</td><td>1</td><td>1</td><td>623001001</td><td>3</td><td>prime_targeted_fixed</td><td>1</td><td>12</td><td>2</td><td>mir_mrs</td><td>7</td><td>7</td><td>miri</td><td>mirifushort</td><td>12</td><td>3</td><td>fake-southpole-sky2</td><td>null</td><td>fixed</td><td>miri medium resolution spectroscopy</td><td>science</td><td>7</td><td>1</td><td>3</td><td>2</td><td>1</td><td>null</td><td>n/a</td><td>null</td><td>1</td><td>2-point</td><td>1</td><td>2</td><td>null</td><td>null</td><td>2</td><td>0</td><td>null</td><td>mirifu_channel1a</td><td>2018_2a</td><td>full</td><td>null</td><td>null</td><td>long</td><td>null</td><td>null</td><td>[(&apos;c1000&apos;, &apos;group&apos;), (&apos;c1001&apos;, &apos;background&apos;), (&apos;o001&apos;, &apos;observation&apos;)]</td><td>null</td><td>null</td><td>null</td><td>f</td><td>f</td><td>null</td><td>null</td></tr>\n",
       "<tr><td>jw00623001001_03102_00002_mirifulong_uncal.fits</td><td>v00623001001p0000000003102</td><td>623</td><td>1</td><td>1</td><td>623001001</td><td>3</td><td>prime_targeted_fixed</td><td>1</td><td>2</td><td>2</td><td>mir_mrs</td><td>7</td><td>2</td><td>miri</td><td>mirifulong</td><td>34</td><td>3</td><td>fake-southpole-sky2</td><td>null</td><td>fixed</td><td>miri medium resolution spectroscopy</td><td>science</td><td>2</td><td>1</td><td>1</td><td>1</td><td>1</td><td>null</td><td>n/a</td><td>null</td><td>1</td><td>2-point</td><td>1</td><td>2</td><td>null</td><td>null</td><td>1</td><td>0</td><td>null</td><td>mirifu_channel1a</td><td>2018_2a</td><td>full</td><td>null</td><td>null</td><td>short</td><td>null</td><td>null</td><td>[(&apos;c1000&apos;, &apos;group&apos;), (&apos;c1001&apos;, &apos;background&apos;), (&apos;o001&apos;, &apos;observation&apos;)]</td><td>null</td><td>null</td><td>null</td><td>f</td><td>f</td><td>null</td><td>null</td></tr>\n",
       "<tr><td>jw00623001001_03104_00002_mirifulong_uncal.fits</td><td>v00623001001p0000000003104</td><td>623</td><td>1</td><td>1</td><td>623001001</td><td>3</td><td>prime_targeted_fixed</td><td>1</td><td>4</td><td>2</td><td>mir_mrs</td><td>7</td><td>3</td><td>miri</td><td>mirifulong</td><td>34</td><td>3</td><td>fake-southpole-sky2</td><td>null</td><td>fixed</td><td>miri medium resolution spectroscopy</td><td>science</td><td>3</td><td>1</td><td>1</td><td>2</td><td>1</td><td>null</td><td>n/a</td><td>null</td><td>1</td><td>2-point</td><td>1</td><td>2</td><td>null</td><td>null</td><td>2</td><td>0</td><td>null</td><td>mirifu_channel1a</td><td>2018_2a</td><td>full</td><td>null</td><td>null</td><td>short</td><td>null</td><td>null</td><td>[(&apos;c1000&apos;, &apos;group&apos;), (&apos;c1001&apos;, &apos;background&apos;), (&apos;o001&apos;, &apos;observation&apos;)]</td><td>null</td><td>null</td><td>null</td><td>f</td><td>f</td><td>null</td><td>null</td></tr>\n",
       "<tr><td>jw00623001001_03106_00002_mirifulong_uncal.fits</td><td>v00623001001p0000000003106</td><td>623</td><td>1</td><td>1</td><td>623001001</td><td>3</td><td>prime_targeted_fixed</td><td>1</td><td>6</td><td>2</td><td>mir_mrs</td><td>7</td><td>4</td><td>miri</td><td>mirifulong</td><td>34</td><td>3</td><td>fake-southpole-sky2</td><td>null</td><td>fixed</td><td>miri medium resolution spectroscopy</td><td>science</td><td>4</td><td>1</td><td>2</td><td>1</td><td>1</td><td>null</td><td>n/a</td><td>null</td><td>1</td><td>2-point</td><td>1</td><td>2</td><td>null</td><td>null</td><td>1</td><td>0</td><td>null</td><td>mirifu_channel1a</td><td>2018_2a</td><td>full</td><td>null</td><td>null</td><td>medium</td><td>null</td><td>null</td><td>[(&apos;c1000&apos;, &apos;group&apos;), (&apos;c1001&apos;, &apos;background&apos;), (&apos;o001&apos;, &apos;observation&apos;)]</td><td>null</td><td>null</td><td>null</td><td>f</td><td>f</td><td>null</td><td>null</td></tr>\n",
       "<tr><td>jw00623001001_03108_00002_mirifulong_uncal.fits</td><td>v00623001001p0000000003108</td><td>623</td><td>1</td><td>1</td><td>623001001</td><td>3</td><td>prime_targeted_fixed</td><td>1</td><td>8</td><td>2</td><td>mir_mrs</td><td>7</td><td>5</td><td>miri</td><td>mirifulong</td><td>34</td><td>3</td><td>fake-southpole-sky2</td><td>null</td><td>fixed</td><td>miri medium resolution spectroscopy</td><td>science</td><td>5</td><td>1</td><td>2</td><td>2</td><td>1</td><td>null</td><td>n/a</td><td>null</td><td>1</td><td>2-point</td><td>1</td><td>2</td><td>null</td><td>null</td><td>2</td><td>0</td><td>null</td><td>mirifu_channel1a</td><td>2018_2a</td><td>full</td><td>null</td><td>null</td><td>medium</td><td>null</td><td>null</td><td>[(&apos;c1000&apos;, &apos;group&apos;), (&apos;c1001&apos;, &apos;background&apos;), (&apos;o001&apos;, &apos;observation&apos;)]</td><td>null</td><td>null</td><td>null</td><td>f</td><td>f</td><td>null</td><td>null</td></tr>\n",
       "<tr><td>...</td><td>...</td><td>...</td><td>...</td><td>...</td><td>...</td><td>...</td><td>...</td><td>...</td><td>...</td><td>...</td><td>...</td><td>...</td><td>...</td><td>...</td><td>...</td><td>...</td><td>...</td><td>...</td><td>...</td><td>...</td><td>...</td><td>...</td><td>...</td><td>...</td><td>...</td><td>...</td><td>...</td><td>...</td><td>...</td><td>...</td><td>...</td><td>...</td><td>...</td><td>...</td><td>...</td><td>...</td><td>...</td><td>...</td><td>...</td><td>...</td><td>...</td><td>...</td><td>...</td><td>...</td><td>...</td><td>...</td><td>...</td><td>...</td><td>...</td><td>...</td><td>...</td><td>...</td><td>...</td><td>...</td><td>...</td></tr>\n",
       "<tr><td>jw00623003001_03106_00002_mirifushort_uncal.fits</td><td>v00623003001p0000000003106</td><td>623</td><td>3</td><td>1</td><td>623003001</td><td>3</td><td>prime_targeted_fixed</td><td>1</td><td>6</td><td>2</td><td>mir_mrs</td><td>7</td><td>4</td><td>miri</td><td>mirifushort</td><td>12</td><td>2</td><td>fake-southpole-background</td><td>null</td><td>fixed</td><td>miri medium resolution spectroscopy</td><td>science</td><td>4</td><td>1</td><td>2</td><td>1</td><td>1</td><td>null</td><td>n/a</td><td>null</td><td>1</td><td>2-point</td><td>1</td><td>2</td><td>null</td><td>null</td><td>1</td><td>0</td><td>null</td><td>mirifu_channel1a</td><td>2018_2a</td><td>full</td><td>null</td><td>null</td><td>medium</td><td>null</td><td>null</td><td>[(&apos;c1000&apos;, &apos;group&apos;), (&apos;c1001&apos;, &apos;background&apos;), (&apos;o003&apos;, &apos;observation&apos;)]</td><td>null</td><td>null</td><td>null</td><td>t</td><td>f</td><td>null</td><td>null</td></tr>\n",
       "<tr><td>jw00623003001_03108_00002_mirifushort_uncal.fits</td><td>v00623003001p0000000003108</td><td>623</td><td>3</td><td>1</td><td>623003001</td><td>3</td><td>prime_targeted_fixed</td><td>1</td><td>8</td><td>2</td><td>mir_mrs</td><td>7</td><td>5</td><td>miri</td><td>mirifushort</td><td>12</td><td>2</td><td>fake-southpole-background</td><td>null</td><td>fixed</td><td>miri medium resolution spectroscopy</td><td>science</td><td>5</td><td>1</td><td>2</td><td>2</td><td>1</td><td>null</td><td>n/a</td><td>null</td><td>1</td><td>2-point</td><td>1</td><td>2</td><td>null</td><td>null</td><td>2</td><td>0</td><td>null</td><td>mirifu_channel1a</td><td>2018_2a</td><td>full</td><td>null</td><td>null</td><td>medium</td><td>null</td><td>null</td><td>[(&apos;c1000&apos;, &apos;group&apos;), (&apos;c1001&apos;, &apos;background&apos;), (&apos;o003&apos;, &apos;observation&apos;)]</td><td>null</td><td>null</td><td>null</td><td>t</td><td>f</td><td>null</td><td>null</td></tr>\n",
       "<tr><td>jw00623003001_03110_00002_mirifushort_uncal.fits</td><td>v00623003001p0000000003110</td><td>623</td><td>3</td><td>1</td><td>623003001</td><td>3</td><td>prime_targeted_fixed</td><td>1</td><td>10</td><td>2</td><td>mir_mrs</td><td>7</td><td>6</td><td>miri</td><td>mirifushort</td><td>12</td><td>2</td><td>fake-southpole-background</td><td>null</td><td>fixed</td><td>miri medium resolution spectroscopy</td><td>science</td><td>6</td><td>1</td><td>3</td><td>1</td><td>1</td><td>null</td><td>n/a</td><td>null</td><td>1</td><td>2-point</td><td>1</td><td>2</td><td>null</td><td>null</td><td>1</td><td>0</td><td>null</td><td>mirifu_channel1a</td><td>2018_2a</td><td>full</td><td>null</td><td>null</td><td>long</td><td>null</td><td>null</td><td>[(&apos;c1000&apos;, &apos;group&apos;), (&apos;c1001&apos;, &apos;background&apos;), (&apos;o003&apos;, &apos;observation&apos;)]</td><td>null</td><td>null</td><td>null</td><td>t</td><td>f</td><td>null</td><td>null</td></tr>\n",
       "<tr><td>jw00623003001_03112_00002_mirifushort_uncal.fits</td><td>v00623003001p0000000003112</td><td>623</td><td>3</td><td>1</td><td>623003001</td><td>3</td><td>prime_targeted_fixed</td><td>1</td><td>12</td><td>2</td><td>mir_mrs</td><td>7</td><td>7</td><td>miri</td><td>mirifushort</td><td>12</td><td>2</td><td>fake-southpole-background</td><td>null</td><td>fixed</td><td>miri medium resolution spectroscopy</td><td>science</td><td>7</td><td>1</td><td>3</td><td>2</td><td>1</td><td>null</td><td>n/a</td><td>null</td><td>1</td><td>2-point</td><td>1</td><td>2</td><td>null</td><td>null</td><td>2</td><td>0</td><td>null</td><td>mirifu_channel1a</td><td>2018_2a</td><td>full</td><td>null</td><td>null</td><td>long</td><td>null</td><td>null</td><td>[(&apos;c1000&apos;, &apos;group&apos;), (&apos;c1001&apos;, &apos;background&apos;), (&apos;o003&apos;, &apos;observation&apos;)]</td><td>null</td><td>null</td><td>null</td><td>t</td><td>f</td><td>null</td><td>null</td></tr>\n",
       "<tr><td>jw00623003001_03102_00002_mirifulong_uncal.fits</td><td>v00623003001p0000000003102</td><td>623</td><td>3</td><td>1</td><td>623003001</td><td>3</td><td>prime_targeted_fixed</td><td>1</td><td>2</td><td>2</td><td>mir_mrs</td><td>7</td><td>2</td><td>miri</td><td>mirifulong</td><td>34</td><td>2</td><td>fake-southpole-background</td><td>null</td><td>fixed</td><td>miri medium resolution spectroscopy</td><td>science</td><td>2</td><td>1</td><td>1</td><td>1</td><td>1</td><td>null</td><td>n/a</td><td>null</td><td>1</td><td>2-point</td><td>1</td><td>2</td><td>null</td><td>null</td><td>1</td><td>0</td><td>null</td><td>mirifu_channel1a</td><td>2018_2a</td><td>full</td><td>null</td><td>null</td><td>short</td><td>null</td><td>null</td><td>[(&apos;c1000&apos;, &apos;group&apos;), (&apos;c1001&apos;, &apos;background&apos;), (&apos;o003&apos;, &apos;observation&apos;)]</td><td>null</td><td>null</td><td>null</td><td>t</td><td>f</td><td>null</td><td>null</td></tr>\n",
       "<tr><td>jw00623003001_03104_00002_mirifulong_uncal.fits</td><td>v00623003001p0000000003104</td><td>623</td><td>3</td><td>1</td><td>623003001</td><td>3</td><td>prime_targeted_fixed</td><td>1</td><td>4</td><td>2</td><td>mir_mrs</td><td>7</td><td>3</td><td>miri</td><td>mirifulong</td><td>34</td><td>2</td><td>fake-southpole-background</td><td>null</td><td>fixed</td><td>miri medium resolution spectroscopy</td><td>science</td><td>3</td><td>1</td><td>1</td><td>2</td><td>1</td><td>null</td><td>n/a</td><td>null</td><td>1</td><td>2-point</td><td>1</td><td>2</td><td>null</td><td>null</td><td>2</td><td>0</td><td>null</td><td>mirifu_channel1a</td><td>2018_2a</td><td>full</td><td>null</td><td>null</td><td>short</td><td>null</td><td>null</td><td>[(&apos;c1000&apos;, &apos;group&apos;), (&apos;c1001&apos;, &apos;background&apos;), (&apos;o003&apos;, &apos;observation&apos;)]</td><td>null</td><td>null</td><td>null</td><td>t</td><td>f</td><td>null</td><td>null</td></tr>\n",
       "<tr><td>jw00623003001_03106_00002_mirifulong_uncal.fits</td><td>v00623003001p0000000003106</td><td>623</td><td>3</td><td>1</td><td>623003001</td><td>3</td><td>prime_targeted_fixed</td><td>1</td><td>6</td><td>2</td><td>mir_mrs</td><td>7</td><td>4</td><td>miri</td><td>mirifulong</td><td>34</td><td>2</td><td>fake-southpole-background</td><td>null</td><td>fixed</td><td>miri medium resolution spectroscopy</td><td>science</td><td>4</td><td>1</td><td>2</td><td>1</td><td>1</td><td>null</td><td>n/a</td><td>null</td><td>1</td><td>2-point</td><td>1</td><td>2</td><td>null</td><td>null</td><td>1</td><td>0</td><td>null</td><td>mirifu_channel1a</td><td>2018_2a</td><td>full</td><td>null</td><td>null</td><td>medium</td><td>null</td><td>null</td><td>[(&apos;c1000&apos;, &apos;group&apos;), (&apos;c1001&apos;, &apos;background&apos;), (&apos;o003&apos;, &apos;observation&apos;)]</td><td>null</td><td>null</td><td>null</td><td>t</td><td>f</td><td>null</td><td>null</td></tr>\n",
       "<tr><td>jw00623003001_03108_00002_mirifulong_uncal.fits</td><td>v00623003001p0000000003108</td><td>623</td><td>3</td><td>1</td><td>623003001</td><td>3</td><td>prime_targeted_fixed</td><td>1</td><td>8</td><td>2</td><td>mir_mrs</td><td>7</td><td>5</td><td>miri</td><td>mirifulong</td><td>34</td><td>2</td><td>fake-southpole-background</td><td>null</td><td>fixed</td><td>miri medium resolution spectroscopy</td><td>science</td><td>5</td><td>1</td><td>2</td><td>2</td><td>1</td><td>null</td><td>n/a</td><td>null</td><td>1</td><td>2-point</td><td>1</td><td>2</td><td>null</td><td>null</td><td>2</td><td>0</td><td>null</td><td>mirifu_channel1a</td><td>2018_2a</td><td>full</td><td>null</td><td>null</td><td>medium</td><td>null</td><td>null</td><td>[(&apos;c1000&apos;, &apos;group&apos;), (&apos;c1001&apos;, &apos;background&apos;), (&apos;o003&apos;, &apos;observation&apos;)]</td><td>null</td><td>null</td><td>null</td><td>t</td><td>f</td><td>null</td><td>null</td></tr>\n",
       "<tr><td>jw00623003001_03110_00002_mirifulong_uncal.fits</td><td>v00623003001p0000000003110</td><td>623</td><td>3</td><td>1</td><td>623003001</td><td>3</td><td>prime_targeted_fixed</td><td>1</td><td>10</td><td>2</td><td>mir_mrs</td><td>7</td><td>6</td><td>miri</td><td>mirifulong</td><td>34</td><td>2</td><td>fake-southpole-background</td><td>null</td><td>fixed</td><td>miri medium resolution spectroscopy</td><td>science</td><td>6</td><td>1</td><td>3</td><td>1</td><td>1</td><td>null</td><td>n/a</td><td>null</td><td>1</td><td>2-point</td><td>1</td><td>2</td><td>null</td><td>null</td><td>1</td><td>0</td><td>null</td><td>mirifu_channel1a</td><td>2018_2a</td><td>full</td><td>null</td><td>null</td><td>long</td><td>null</td><td>null</td><td>[(&apos;c1000&apos;, &apos;group&apos;), (&apos;c1001&apos;, &apos;background&apos;), (&apos;o003&apos;, &apos;observation&apos;)]</td><td>null</td><td>null</td><td>null</td><td>t</td><td>f</td><td>null</td><td>null</td></tr>\n",
       "<tr><td>jw00623003001_03112_00002_mirifulong_uncal.fits</td><td>v00623003001p0000000003112</td><td>623</td><td>3</td><td>1</td><td>623003001</td><td>3</td><td>prime_targeted_fixed</td><td>1</td><td>12</td><td>2</td><td>mir_mrs</td><td>7</td><td>7</td><td>miri</td><td>mirifulong</td><td>34</td><td>2</td><td>fake-southpole-background</td><td>null</td><td>fixed</td><td>miri medium resolution spectroscopy</td><td>science</td><td>7</td><td>1</td><td>3</td><td>2</td><td>1</td><td>null</td><td>n/a</td><td>null</td><td>1</td><td>2-point</td><td>1</td><td>2</td><td>null</td><td>null</td><td>2</td><td>0</td><td>null</td><td>mirifu_channel1a</td><td>2018_2a</td><td>full</td><td>null</td><td>null</td><td>long</td><td>null</td><td>null</td><td>[(&apos;c1000&apos;, &apos;group&apos;), (&apos;c1001&apos;, &apos;background&apos;), (&apos;o003&apos;, &apos;observation&apos;)]</td><td>null</td><td>null</td><td>null</td><td>t</td><td>f</td><td>null</td><td>null</td></tr>\n",
       "</table>"
      ],
      "text/plain": [
       "<AssociationPool length=28>\n",
       "                    filename                     ... msametfl\n",
       "                     str48                       ...   str4  \n",
       "------------------------------------------------ ... --------\n",
       "jw00623001001_03102_00002_mirifushort_uncal.fits ...     null\n",
       "jw00623001001_03104_00002_mirifushort_uncal.fits ...     null\n",
       "jw00623001001_03106_00002_mirifushort_uncal.fits ...     null\n",
       "jw00623001001_03108_00002_mirifushort_uncal.fits ...     null\n",
       "jw00623001001_03110_00002_mirifushort_uncal.fits ...     null\n",
       "jw00623001001_03112_00002_mirifushort_uncal.fits ...     null\n",
       " jw00623001001_03102_00002_mirifulong_uncal.fits ...     null\n",
       " jw00623001001_03104_00002_mirifulong_uncal.fits ...     null\n",
       " jw00623001001_03106_00002_mirifulong_uncal.fits ...     null\n",
       " jw00623001001_03108_00002_mirifulong_uncal.fits ...     null\n",
       "                                             ... ...      ...\n",
       "jw00623003001_03106_00002_mirifushort_uncal.fits ...     null\n",
       "jw00623003001_03108_00002_mirifushort_uncal.fits ...     null\n",
       "jw00623003001_03110_00002_mirifushort_uncal.fits ...     null\n",
       "jw00623003001_03112_00002_mirifushort_uncal.fits ...     null\n",
       " jw00623003001_03102_00002_mirifulong_uncal.fits ...     null\n",
       " jw00623003001_03104_00002_mirifulong_uncal.fits ...     null\n",
       " jw00623003001_03106_00002_mirifulong_uncal.fits ...     null\n",
       " jw00623003001_03108_00002_mirifulong_uncal.fits ...     null\n",
       " jw00623003001_03110_00002_mirifulong_uncal.fits ...     null\n",
       " jw00623003001_03112_00002_mirifulong_uncal.fits ...     null"
      ]
     },
     "execution_count": 18,
     "metadata": {},
     "output_type": "execute_result"
    }
   ],
   "source": [
    "pool_single"
   ]
  },
  {
   "cell_type": "code",
   "execution_count": 7,
   "metadata": {},
   "outputs": [
    {
     "name": "stdout",
     "output_type": "stream",
     "text": [
      "> <string>(1)<module>()\n",
      "(Pdb) cont\n"
     ]
    }
   ],
   "source": [
    "pdb.run(\"registry_level3_only()\")"
   ]
  },
  {
   "cell_type": "code",
   "execution_count": 8,
   "metadata": {},
   "outputs": [],
   "source": [
    "rules_lv3 = registry_level3_only()"
   ]
  },
  {
   "cell_type": "code",
   "execution_count": 9,
   "metadata": {},
   "outputs": [
    {
     "data": {
      "text/plain": [
       "{'Asn_ACQ_Reprocess': abc.Asn_ACQ_Reprocess,\n",
       " 'Asn_AMI': abc.Asn_AMI,\n",
       " 'Asn_Coron': abc.Asn_Coron,\n",
       " 'Asn_IFU': abc.Asn_IFU,\n",
       " 'Asn_Image': abc.Asn_Image,\n",
       " 'Asn_SpectralSource': abc.Asn_SpectralSource,\n",
       " 'Asn_SpectralTarget': abc.Asn_SpectralTarget,\n",
       " 'Asn_TSO': abc.Asn_TSO,\n",
       " 'Asn_WFSCMB': abc.Asn_WFSCMB,\n",
       " 'Asn_WFSS_NIS': abc.Asn_WFSS_NIS}"
      ]
     },
     "execution_count": 9,
     "metadata": {},
     "output_type": "execute_result"
    }
   ],
   "source": [
    "rules_lv3"
   ]
  },
  {
   "cell_type": "code",
   "execution_count": 10,
   "metadata": {},
   "outputs": [],
   "source": [
    "names = [name for name in rules_lv3]"
   ]
  },
  {
   "cell_type": "code",
   "execution_count": 11,
   "metadata": {},
   "outputs": [],
   "source": [
    "for name in names:\n",
    "    if name != 'Asn_IFU':\n",
    "        del rules_lv3[name]"
   ]
  },
  {
   "cell_type": "code",
   "execution_count": 12,
   "metadata": {},
   "outputs": [
    {
     "data": {
      "text/plain": [
       "{'Asn_IFU': abc.Asn_IFU}"
      ]
     },
     "execution_count": 12,
     "metadata": {},
     "output_type": "execute_result"
    }
   ],
   "source": [
    "rules_lv3"
   ]
  },
  {
   "cell_type": "code",
   "execution_count": 23,
   "metadata": {},
   "outputs": [],
   "source": [
    "asns = generate(pool_single, rules_lv3)"
   ]
  },
  {
   "cell_type": "code",
   "execution_count": 24,
   "metadata": {
    "scrolled": false
   },
   "outputs": [
    {
     "data": {
      "text/plain": [
       "[{\n",
       "     \"asn_type\": \"spec3\",\n",
       "     \"asn_rule\": \"Asn_IFU\",\n",
       "     \"version_id\": null,\n",
       "     \"code_version\": \"0.13.2a.dev102+g3f32b46e\",\n",
       "     \"degraded_status\": \"No known degraded exposures in association.\",\n",
       "     \"program\": \"00623\",\n",
       "     \"constraints\": \"DMSAttrConstraint({'name': 'program', 'sources': ['program'], 'value': '623'})\\nDMSAttrConstraint({'name': 'instrument', 'sources': ['instrume'], 'value': 'miri'})\\nConstraint_Target({'name': 'target', 'sources': ['detector'], 'value': 'mirifushort'})\\nConstraint_IFU({'name': 'exp_type', 'sources': ['exp_type'], 'value': 'mir_mrs|mir_flatmrs|nrs_autowave|nrs_ifu'})\\nConstraint_Obsnum({'name': 'obs_num', 'sources': ['obs_num'], 'value': None})\\nDMSAttrConstraint({'name': 'acq_exp', 'sources': ['exp_type'], 'value': 'mir_tacq|nis_taconfirm|nis_tacq|nrc_taconfirm|nrc_tacq|nrs_confirm|nrs_msata|nrs_taconfirm|nrs_tacq|nrs_taslit|nrs_wata'})\\nDMSAttrConstraint({'name': 'acq_obsnum', 'sources': ['obs_num'], 'value': <function AsnMixin_Science.__init__.<locals>.<lambda> at 0x10ff891e0>})\",\n",
       "     \"asn_id\": \"a3001\",\n",
       "     \"target\": \"tmirifushort\",\n",
       "     \"asn_pool\": \"jw00623_pool\",\n",
       "     \"products\": [\n",
       "         {\n",
       "             \"name\": \"jw00623-a3001_tmirifushort_miri\",\n",
       "             \"members\": [\n",
       "                 {\n",
       "                     \"expname\": \"jw00623001001_03102_00002_mirifushort_cal.fits\",\n",
       "                     \"exptype\": \"science\",\n",
       "                     \"exposerr\": \"null\",\n",
       "                     \"asn_candidate\": \"[('c1000', 'group'), ('c1001', 'background'), ('o001', 'observation')]\"\n",
       "                 },\n",
       "                 {\n",
       "                     \"expname\": \"jw00623001001_03104_00002_mirifushort_cal.fits\",\n",
       "                     \"exptype\": \"science\",\n",
       "                     \"exposerr\": \"null\",\n",
       "                     \"asn_candidate\": \"[('c1000', 'group'), ('c1001', 'background'), ('o001', 'observation')]\"\n",
       "                 },\n",
       "                 {\n",
       "                     \"expname\": \"jw00623001001_03106_00002_mirifushort_cal.fits\",\n",
       "                     \"exptype\": \"science\",\n",
       "                     \"exposerr\": \"null\",\n",
       "                     \"asn_candidate\": \"[('c1000', 'group'), ('c1001', 'background'), ('o001', 'observation')]\"\n",
       "                 },\n",
       "                 {\n",
       "                     \"expname\": \"jw00623001001_03108_00002_mirifushort_cal.fits\",\n",
       "                     \"exptype\": \"science\",\n",
       "                     \"exposerr\": \"null\",\n",
       "                     \"asn_candidate\": \"[('c1000', 'group'), ('c1001', 'background'), ('o001', 'observation')]\"\n",
       "                 },\n",
       "                 {\n",
       "                     \"expname\": \"jw00623001001_03110_00002_mirifushort_cal.fits\",\n",
       "                     \"exptype\": \"science\",\n",
       "                     \"exposerr\": \"null\",\n",
       "                     \"asn_candidate\": \"[('c1000', 'group'), ('c1001', 'background'), ('o001', 'observation')]\"\n",
       "                 },\n",
       "                 {\n",
       "                     \"expname\": \"jw00623001001_03112_00002_mirifushort_cal.fits\",\n",
       "                     \"exptype\": \"science\",\n",
       "                     \"exposerr\": \"null\",\n",
       "                     \"asn_candidate\": \"[('c1000', 'group'), ('c1001', 'background'), ('o001', 'observation')]\"\n",
       "                 }\n",
       "             ]\n",
       "         }\n",
       "     ]\n",
       " }, {\n",
       "     \"asn_type\": \"spec3\",\n",
       "     \"asn_rule\": \"Asn_IFU\",\n",
       "     \"version_id\": null,\n",
       "     \"code_version\": \"0.13.2a.dev102+g3f32b46e\",\n",
       "     \"degraded_status\": \"No known degraded exposures in association.\",\n",
       "     \"program\": \"00623\",\n",
       "     \"constraints\": \"DMSAttrConstraint({'name': 'program', 'sources': ['program'], 'value': '623'})\\nDMSAttrConstraint({'name': 'instrument', 'sources': ['instrume'], 'value': 'miri'})\\nConstraint_Target({'name': 'target', 'sources': ['detector'], 'value': 'mirifulong'})\\nConstraint_IFU({'name': 'exp_type', 'sources': ['exp_type'], 'value': 'mir_mrs|mir_flatmrs|nrs_autowave|nrs_ifu'})\\nConstraint_Obsnum({'name': 'obs_num', 'sources': ['obs_num'], 'value': None})\\nDMSAttrConstraint({'name': 'acq_exp', 'sources': ['exp_type'], 'value': 'mir_tacq|nis_taconfirm|nis_tacq|nrc_taconfirm|nrc_tacq|nrs_confirm|nrs_msata|nrs_taconfirm|nrs_tacq|nrs_taslit|nrs_wata'})\\nDMSAttrConstraint({'name': 'acq_obsnum', 'sources': ['obs_num'], 'value': <function AsnMixin_Science.__init__.<locals>.<lambda> at 0x143a62ae8>})\",\n",
       "     \"asn_id\": \"a3001\",\n",
       "     \"target\": \"tmirifulong\",\n",
       "     \"asn_pool\": \"jw00623_pool\",\n",
       "     \"products\": [\n",
       "         {\n",
       "             \"name\": \"jw00623-a3001_tmirifulong_miri\",\n",
       "             \"members\": [\n",
       "                 {\n",
       "                     \"expname\": \"jw00623001001_03102_00002_mirifulong_cal.fits\",\n",
       "                     \"exptype\": \"science\",\n",
       "                     \"exposerr\": \"null\",\n",
       "                     \"asn_candidate\": \"[('c1000', 'group'), ('c1001', 'background'), ('o001', 'observation')]\"\n",
       "                 },\n",
       "                 {\n",
       "                     \"expname\": \"jw00623001001_03104_00002_mirifulong_cal.fits\",\n",
       "                     \"exptype\": \"science\",\n",
       "                     \"exposerr\": \"null\",\n",
       "                     \"asn_candidate\": \"[('c1000', 'group'), ('c1001', 'background'), ('o001', 'observation')]\"\n",
       "                 },\n",
       "                 {\n",
       "                     \"expname\": \"jw00623001001_03106_00002_mirifulong_cal.fits\",\n",
       "                     \"exptype\": \"science\",\n",
       "                     \"exposerr\": \"null\",\n",
       "                     \"asn_candidate\": \"[('c1000', 'group'), ('c1001', 'background'), ('o001', 'observation')]\"\n",
       "                 },\n",
       "                 {\n",
       "                     \"expname\": \"jw00623001001_03108_00002_mirifulong_cal.fits\",\n",
       "                     \"exptype\": \"science\",\n",
       "                     \"exposerr\": \"null\",\n",
       "                     \"asn_candidate\": \"[('c1000', 'group'), ('c1001', 'background'), ('o001', 'observation')]\"\n",
       "                 },\n",
       "                 {\n",
       "                     \"expname\": \"jw00623001001_03110_00002_mirifulong_cal.fits\",\n",
       "                     \"exptype\": \"science\",\n",
       "                     \"exposerr\": \"null\",\n",
       "                     \"asn_candidate\": \"[('c1000', 'group'), ('c1001', 'background'), ('o001', 'observation')]\"\n",
       "                 },\n",
       "                 {\n",
       "                     \"expname\": \"jw00623001001_03112_00002_mirifulong_cal.fits\",\n",
       "                     \"exptype\": \"science\",\n",
       "                     \"exposerr\": \"null\",\n",
       "                     \"asn_candidate\": \"[('c1000', 'group'), ('c1001', 'background'), ('o001', 'observation')]\"\n",
       "                 }\n",
       "             ]\n",
       "         }\n",
       "     ]\n",
       " }]"
      ]
     },
     "execution_count": 24,
     "metadata": {},
     "output_type": "execute_result"
    }
   ],
   "source": [
    "asns"
   ]
  },
  {
   "cell_type": "code",
   "execution_count": null,
   "metadata": {
    "scrolled": false
   },
   "outputs": [],
   "source": [
    "pdb.run('generate(pool_single, rules_lv3)')"
   ]
  },
  {
   "cell_type": "code",
   "execution_count": 21,
   "metadata": {},
   "outputs": [],
   "source": [
    "args_default = [\n",
    "    '--dry-run'\n",
    "]"
   ]
  },
  {
   "cell_type": "code",
   "execution_count": null,
   "metadata": {},
   "outputs": [],
   "source": [
    "results = Main(args_default, pool=pool_single)"
   ]
  },
  {
   "cell_type": "code",
   "execution_count": null,
   "metadata": {},
   "outputs": [],
   "source": [
    "# Should only be the o001 and level2 associations\n",
    "\n",
    "assert len(results.associations) == 2"
   ]
  },
  {
   "cell_type": "code",
   "execution_count": null,
   "metadata": {
    "scrolled": false
   },
   "outputs": [],
   "source": [
    "results.associations"
   ]
  },
  {
   "cell_type": "markdown",
   "metadata": {},
   "source": [
    "## Try the candidate pool"
   ]
  },
  {
   "cell_type": "markdown",
   "metadata": {},
   "source": [
    "### Just discovered"
   ]
  },
  {
   "cell_type": "code",
   "execution_count": null,
   "metadata": {},
   "outputs": [],
   "source": [
    "pool_candidates = combine_pools('../data/pool_001_candidates.csv')"
   ]
  },
  {
   "cell_type": "code",
   "execution_count": null,
   "metadata": {},
   "outputs": [],
   "source": [
    "disc_args = [\n",
    "    '--dry-run',\n",
    "    '--discover'\n",
    "]"
   ]
  },
  {
   "cell_type": "code",
   "execution_count": null,
   "metadata": {},
   "outputs": [],
   "source": [
    "disc_results = Main(disc_args, pool=pool_candidates)"
   ]
  },
  {
   "cell_type": "code",
   "execution_count": null,
   "metadata": {},
   "outputs": [],
   "source": [
    "len(disc_results.associations)"
   ]
  },
  {
   "cell_type": "code",
   "execution_count": null,
   "metadata": {
    "scrolled": false
   },
   "outputs": [],
   "source": [
    "disc_results.associations"
   ]
  },
  {
   "cell_type": "markdown",
   "metadata": {},
   "source": [
    "### Just candidates"
   ]
  },
  {
   "cell_type": "code",
   "execution_count": null,
   "metadata": {},
   "outputs": [],
   "source": [
    "cand_args = [\n",
    "    '--dry-run',\n",
    "    '--all-candidates'    \n",
    "]"
   ]
  },
  {
   "cell_type": "code",
   "execution_count": null,
   "metadata": {},
   "outputs": [],
   "source": [
    "cand_results = Main(cand_args, pool=pool_candidates)"
   ]
  },
  {
   "cell_type": "code",
   "execution_count": null,
   "metadata": {},
   "outputs": [],
   "source": [
    "len(cand_results.associations)"
   ]
  },
  {
   "cell_type": "code",
   "execution_count": null,
   "metadata": {},
   "outputs": [],
   "source": [
    "cand_results.associations"
   ]
  },
  {
   "cell_type": "code",
   "execution_count": null,
   "metadata": {
    "scrolled": false
   },
   "outputs": [],
   "source": [
    "max_members = 0\n",
    "for asn in cand_results.associations:\n",
    "    max_members = max(max_members, len(asn['products'][0]['members']))\n",
    "max_members"
   ]
  },
  {
   "cell_type": "code",
   "execution_count": null,
   "metadata": {
    "scrolled": false
   },
   "outputs": [],
   "source": [
    "max_members = 0\n",
    "for asn in disc_results.associations:\n",
    "    max_members = max(max_members, len(asn['products'][0]['members']))\n",
    "max_members"
   ]
  },
  {
   "cell_type": "markdown",
   "metadata": {},
   "source": [
    "## Now the mega pool"
   ]
  },
  {
   "cell_type": "code",
   "execution_count": 19,
   "metadata": {},
   "outputs": [],
   "source": [
    "pool_mega = combine_pools('../data/mega_pool.csv')"
   ]
  },
  {
   "cell_type": "code",
   "execution_count": null,
   "metadata": {},
   "outputs": [],
   "source": [
    "mega_results = Main(args_default, pool=pool_mega)"
   ]
  },
  {
   "cell_type": "code",
   "execution_count": null,
   "metadata": {},
   "outputs": [],
   "source": [
    "len(mega_results.associations)"
   ]
  },
  {
   "cell_type": "code",
   "execution_count": null,
   "metadata": {
    "scrolled": true
   },
   "outputs": [],
   "source": [
    "mega_results.associations"
   ]
  },
  {
   "cell_type": "code",
   "execution_count": null,
   "metadata": {},
   "outputs": [],
   "source": []
  }
 ],
 "metadata": {
  "kernelspec": {
   "display_name": "Python 3",
   "language": "python",
   "name": "python3"
  },
  "language_info": {
   "codemirror_mode": {
    "name": "ipython",
    "version": 3
   },
   "file_extension": ".py",
   "mimetype": "text/x-python",
   "name": "python",
   "nbconvert_exporter": "python",
   "pygments_lexer": "ipython3",
   "version": "3.7.3"
  }
 },
 "nbformat": 4,
 "nbformat_minor": 2
}
