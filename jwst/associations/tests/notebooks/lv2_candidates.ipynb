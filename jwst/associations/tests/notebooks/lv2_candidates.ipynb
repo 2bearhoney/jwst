{
 "cells": [
  {
   "cell_type": "markdown",
   "metadata": {},
   "source": [
    "# Abstract"
   ]
  },
  {
   "cell_type": "markdown",
   "metadata": {},
   "source": [
    "Check the interaction with discover and all candidates and level2. It is non-deterministic for some reason. After the list refactoring."
   ]
  },
  {
   "cell_type": "markdown",
   "metadata": {},
   "source": [
    "# Environment"
   ]
  },
  {
   "cell_type": "code",
   "execution_count": 1,
   "metadata": {},
   "outputs": [],
   "source": [
    "# Setup debugging log\n",
    "import logging\n",
    "logger = logging.getLogger('jwst.associations')\n",
    "handler = logging.StreamHandler()\n",
    "logger.addHandler(handler)\n",
    "handler.setLevel(logging.INFO)\n",
    "logger.setLevel(logging.INFO)"
   ]
  },
  {
   "cell_type": "code",
   "execution_count": 2,
   "metadata": {},
   "outputs": [],
   "source": [
    "import pdb"
   ]
  },
  {
   "cell_type": "code",
   "execution_count": 3,
   "metadata": {},
   "outputs": [
    {
     "name": "stdout",
     "output_type": "stream",
     "text": [
      "['/Users/ddavis/src/JWST/scsb/jwst/jwst/associations/tests/notebooks', '/Users/ddavis/src/python', '/Users/ddavis/src/JWST/jwstsdp/jwst/src/scripts', '/Users/ddavis/src/JWST/jwstsdp/common/src/scripts', '/Users/ddavis/src/JWST/jwstsdp/jwst/tools/xml_to_prd', '/anaconda3/lib/python37.zip', '/anaconda3/lib/python3.7', '/anaconda3/lib/python3.7/lib-dynload', '', '/anaconda3/lib/python3.7/site-packages', '/anaconda3/lib/python3.7/site-packages/aeosa', '/anaconda3/lib/python3.7/site-packages/IPython/extensions', '/Users/ddavis/.ipython']\n"
     ]
    }
   ],
   "source": [
    "import sys\n",
    "print(sys.path)\n",
    "sys.path.append(\"/Users/ddavis/src/JWST/scsb/jwst\")"
   ]
  },
  {
   "cell_type": "code",
   "execution_count": 4,
   "metadata": {},
   "outputs": [],
   "source": [
    "from jwst.associations.tests.helpers import (\n",
    "    combine_pools,\n",
    "    registry_level2_only,\n",
    "    registry_level3_only,\n",
    ")"
   ]
  },
  {
   "cell_type": "code",
   "execution_count": 5,
   "metadata": {},
   "outputs": [],
   "source": [
    "from jwst.associations import (\n",
    "    AssociationRegistry,\n",
    "    generate\n",
    ")"
   ]
  },
  {
   "cell_type": "code",
   "execution_count": 6,
   "metadata": {},
   "outputs": [],
   "source": [
    "from jwst.associations.main import (\n",
    "    Main,\n",
    "    constrain_on_candidates\n",
    ")"
   ]
  },
  {
   "cell_type": "markdown",
   "metadata": {},
   "source": [
    "# Library"
   ]
  },
  {
   "cell_type": "markdown",
   "metadata": {},
   "source": [
    "# Main"
   ]
  },
  {
   "cell_type": "code",
   "execution_count": 13,
   "metadata": {},
   "outputs": [],
   "source": [
    "pool = combine_pools('/Users/ddavis/src/JWST/develop/JP-525/jw00623_pool.csv')"
   ]
  },
  {
   "cell_type": "code",
   "execution_count": 8,
   "metadata": {},
   "outputs": [
    {
     "data": {
      "text/html": [
       "<i>AssociationPool length=72</i>\n",
       "<table id=\"table4707319480\" class=\"table-striped table-bordered table-condensed\">\n",
       "<thead><tr><th>filename</th><th>program</th><th>obs_num</th><th>visitype</th><th>exp_type</th><th>instrume</th><th>detector</th><th>targetid</th><th>pntgtype</th><th>filter</th><th>pupil</th><th>grating</th><th>asn_candidate</th><th>tsovisit</th><th>subarray</th></tr></thead>\n",
       "<thead><tr><th>str25</th><th>str7</th><th>str14</th><th>str20</th><th>str9</th><th>str8</th><th>str8</th><th>str8</th><th>str8</th><th>str6</th><th>str5</th><th>str7</th><th>str95</th><th>str8</th><th>str8</th></tr></thead>\n",
       "<tr><td>set acid</td><td>program</td><td>obs_num</td><td>visitype</td><td>exp_type</td><td>instrume</td><td>detector</td><td>targetid</td><td>pntgtype</td><td>filter</td><td>pupil</td><td>grating</td><td>1000</td><td>tsovisit</td><td>subarray</td></tr>\n",
       "<tr><td>jw_00001_uncal.fits</td><td>99009</td><td>1</td><td>prime_targeted_fixed</td><td>nrc_image</td><td>nircam</td><td>nrca1</td><td>1</td><td>science</td><td>f090w</td><td>clear</td><td>null</td><td>[(&apos;o001&apos;, &apos;observation&apos;)]</td><td>f</td><td>full</td></tr>\n",
       "<tr><td>jw_00002_uncal.fits</td><td>99009</td><td>1</td><td>prime_targeted_fixed</td><td>nrc_image</td><td>nircam</td><td>nrca2</td><td>1</td><td>science</td><td>f090w</td><td>clear</td><td>null</td><td>[(&apos;o001&apos;, &apos;observation&apos;)]</td><td>f</td><td>full</td></tr>\n",
       "<tr><td>jw_00003_uncal.fits</td><td>99009</td><td>1</td><td>prime_targeted_fixed</td><td>nrc_image</td><td>nircam</td><td>nrca3</td><td>1</td><td>science</td><td>f090w</td><td>clear</td><td>null</td><td>[(&apos;o001&apos;, &apos;observation&apos;)]</td><td>f</td><td>full</td></tr>\n",
       "<tr><td>jw_00004_uncal.fits</td><td>99009</td><td>1</td><td>prime_targeted_fixed</td><td>nrc_image</td><td>nircam</td><td>nrca4</td><td>1</td><td>science</td><td>f090w</td><td>clear</td><td>null</td><td>[(&apos;o001&apos;, &apos;observation&apos;)]</td><td>f</td><td>full</td></tr>\n",
       "<tr><td>jw_00005_uncal.fits</td><td>99009</td><td>1</td><td>prime_targeted_fixed</td><td>nrc_image</td><td>nircam</td><td>nrcalong</td><td>1</td><td>science</td><td>f277w</td><td>clear</td><td>null</td><td>[(&apos;o001&apos;, &apos;observation&apos;)]</td><td>f</td><td>full</td></tr>\n",
       "<tr><td>jw_00006_uncal.fits</td><td>99009</td><td>1</td><td>prime_targeted_fixed</td><td>nrc_image</td><td>nircam</td><td>nrcb1</td><td>1</td><td>science</td><td>f090w</td><td>clear</td><td>null</td><td>[(&apos;o001&apos;, &apos;observation&apos;)]</td><td>f</td><td>full</td></tr>\n",
       "<tr><td>jw_00007_uncal.fits</td><td>99009</td><td>1</td><td>prime_targeted_fixed</td><td>nrc_image</td><td>nircam</td><td>nrcb2</td><td>1</td><td>science</td><td>f090w</td><td>clear</td><td>null</td><td>[(&apos;o001&apos;, &apos;observation&apos;)]</td><td>f</td><td>full</td></tr>\n",
       "<tr><td>jw_00008_uncal.fits</td><td>99009</td><td>1</td><td>prime_targeted_fixed</td><td>nrc_image</td><td>nircam</td><td>nrcb3</td><td>1</td><td>science</td><td>f090w</td><td>clear</td><td>null</td><td>[(&apos;o001&apos;, &apos;observation&apos;)]</td><td>f</td><td>full</td></tr>\n",
       "<tr><td>jw_00009_uncal.fits</td><td>99009</td><td>1</td><td>prime_targeted_fixed</td><td>nrc_image</td><td>nircam</td><td>nrcb4</td><td>1</td><td>science</td><td>f090w</td><td>clear</td><td>null</td><td>[(&apos;o001&apos;, &apos;observation&apos;)]</td><td>f</td><td>full</td></tr>\n",
       "<tr><td>...</td><td>...</td><td>...</td><td>...</td><td>...</td><td>...</td><td>...</td><td>...</td><td>...</td><td>...</td><td>...</td><td>...</td><td>...</td><td>...</td><td>...</td></tr>\n",
       "<tr><td>jw_00062_uncal.fits</td><td>99009</td><td>7</td><td>prime_targeted_fixed</td><td>nrc_image</td><td>nircam</td><td>nrca2</td><td>1</td><td>science</td><td>f090w</td><td>clear</td><td>null</td><td>[(&apos;o007&apos;, &apos;observation&apos;), (&apos;c1002&apos;, &apos;mosaic&apos;)]</td><td>f</td><td>full</td></tr>\n",
       "<tr><td>jw_00063_uncal.fits</td><td>99009</td><td>7</td><td>prime_targeted_fixed</td><td>nrc_image</td><td>nircam</td><td>nrca3</td><td>1</td><td>science</td><td>f090w</td><td>clear</td><td>null</td><td>[(&apos;o007&apos;, &apos;observation&apos;), (&apos;c1002&apos;, &apos;mosaic&apos;)]</td><td>f</td><td>full</td></tr>\n",
       "<tr><td>jw_00064_uncal.fits</td><td>99009</td><td>7</td><td>prime_targeted_fixed</td><td>nrc_image</td><td>nircam</td><td>nrca4</td><td>1</td><td>science</td><td>f090w</td><td>clear</td><td>null</td><td>[(&apos;o007&apos;, &apos;observation&apos;), (&apos;c1002&apos;, &apos;mosaic&apos;)]</td><td>f</td><td>full</td></tr>\n",
       "<tr><td>jw_00065_uncal.fits</td><td>99009</td><td>7</td><td>prime_targeted_fixed</td><td>nrc_image</td><td>nircam</td><td>nrcalong</td><td>1</td><td>science</td><td>f277w</td><td>clear</td><td>null</td><td>[(&apos;o007&apos;, &apos;observation&apos;), (&apos;c1002&apos;, &apos;mosaic&apos;)]</td><td>f</td><td>full</td></tr>\n",
       "<tr><td>jw_00066_uncal.fits</td><td>99009</td><td>7</td><td>prime_targeted_fixed</td><td>nrc_image</td><td>nircam</td><td>nrcb1</td><td>1</td><td>science</td><td>f090w</td><td>clear</td><td>null</td><td>[(&apos;o007&apos;, &apos;observation&apos;), (&apos;c1002&apos;, &apos;mosaic&apos;)]</td><td>f</td><td>full</td></tr>\n",
       "<tr><td>jw_00067_uncal.fits</td><td>99009</td><td>7</td><td>prime_targeted_fixed</td><td>nrc_image</td><td>nircam</td><td>nrcb2</td><td>1</td><td>science</td><td>f090w</td><td>clear</td><td>null</td><td>[(&apos;o007&apos;, &apos;observation&apos;), (&apos;c1002&apos;, &apos;mosaic&apos;)]</td><td>f</td><td>full</td></tr>\n",
       "<tr><td>jw_00068_uncal.fits</td><td>99009</td><td>7</td><td>prime_targeted_fixed</td><td>nrc_image</td><td>nircam</td><td>nrcb3</td><td>1</td><td>science</td><td>f090w</td><td>clear</td><td>null</td><td>[(&apos;o007&apos;, &apos;observation&apos;), (&apos;c1002&apos;, &apos;mosaic&apos;)]</td><td>f</td><td>full</td></tr>\n",
       "<tr><td>jw_00069_uncal.fits</td><td>99009</td><td>7</td><td>prime_targeted_fixed</td><td>nrc_image</td><td>nircam</td><td>nrcb4</td><td>1</td><td>science</td><td>f090w</td><td>clear</td><td>null</td><td>[(&apos;o007&apos;, &apos;observation&apos;), (&apos;c1002&apos;, &apos;mosaic&apos;)]</td><td>f</td><td>full</td></tr>\n",
       "<tr><td>jw_00070_uncal.fits</td><td>99009</td><td>7</td><td>prime_targeted_fixed</td><td>nrc_image</td><td>nircam</td><td>nrcblong</td><td>1</td><td>science</td><td>f277w</td><td>clear</td><td>null</td><td>[(&apos;o007&apos;, &apos;observation&apos;), (&apos;c1002&apos;, &apos;mosaic&apos;)]</td><td>f</td><td>full</td></tr>\n",
       "<tr><td>set acid</td><td>program</td><td>obs_num</td><td>prime_targeted_fixed</td><td>exp_type</td><td>instrume</td><td>detector</td><td>targetid</td><td>pntgtype</td><td>filter</td><td>pupil</td><td>grating</td><td>1002</td><td>tsovisit</td><td>subarray</td></tr>\n",
       "</table>"
      ],
      "text/plain": [
       "<AssociationPool length=72>\n",
       "      filename      program obs_num ... tsovisit subarray\n",
       "       str25          str7   str14  ...   str8     str8  \n",
       "------------------- ------- ------- ... -------- --------\n",
       "           set acid program obs_num ... tsovisit subarray\n",
       "jw_00001_uncal.fits   99009       1 ...        f     full\n",
       "jw_00002_uncal.fits   99009       1 ...        f     full\n",
       "jw_00003_uncal.fits   99009       1 ...        f     full\n",
       "jw_00004_uncal.fits   99009       1 ...        f     full\n",
       "jw_00005_uncal.fits   99009       1 ...        f     full\n",
       "jw_00006_uncal.fits   99009       1 ...        f     full\n",
       "jw_00007_uncal.fits   99009       1 ...        f     full\n",
       "jw_00008_uncal.fits   99009       1 ...        f     full\n",
       "jw_00009_uncal.fits   99009       1 ...        f     full\n",
       "                ...     ...     ... ...      ...      ...\n",
       "jw_00062_uncal.fits   99009       7 ...        f     full\n",
       "jw_00063_uncal.fits   99009       7 ...        f     full\n",
       "jw_00064_uncal.fits   99009       7 ...        f     full\n",
       "jw_00065_uncal.fits   99009       7 ...        f     full\n",
       "jw_00066_uncal.fits   99009       7 ...        f     full\n",
       "jw_00067_uncal.fits   99009       7 ...        f     full\n",
       "jw_00068_uncal.fits   99009       7 ...        f     full\n",
       "jw_00069_uncal.fits   99009       7 ...        f     full\n",
       "jw_00070_uncal.fits   99009       7 ...        f     full\n",
       "           set acid program obs_num ... tsovisit subarray"
      ]
     },
     "execution_count": 8,
     "metadata": {},
     "output_type": "execute_result"
    }
   ],
   "source": [
    "pool"
   ]
  },
  {
   "cell_type": "markdown",
   "metadata": {},
   "source": [
    "## Grouping"
   ]
  },
  {
   "cell_type": "code",
   "execution_count": 16,
   "metadata": {},
   "outputs": [],
   "source": [
    "asns_discovered, orphaned = generate(pool, registry_level3_only())"
   ]
  },
  {
   "cell_type": "code",
   "execution_count": 17,
   "metadata": {
    "scrolled": true
   },
   "outputs": [
    {
     "data": {
      "text/plain": [
       "{\n",
       "    \"asn_type\": \"spec3\",\n",
       "    \"asn_rule\": \"Asn_IFU\",\n",
       "    \"version_id\": null,\n",
       "    \"code_version\": \"0.13.2a.dev102+g3f32b46e\",\n",
       "    \"degraded_status\": \"No known degraded exposures in association.\",\n",
       "    \"program\": \"00623\",\n",
       "    \"constraints\": \"DMSAttrConstraint({'name': 'program', 'sources': ['program'], 'value': '623'})\\nDMSAttrConstraint({'name': 'instrument', 'sources': ['instrume'], 'value': 'miri'})\\nConstraint_Target({'name': 'target', 'sources': ['targetid'], 'value': '3'})\\nConstraint_IFU({'name': 'exp_type', 'sources': ['exp_type'], 'value': 'mir_mrs|mir_flatmrs|nrs_autowave|nrs_ifu'})\\nConstraint_Obsnum({'name': 'obs_num', 'sources': ['obs_num'], 'value': None})\\nDMSAttrConstraint({'name': 'acq_exp', 'sources': ['exp_type'], 'value': 'mir_tacq|nis_taconfirm|nis_tacq|nrc_taconfirm|nrc_tacq|nrs_confirm|nrs_msata|nrs_taconfirm|nrs_tacq|nrs_taslit|nrs_wata'})\\nDMSAttrConstraint({'name': 'acq_obsnum', 'sources': ['obs_num'], 'value': <function AsnMixin_Science.__init__.<locals>.<lambda> at 0x11ce02598>})\",\n",
       "    \"asn_id\": \"a3001\",\n",
       "    \"target\": \"t003\",\n",
       "    \"asn_pool\": \"jw00623_pool\",\n",
       "    \"products\": [\n",
       "        {\n",
       "            \"name\": \"jw00623-a3001_t003_miri\",\n",
       "            \"members\": [\n",
       "                {\n",
       "                    \"expname\": \"jw00623001001_03102_00002_mirifushort_cal.fits\",\n",
       "                    \"exptype\": \"science\",\n",
       "                    \"exposerr\": \"null\",\n",
       "                    \"asn_candidate\": \"[('c1000', 'group'), ('c1001', 'background'), ('o001', 'observation')]\"\n",
       "                },\n",
       "                {\n",
       "                    \"expname\": \"jw00623001001_03104_00002_mirifushort_cal.fits\",\n",
       "                    \"exptype\": \"science\",\n",
       "                    \"exposerr\": \"null\",\n",
       "                    \"asn_candidate\": \"[('c1000', 'group'), ('c1001', 'background'), ('o001', 'observation')]\"\n",
       "                },\n",
       "                {\n",
       "                    \"expname\": \"jw00623001001_03106_00002_mirifushort_cal.fits\",\n",
       "                    \"exptype\": \"science\",\n",
       "                    \"exposerr\": \"null\",\n",
       "                    \"asn_candidate\": \"[('c1000', 'group'), ('c1001', 'background'), ('o001', 'observation')]\"\n",
       "                },\n",
       "                {\n",
       "                    \"expname\": \"jw00623001001_03108_00002_mirifushort_cal.fits\",\n",
       "                    \"exptype\": \"science\",\n",
       "                    \"exposerr\": \"null\",\n",
       "                    \"asn_candidate\": \"[('c1000', 'group'), ('c1001', 'background'), ('o001', 'observation')]\"\n",
       "                },\n",
       "                {\n",
       "                    \"expname\": \"jw00623001001_03110_00002_mirifushort_cal.fits\",\n",
       "                    \"exptype\": \"science\",\n",
       "                    \"exposerr\": \"null\",\n",
       "                    \"asn_candidate\": \"[('c1000', 'group'), ('c1001', 'background'), ('o001', 'observation')]\"\n",
       "                },\n",
       "                {\n",
       "                    \"expname\": \"jw00623001001_03112_00002_mirifushort_cal.fits\",\n",
       "                    \"exptype\": \"science\",\n",
       "                    \"exposerr\": \"null\",\n",
       "                    \"asn_candidate\": \"[('c1000', 'group'), ('c1001', 'background'), ('o001', 'observation')]\"\n",
       "                },\n",
       "                {\n",
       "                    \"expname\": \"jw00623001001_03102_00002_mirifulong_cal.fits\",\n",
       "                    \"exptype\": \"science\",\n",
       "                    \"exposerr\": \"null\",\n",
       "                    \"asn_candidate\": \"[('c1000', 'group'), ('c1001', 'background'), ('o001', 'observation')]\"\n",
       "                },\n",
       "                {\n",
       "                    \"expname\": \"jw00623001001_03104_00002_mirifulong_cal.fits\",\n",
       "                    \"exptype\": \"science\",\n",
       "                    \"exposerr\": \"null\",\n",
       "                    \"asn_candidate\": \"[('c1000', 'group'), ('c1001', 'background'), ('o001', 'observation')]\"\n",
       "                },\n",
       "                {\n",
       "                    \"expname\": \"jw00623001001_03106_00002_mirifulong_cal.fits\",\n",
       "                    \"exptype\": \"science\",\n",
       "                    \"exposerr\": \"null\",\n",
       "                    \"asn_candidate\": \"[('c1000', 'group'), ('c1001', 'background'), ('o001', 'observation')]\"\n",
       "                },\n",
       "                {\n",
       "                    \"expname\": \"jw00623001001_03108_00002_mirifulong_cal.fits\",\n",
       "                    \"exptype\": \"science\",\n",
       "                    \"exposerr\": \"null\",\n",
       "                    \"asn_candidate\": \"[('c1000', 'group'), ('c1001', 'background'), ('o001', 'observation')]\"\n",
       "                },\n",
       "                {\n",
       "                    \"expname\": \"jw00623001001_03110_00002_mirifulong_cal.fits\",\n",
       "                    \"exptype\": \"science\",\n",
       "                    \"exposerr\": \"null\",\n",
       "                    \"asn_candidate\": \"[('c1000', 'group'), ('c1001', 'background'), ('o001', 'observation')]\"\n",
       "                },\n",
       "                {\n",
       "                    \"expname\": \"jw00623001001_03112_00002_mirifulong_cal.fits\",\n",
       "                    \"exptype\": \"science\",\n",
       "                    \"exposerr\": \"null\",\n",
       "                    \"asn_candidate\": \"[('c1000', 'group'), ('c1001', 'background'), ('o001', 'observation')]\"\n",
       "                }\n",
       "            ]\n",
       "        }\n",
       "    ]\n",
       "}"
      ]
     },
     "execution_count": 17,
     "metadata": {},
     "output_type": "execute_result"
    }
   ],
   "source": [
    "asns_discovered"
   ]
  },
  {
   "cell_type": "code",
   "execution_count": 18,
   "metadata": {
    "scrolled": true
   },
   "outputs": [
    {
     "ename": "TypeError",
     "evalue": "string indices must be integers",
     "output_type": "error",
     "traceback": [
      "\u001b[0;31m---------------------------------------------------------------------------\u001b[0m",
      "\u001b[0;31mTypeError\u001b[0m                                 Traceback (most recent call last)",
      "\u001b[0;32m<ipython-input-18-a60c1045d142>\u001b[0m in \u001b[0;36m<module>\u001b[0;34m\u001b[0m\n\u001b[1;32m      1\u001b[0m \u001b[0;32mfor\u001b[0m \u001b[0masn\u001b[0m \u001b[0;32min\u001b[0m \u001b[0masns_discovered\u001b[0m\u001b[0;34m:\u001b[0m\u001b[0;34m\u001b[0m\u001b[0;34m\u001b[0m\u001b[0m\n\u001b[0;32m----> 2\u001b[0;31m     \u001b[0mprint\u001b[0m\u001b[0;34m(\u001b[0m\u001b[0;34m'name {} asn_id {}'\u001b[0m\u001b[0;34m.\u001b[0m\u001b[0mformat\u001b[0m\u001b[0;34m(\u001b[0m\u001b[0masn\u001b[0m\u001b[0;34m[\u001b[0m\u001b[0;34m'products'\u001b[0m\u001b[0;34m]\u001b[0m\u001b[0;34m[\u001b[0m\u001b[0;36m0\u001b[0m\u001b[0;34m]\u001b[0m\u001b[0;34m[\u001b[0m\u001b[0;34m'name'\u001b[0m\u001b[0;34m]\u001b[0m\u001b[0;34m,\u001b[0m \u001b[0masn\u001b[0m\u001b[0;34m[\u001b[0m\u001b[0;34m'asn_id'\u001b[0m\u001b[0;34m]\u001b[0m\u001b[0;34m)\u001b[0m\u001b[0;34m)\u001b[0m\u001b[0;34m\u001b[0m\u001b[0;34m\u001b[0m\u001b[0m\n\u001b[0m",
      "\u001b[0;31mTypeError\u001b[0m: string indices must be integers"
     ]
    }
   ],
   "source": [
    "for asn in asns_discovered:\n",
    "    print('name {} asn_id {}'.format(asn['products'][0]['name'], asn['asn_id']))"
   ]
  },
  {
   "cell_type": "code",
   "execution_count": 19,
   "metadata": {},
   "outputs": [],
   "source": [
    "asn_discovered = registry_level2_only().Utility.merge_asns(asns_discovered)"
   ]
  },
  {
   "cell_type": "code",
   "execution_count": 20,
   "metadata": {
    "scrolled": true
   },
   "outputs": [
    {
     "data": {
      "text/plain": [
       "['asn_type',\n",
       " 'asn_rule',\n",
       " 'version_id',\n",
       " 'code_version',\n",
       " 'degraded_status',\n",
       " 'program',\n",
       " 'constraints',\n",
       " 'asn_id',\n",
       " 'target',\n",
       " 'asn_pool',\n",
       " 'products']"
      ]
     },
     "execution_count": 20,
     "metadata": {},
     "output_type": "execute_result"
    }
   ],
   "source": [
    "asn_discovered"
   ]
  },
  {
   "cell_type": "code",
   "execution_count": 22,
   "metadata": {},
   "outputs": [],
   "source": [
    "all_candidates = {\n",
    "    'asn_candidate': constrain_on_candidates(None)\n",
    "}\n",
    "rules_lv2_all_candidates = registry_level2_only(global_constraints=all_candidates)"
   ]
  },
  {
   "cell_type": "code",
   "execution_count": 23,
   "metadata": {},
   "outputs": [
    {
     "ename": "AttributeError",
     "evalue": "'dict' object has no attribute 'check_and_set'",
     "output_type": "error",
     "traceback": [
      "\u001b[0;31m---------------------------------------------------------------------------\u001b[0m",
      "\u001b[0;31mAttributeError\u001b[0m                            Traceback (most recent call last)",
      "\u001b[0;32m<ipython-input-23-ebe6a72602bd>\u001b[0m in \u001b[0;36m<module>\u001b[0;34m\u001b[0m\n\u001b[0;32m----> 1\u001b[0;31m \u001b[0masns_all_candidates\u001b[0m\u001b[0;34m,\u001b[0m \u001b[0morphaned\u001b[0m \u001b[0;34m=\u001b[0m \u001b[0mgenerate\u001b[0m\u001b[0;34m(\u001b[0m\u001b[0mpool\u001b[0m\u001b[0;34m,\u001b[0m \u001b[0mrules_lv2_all_candidates\u001b[0m\u001b[0;34m)\u001b[0m\u001b[0;34m\u001b[0m\u001b[0;34m\u001b[0m\u001b[0m\n\u001b[0m",
      "\u001b[0;32m~/src/JWST/scsb/jwst/jwst/associations/generate.py\u001b[0m in \u001b[0;36mgenerate\u001b[0;34m(pool, rules, version_id)\u001b[0m\n\u001b[1;32m     61\u001b[0m                 \u001b[0massociations\u001b[0m\u001b[0;34m,\u001b[0m\u001b[0;34m\u001b[0m\u001b[0;34m\u001b[0m\u001b[0m\n\u001b[1;32m     62\u001b[0m                 \u001b[0mrules\u001b[0m\u001b[0;34m,\u001b[0m\u001b[0;34m\u001b[0m\u001b[0;34m\u001b[0m\u001b[0m\n\u001b[0;32m---> 63\u001b[0;31m                 \u001b[0mprocess_list\u001b[0m\u001b[0;34m\u001b[0m\u001b[0;34m\u001b[0m\u001b[0m\n\u001b[0m\u001b[1;32m     64\u001b[0m             )\n\u001b[1;32m     65\u001b[0m             \u001b[0massociations\u001b[0m\u001b[0;34m.\u001b[0m\u001b[0mextend\u001b[0m\u001b[0;34m(\u001b[0m\u001b[0mnew_asns\u001b[0m\u001b[0;34m)\u001b[0m\u001b[0;34m\u001b[0m\u001b[0;34m\u001b[0m\u001b[0m\n",
      "\u001b[0;32m~/src/JWST/scsb/jwst/jwst/associations/generate.py\u001b[0m in \u001b[0;36mgenerate_from_item\u001b[0;34m(item, version_id, associations, rules, process_list)\u001b[0m\n\u001b[1;32m    164\u001b[0m             \u001b[0mversion_id\u001b[0m\u001b[0;34m=\u001b[0m\u001b[0mversion_id\u001b[0m\u001b[0;34m,\u001b[0m\u001b[0;34m\u001b[0m\u001b[0;34m\u001b[0m\u001b[0m\n\u001b[1;32m    165\u001b[0m             \u001b[0mallow\u001b[0m\u001b[0;34m=\u001b[0m\u001b[0mallowed_rules\u001b[0m\u001b[0;34m,\u001b[0m\u001b[0;34m\u001b[0m\u001b[0;34m\u001b[0m\u001b[0m\n\u001b[0;32m--> 166\u001b[0;31m             \u001b[0mignore\u001b[0m\u001b[0;34m=\u001b[0m\u001b[0mignore_asns\u001b[0m\u001b[0;34m,\u001b[0m\u001b[0;34m\u001b[0m\u001b[0;34m\u001b[0m\u001b[0m\n\u001b[0m\u001b[1;32m    167\u001b[0m         )\n\u001b[1;32m    168\u001b[0m     \u001b[0mreprocess_list\u001b[0m\u001b[0;34m.\u001b[0m\u001b[0mextend\u001b[0m\u001b[0;34m(\u001b[0m\u001b[0mreprocess\u001b[0m\u001b[0;34m)\u001b[0m\u001b[0;34m\u001b[0m\u001b[0;34m\u001b[0m\u001b[0m\n",
      "\u001b[0;32m~/src/JWST/scsb/jwst/jwst/associations/registry.py\u001b[0m in \u001b[0;36mmatch\u001b[0;34m(self, item, version_id, allow, ignore)\u001b[0m\n\u001b[1;32m    171\u001b[0m         \u001b[0;32mfor\u001b[0m \u001b[0mname\u001b[0m\u001b[0;34m,\u001b[0m \u001b[0mrule\u001b[0m \u001b[0;32min\u001b[0m \u001b[0mself\u001b[0m\u001b[0;34m.\u001b[0m\u001b[0mitems\u001b[0m\u001b[0;34m(\u001b[0m\u001b[0;34m)\u001b[0m\u001b[0;34m:\u001b[0m\u001b[0;34m\u001b[0m\u001b[0;34m\u001b[0m\u001b[0m\n\u001b[1;32m    172\u001b[0m             \u001b[0;32mif\u001b[0m \u001b[0mrule\u001b[0m \u001b[0;32mnot\u001b[0m \u001b[0;32min\u001b[0m \u001b[0mignore\u001b[0m \u001b[0;32mand\u001b[0m \u001b[0mrule\u001b[0m \u001b[0;32min\u001b[0m \u001b[0mallow\u001b[0m\u001b[0;34m:\u001b[0m\u001b[0;34m\u001b[0m\u001b[0;34m\u001b[0m\u001b[0m\n\u001b[0;32m--> 173\u001b[0;31m                 \u001b[0masn\u001b[0m\u001b[0;34m,\u001b[0m \u001b[0mreprocess\u001b[0m \u001b[0;34m=\u001b[0m \u001b[0mrule\u001b[0m\u001b[0;34m.\u001b[0m\u001b[0mcreate\u001b[0m\u001b[0;34m(\u001b[0m\u001b[0mitem\u001b[0m\u001b[0;34m,\u001b[0m \u001b[0mversion_id\u001b[0m\u001b[0;34m)\u001b[0m\u001b[0;34m\u001b[0m\u001b[0;34m\u001b[0m\u001b[0m\n\u001b[0m\u001b[1;32m    174\u001b[0m                 \u001b[0mprocess_list\u001b[0m\u001b[0;34m.\u001b[0m\u001b[0mextend\u001b[0m\u001b[0;34m(\u001b[0m\u001b[0mreprocess\u001b[0m\u001b[0;34m)\u001b[0m\u001b[0;34m\u001b[0m\u001b[0;34m\u001b[0m\u001b[0m\n\u001b[1;32m    175\u001b[0m                 \u001b[0;32mif\u001b[0m \u001b[0masn\u001b[0m \u001b[0;32mis\u001b[0m \u001b[0;32mnot\u001b[0m \u001b[0;32mNone\u001b[0m\u001b[0;34m:\u001b[0m\u001b[0;34m\u001b[0m\u001b[0;34m\u001b[0m\u001b[0m\n",
      "\u001b[0;32m~/src/JWST/scsb/jwst/jwst/associations/lib/dms_base.py\u001b[0m in \u001b[0;36mcreate\u001b[0;34m(cls, item, version_id)\u001b[0m\n\u001b[1;32m    197\u001b[0m             \u001b[0;34m-\u001b[0m \u001b[0;34m[\u001b[0m\u001b[0mProcessList\u001b[0m\u001b[0;34m[\u001b[0m\u001b[0;34m,\u001b[0m \u001b[0;34m...\u001b[0m\u001b[0;34m]\u001b[0m\u001b[0;34m]\u001b[0m\u001b[0;34m:\u001b[0m \u001b[0mList\u001b[0m \u001b[0mof\u001b[0m \u001b[0mitems\u001b[0m \u001b[0mto\u001b[0m \u001b[0mprocess\u001b[0m \u001b[0magain\u001b[0m\u001b[0;34m.\u001b[0m\u001b[0;34m\u001b[0m\u001b[0;34m\u001b[0m\u001b[0m\n\u001b[1;32m    198\u001b[0m         \"\"\"\n\u001b[0;32m--> 199\u001b[0;31m         \u001b[0masn\u001b[0m\u001b[0;34m,\u001b[0m \u001b[0mreprocess\u001b[0m \u001b[0;34m=\u001b[0m \u001b[0msuper\u001b[0m\u001b[0;34m(\u001b[0m\u001b[0mDMSBaseMixin\u001b[0m\u001b[0;34m,\u001b[0m \u001b[0mcls\u001b[0m\u001b[0;34m)\u001b[0m\u001b[0;34m.\u001b[0m\u001b[0mcreate\u001b[0m\u001b[0;34m(\u001b[0m\u001b[0mitem\u001b[0m\u001b[0;34m,\u001b[0m \u001b[0mversion_id\u001b[0m\u001b[0;34m)\u001b[0m\u001b[0;34m\u001b[0m\u001b[0;34m\u001b[0m\u001b[0m\n\u001b[0m\u001b[1;32m    200\u001b[0m         \u001b[0;32mif\u001b[0m \u001b[0;32mnot\u001b[0m \u001b[0masn\u001b[0m\u001b[0;34m:\u001b[0m\u001b[0;34m\u001b[0m\u001b[0;34m\u001b[0m\u001b[0m\n\u001b[1;32m    201\u001b[0m             \u001b[0;32mreturn\u001b[0m \u001b[0;32mNone\u001b[0m\u001b[0;34m,\u001b[0m \u001b[0mreprocess\u001b[0m\u001b[0;34m\u001b[0m\u001b[0;34m\u001b[0m\u001b[0m\n",
      "\u001b[0;32m~/src/JWST/scsb/jwst/jwst/associations/association.py\u001b[0m in \u001b[0;36mcreate\u001b[0;34m(cls, item, version_id)\u001b[0m\n\u001b[1;32m    146\u001b[0m         \"\"\"\n\u001b[1;32m    147\u001b[0m         \u001b[0masn\u001b[0m \u001b[0;34m=\u001b[0m \u001b[0mcls\u001b[0m\u001b[0;34m(\u001b[0m\u001b[0mversion_id\u001b[0m\u001b[0;34m=\u001b[0m\u001b[0mversion_id\u001b[0m\u001b[0;34m)\u001b[0m\u001b[0;34m\u001b[0m\u001b[0;34m\u001b[0m\u001b[0m\n\u001b[0;32m--> 148\u001b[0;31m         \u001b[0mmatches\u001b[0m\u001b[0;34m,\u001b[0m \u001b[0mreprocess\u001b[0m \u001b[0;34m=\u001b[0m \u001b[0masn\u001b[0m\u001b[0;34m.\u001b[0m\u001b[0madd\u001b[0m\u001b[0;34m(\u001b[0m\u001b[0mitem\u001b[0m\u001b[0;34m)\u001b[0m\u001b[0;34m\u001b[0m\u001b[0;34m\u001b[0m\u001b[0m\n\u001b[0m\u001b[1;32m    149\u001b[0m         \u001b[0;32mif\u001b[0m \u001b[0;32mnot\u001b[0m \u001b[0mmatches\u001b[0m\u001b[0;34m:\u001b[0m\u001b[0;34m\u001b[0m\u001b[0;34m\u001b[0m\u001b[0m\n\u001b[1;32m    150\u001b[0m             \u001b[0;32mreturn\u001b[0m \u001b[0;32mNone\u001b[0m\u001b[0;34m,\u001b[0m \u001b[0mreprocess\u001b[0m\u001b[0;34m\u001b[0m\u001b[0;34m\u001b[0m\u001b[0m\n",
      "\u001b[0;32m~/src/JWST/scsb/jwst/jwst/associations/association.py\u001b[0m in \u001b[0;36madd\u001b[0;34m(self, item, check_constraints)\u001b[0m\n\u001b[1;32m    346\u001b[0m         \u001b[0mmatch\u001b[0m \u001b[0;34m=\u001b[0m \u001b[0;32mnot\u001b[0m \u001b[0mcheck_constraints\u001b[0m\u001b[0;34m\u001b[0m\u001b[0;34m\u001b[0m\u001b[0m\n\u001b[1;32m    347\u001b[0m         \u001b[0;32mif\u001b[0m \u001b[0mcheck_constraints\u001b[0m\u001b[0;34m:\u001b[0m\u001b[0;34m\u001b[0m\u001b[0;34m\u001b[0m\u001b[0m\n\u001b[0;32m--> 348\u001b[0;31m             \u001b[0mmatch\u001b[0m\u001b[0;34m,\u001b[0m \u001b[0mreprocess\u001b[0m \u001b[0;34m=\u001b[0m \u001b[0mself\u001b[0m\u001b[0;34m.\u001b[0m\u001b[0mcheck_and_set_constraints\u001b[0m\u001b[0;34m(\u001b[0m\u001b[0mitem\u001b[0m\u001b[0;34m)\u001b[0m\u001b[0;34m\u001b[0m\u001b[0;34m\u001b[0m\u001b[0m\n\u001b[0m\u001b[1;32m    349\u001b[0m \u001b[0;34m\u001b[0m\u001b[0m\n\u001b[1;32m    350\u001b[0m         \u001b[0;32mif\u001b[0m \u001b[0mmatch\u001b[0m\u001b[0;34m:\u001b[0m\u001b[0;34m\u001b[0m\u001b[0;34m\u001b[0m\u001b[0m\n",
      "\u001b[0;32m~/src/JWST/scsb/jwst/jwst/associations/association.py\u001b[0m in \u001b[0;36mcheck_and_set_constraints\u001b[0;34m(self, item)\u001b[0m\n\u001b[1;32m    385\u001b[0m         \"\"\"\n\u001b[1;32m    386\u001b[0m         \u001b[0mcached_constraints\u001b[0m \u001b[0;34m=\u001b[0m \u001b[0mdeepcopy\u001b[0m\u001b[0;34m(\u001b[0m\u001b[0mself\u001b[0m\u001b[0;34m.\u001b[0m\u001b[0mconstraints\u001b[0m\u001b[0;34m)\u001b[0m\u001b[0;34m\u001b[0m\u001b[0;34m\u001b[0m\u001b[0m\n\u001b[0;32m--> 387\u001b[0;31m         \u001b[0mmatch\u001b[0m\u001b[0;34m,\u001b[0m \u001b[0mreprocess\u001b[0m \u001b[0;34m=\u001b[0m \u001b[0mcached_constraints\u001b[0m\u001b[0;34m.\u001b[0m\u001b[0mcheck_and_set\u001b[0m\u001b[0;34m(\u001b[0m\u001b[0mitem\u001b[0m\u001b[0;34m)\u001b[0m\u001b[0;34m\u001b[0m\u001b[0;34m\u001b[0m\u001b[0m\n\u001b[0m\u001b[1;32m    388\u001b[0m         \u001b[0;32mif\u001b[0m \u001b[0mmatch\u001b[0m\u001b[0;34m:\u001b[0m\u001b[0;34m\u001b[0m\u001b[0;34m\u001b[0m\u001b[0m\n\u001b[1;32m    389\u001b[0m             \u001b[0mself\u001b[0m\u001b[0;34m.\u001b[0m\u001b[0mconstraints\u001b[0m \u001b[0;34m=\u001b[0m \u001b[0mcached_constraints\u001b[0m\u001b[0;34m\u001b[0m\u001b[0;34m\u001b[0m\u001b[0m\n",
      "\u001b[0;32m~/src/JWST/scsb/jwst/jwst/associations/lib/constraint.py\u001b[0m in \u001b[0;36mcheck_and_set\u001b[0;34m(self, item, work_over)\u001b[0m\n\u001b[1;32m    587\u001b[0m \u001b[0;34m\u001b[0m\u001b[0m\n\u001b[1;32m    588\u001b[0m         \u001b[0;31m# Do we have positive?\u001b[0m\u001b[0;34m\u001b[0m\u001b[0;34m\u001b[0m\u001b[0;34m\u001b[0m\u001b[0m\n\u001b[0;32m--> 589\u001b[0;31m         \u001b[0mself\u001b[0m\u001b[0;34m.\u001b[0m\u001b[0mmatched\u001b[0m\u001b[0;34m,\u001b[0m \u001b[0mreprocess\u001b[0m \u001b[0;34m=\u001b[0m \u001b[0mself\u001b[0m\u001b[0;34m.\u001b[0m\u001b[0mreduce\u001b[0m\u001b[0;34m(\u001b[0m\u001b[0mitem\u001b[0m\u001b[0;34m,\u001b[0m \u001b[0mself\u001b[0m\u001b[0;34m.\u001b[0m\u001b[0mconstraints\u001b[0m\u001b[0;34m)\u001b[0m\u001b[0;34m\u001b[0m\u001b[0;34m\u001b[0m\u001b[0m\n\u001b[0m\u001b[1;32m    590\u001b[0m \u001b[0;34m\u001b[0m\u001b[0m\n\u001b[1;32m    591\u001b[0m         \u001b[0;31m# Determine reprocessing\u001b[0m\u001b[0;34m\u001b[0m\u001b[0;34m\u001b[0m\u001b[0;34m\u001b[0m\u001b[0m\n",
      "\u001b[0;32m~/src/JWST/scsb/jwst/jwst/associations/lib/constraint.py\u001b[0m in \u001b[0;36mall\u001b[0;34m(item, constraints)\u001b[0m\n\u001b[1;32m    624\u001b[0m         \u001b[0mto_reprocess\u001b[0m \u001b[0;34m=\u001b[0m \u001b[0;34m[\u001b[0m\u001b[0;34m]\u001b[0m\u001b[0;34m\u001b[0m\u001b[0;34m\u001b[0m\u001b[0m\n\u001b[1;32m    625\u001b[0m         \u001b[0;32mfor\u001b[0m \u001b[0mconstraint\u001b[0m \u001b[0;32min\u001b[0m \u001b[0mconstraints\u001b[0m\u001b[0;34m:\u001b[0m\u001b[0;34m\u001b[0m\u001b[0;34m\u001b[0m\u001b[0m\n\u001b[0;32m--> 626\u001b[0;31m             \u001b[0mmatch\u001b[0m\u001b[0;34m,\u001b[0m \u001b[0mreprocess\u001b[0m \u001b[0;34m=\u001b[0m \u001b[0mconstraint\u001b[0m\u001b[0;34m.\u001b[0m\u001b[0mcheck_and_set\u001b[0m\u001b[0;34m(\u001b[0m\u001b[0mitem\u001b[0m\u001b[0;34m)\u001b[0m\u001b[0;34m\u001b[0m\u001b[0;34m\u001b[0m\u001b[0m\n\u001b[0m\u001b[1;32m    627\u001b[0m \u001b[0;34m\u001b[0m\u001b[0m\n\u001b[1;32m    628\u001b[0m             \u001b[0;32mif\u001b[0m \u001b[0mmatch\u001b[0m\u001b[0;34m:\u001b[0m\u001b[0;34m\u001b[0m\u001b[0;34m\u001b[0m\u001b[0m\n",
      "\u001b[0;31mAttributeError\u001b[0m: 'dict' object has no attribute 'check_and_set'"
     ]
    }
   ],
   "source": [
    "asns_all_candidates, orphaned = generate(pool, rules_lv2_all_candidates)"
   ]
  },
  {
   "cell_type": "code",
   "execution_count": null,
   "metadata": {
    "scrolled": true
   },
   "outputs": [],
   "source": [
    "asns_all_candidates"
   ]
  },
  {
   "cell_type": "code",
   "execution_count": null,
   "metadata": {
    "scrolled": true
   },
   "outputs": [],
   "source": [
    "for asn in asns_all_candidates:\n",
    "    print('name {} asn_id {}'.format(asn['products'][0]['name'], asn['asn_id']))"
   ]
  },
  {
   "cell_type": "code",
   "execution_count": null,
   "metadata": {},
   "outputs": [],
   "source": [
    "asn_all_candidates = rules_lv2_all_candidates.Utility.merge_asns(asns_all_candidates)"
   ]
  },
  {
   "cell_type": "code",
   "execution_count": null,
   "metadata": {
    "scrolled": true
   },
   "outputs": [],
   "source": [
    "asn_all_candidates"
   ]
  },
  {
   "cell_type": "code",
   "execution_count": null,
   "metadata": {},
   "outputs": [],
   "source": [
    "constrain_1_2 = {\n",
    "    'asn_candidate': constrain_on_candidates(['o001', 'o002'])\n",
    "}"
   ]
  },
  {
   "cell_type": "code",
   "execution_count": null,
   "metadata": {},
   "outputs": [],
   "source": [
    "rules_lv2_1_2 = registry_level2_only(global_constraints=constrain_1_2)"
   ]
  },
  {
   "cell_type": "code",
   "execution_count": null,
   "metadata": {},
   "outputs": [],
   "source": [
    "asns_1_2, orphaned = generate(pool, rules_lv2_1_2)"
   ]
  },
  {
   "cell_type": "code",
   "execution_count": null,
   "metadata": {
    "scrolled": true
   },
   "outputs": [],
   "source": [
    "asns_1_2"
   ]
  },
  {
   "cell_type": "code",
   "execution_count": null,
   "metadata": {},
   "outputs": [],
   "source": [
    "asn_1_2 = rules_lv2_1_2.Utility.merge_asns(asns_1_2)"
   ]
  },
  {
   "cell_type": "code",
   "execution_count": null,
   "metadata": {
    "scrolled": true
   },
   "outputs": [],
   "source": [
    "asn_1_2"
   ]
  },
  {
   "cell_type": "code",
   "execution_count": null,
   "metadata": {},
   "outputs": [],
   "source": [
    "asn_name, serialized = asn_1_2[0].dump()"
   ]
  },
  {
   "cell_type": "code",
   "execution_count": null,
   "metadata": {},
   "outputs": [],
   "source": [
    "asn_name"
   ]
  },
  {
   "cell_type": "markdown",
   "metadata": {},
   "source": [
    "## All Candidates issue"
   ]
  },
  {
   "cell_type": "code",
   "execution_count": null,
   "metadata": {},
   "outputs": [],
   "source": [
    "len(pool)"
   ]
  },
  {
   "cell_type": "code",
   "execution_count": null,
   "metadata": {
    "scrolled": true
   },
   "outputs": [],
   "source": [
    "pdb.run(\"Main(\"\n",
    "    \"pool=pool,\"\n",
    "    \"args=[\"\n",
    "    \"    '--dry-run',\"\n",
    "    \"    '--ignore-default',\"\n",
    "    \"    '-r',\"\n",
    "    \"    '/Users/eisenham/Documents/ssbdev/jwst/jwst/associations/lib/rules_level2b.py',\"\n",
    "    \"    '-v',\"\n",
    "    \"    '--all-candidates',\"\n",
    "    \"]\"\n",
    "\")\")"
   ]
  },
  {
   "cell_type": "code",
   "execution_count": null,
   "metadata": {
    "scrolled": true
   },
   "outputs": [],
   "source": [
    "generated = Main(\n",
    "    pool=pool,\n",
    "    args=[\n",
    "        '--dry-run',\n",
    "        '--ignore-default',\n",
    "        '-r',\n",
    "        '/Users/eisenham/Documents/ssbdev/jwst/jwst/associations/lib/rules_level2b.py',\n",
    "        '-v',\n",
    "        '--all-candidates',\n",
    "    ]\n",
    ")"
   ]
  },
  {
   "cell_type": "code",
   "execution_count": null,
   "metadata": {
    "scrolled": false
   },
   "outputs": [],
   "source": [
    "%debug"
   ]
  },
  {
   "cell_type": "code",
   "execution_count": null,
   "metadata": {},
   "outputs": [],
   "source": [
    "rules = AssociationRegistry(global_constraints=all_candidates)\n",
    "rules_lv2 = registry_level2_only(global_constraints=all_candidates)\n",
    "rules_lv3 = registry_level3_only(global_constraints=all_candidates)"
   ]
  },
  {
   "cell_type": "code",
   "execution_count": null,
   "metadata": {},
   "outputs": [],
   "source": [
    "asns, orphaned = generate(pool, rules_lv2)"
   ]
  },
  {
   "cell_type": "code",
   "execution_count": null,
   "metadata": {
    "scrolled": false
   },
   "outputs": [],
   "source": [
    "pdb.run(\"generate(pool, rules_lv2)\")"
   ]
  },
  {
   "cell_type": "code",
   "execution_count": null,
   "metadata": {
    "scrolled": false
   },
   "outputs": [],
   "source": [
    "len(asns)"
   ]
  },
  {
   "cell_type": "code",
   "execution_count": null,
   "metadata": {
    "scrolled": true
   },
   "outputs": [],
   "source": [
    "asn = asns[0]"
   ]
  },
  {
   "cell_type": "code",
   "execution_count": null,
   "metadata": {},
   "outputs": [],
   "source": [
    "asn.__str__()"
   ]
  },
  {
   "cell_type": "code",
   "execution_count": null,
   "metadata": {},
   "outputs": [],
   "source": []
  }
 ],
 "metadata": {
  "kernelspec": {
   "display_name": "Python 3",
   "language": "python",
   "name": "python3"
  },
  "language_info": {
   "codemirror_mode": {
    "name": "ipython",
    "version": 3
   },
   "file_extension": ".py",
   "mimetype": "text/x-python",
   "name": "python",
   "nbconvert_exporter": "python",
   "pygments_lexer": "ipython3",
   "version": "3.7.3"
  }
 },
 "nbformat": 4,
 "nbformat_minor": 2
}
