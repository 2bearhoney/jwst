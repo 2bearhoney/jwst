{
 "cells": [
  {
   "cell_type": "markdown",
   "metadata": {},
   "source": [
    "# Abstract"
   ]
  },
  {
   "cell_type": "markdown",
   "metadata": {},
   "source": [
    "Try out various perfomance checks and issues"
   ]
  },
  {
   "cell_type": "markdown",
   "metadata": {},
   "source": [
    "# Environment"
   ]
  },
  {
   "cell_type": "markdown",
   "metadata": {},
   "source": [
    "# Setup debugging log\n",
    "import logging\n",
    "logger = logging.getLogger('jwst.associations')\n",
    "handler = logging.StreamHandler()\n",
    "logger.addHandler(handler)\n",
    "handler.setLevel(logging.DEBUG)\n",
    "logger.setLevel(logging.DEBUG)"
   ]
  },
  {
   "cell_type": "code",
   "execution_count": 1,
   "metadata": {
    "collapsed": true
   },
   "outputs": [],
   "source": [
    "import cProfile\n",
    "import pdb"
   ]
  },
  {
   "cell_type": "code",
   "execution_count": 2,
   "metadata": {
    "collapsed": false
   },
   "outputs": [],
   "source": [
    "from jwst.associations.tests.helpers import (\n",
    "    combine_pools,\n",
    "    registry_level3_only\n",
    ")"
   ]
  },
  {
   "cell_type": "code",
   "execution_count": 3,
   "metadata": {
    "collapsed": true
   },
   "outputs": [],
   "source": [
    "from jwst.associations import generate"
   ]
  },
  {
   "cell_type": "markdown",
   "metadata": {},
   "source": [
    "# Library"
   ]
  },
  {
   "cell_type": "markdown",
   "metadata": {},
   "source": [
    "# Main"
   ]
  },
  {
   "cell_type": "markdown",
   "metadata": {},
   "source": [
    "# The most basic"
   ]
  },
  {
   "cell_type": "code",
   "execution_count": 4,
   "metadata": {
    "collapsed": false,
    "scrolled": true
   },
   "outputs": [
    {
     "name": "stderr",
     "output_type": "stream",
     "text": [
      "/Users/eisenham/anaconda3/envs/jwstdevpy3/lib/python3.5/site-packages/astropy/table/table.py:1301: StringTruncateWarning: truncated right side string(s) longer than 14 character(s) during assignment\n",
      "  col[item] = val\n"
     ]
    }
   ],
   "source": [
    "pool = combine_pools('data/pool_012_image_miri_single_exp.csv')"
   ]
  },
  {
   "cell_type": "code",
   "execution_count": 5,
   "metadata": {
    "collapsed": false
   },
   "outputs": [],
   "source": [
    "rules = registry_level3_only()"
   ]
  },
  {
   "cell_type": "code",
   "execution_count": 6,
   "metadata": {
    "collapsed": false,
    "scrolled": true
   },
   "outputs": [
    {
     "name": "stdout",
     "output_type": "stream",
     "text": [
      "Calling constraints_to_text\n"
     ]
    }
   ],
   "source": [
    "asns, orphaned = generate(pool, rules)"
   ]
  },
  {
   "cell_type": "code",
   "execution_count": 7,
   "metadata": {
    "collapsed": false,
    "deletable": true,
    "editable": true,
    "scrolled": true
   },
   "outputs": [
    {
     "name": "stdout",
     "output_type": "stream",
     "text": [
      "Calling constraints_to_text\n",
      "         475440 function calls (462436 primitive calls) in 0.374 seconds\n",
      "\n",
      "   Ordered by: standard name\n",
      "\n",
      "   ncalls  tottime  percall  cumtime  percall filename:lineno(function)\n",
      "        1    0.000    0.000    0.373    0.373 <string>:1(<module>)\n",
      "       24    0.000    0.000    0.000    0.000 <string>:12(__new__)\n",
      "      140    0.000    0.000    0.000    0.000 __init__.py:1258(debug)\n",
      "      140    0.000    0.000    0.000    0.000 __init__.py:1502(getEffectiveLevel)\n",
      "      140    0.000    0.000    0.000    0.000 __init__.py:1516(isEnabledFor)\n",
      "        1    0.000    0.000    0.000    0.000 __init__.py:182(dumps)\n",
      "        1    0.000    0.000    0.000    0.000 __init__.py:243(load)\n",
      "        1    0.000    0.000    0.000    0.000 __init__.py:271(loads)\n",
      "        1    0.000    0.000    0.000    0.000 __init__.py:984(__getitem__)\n",
      "        1    0.000    0.000    0.000    0.000 _bootlocale.py:23(getpreferredencoding)\n",
      "       34    0.000    0.000    0.000    0.000 _collections_abc.py:594(get)\n",
      "        2    0.000    0.000    0.000    0.000 _collections_abc.py:613(items)\n",
      "        2    0.000    0.000    0.000    0.000 _collections_abc.py:633(__init__)\n",
      "        6    0.000    0.000    0.000    0.000 _collections_abc.py:677(__iter__)\n",
      "        2    0.000    0.000    0.000    0.000 _collections_abc.py:758(update)\n",
      "        1    0.000    0.000    0.000    0.000 _utils.py:122(types_msg)\n",
      "       11    0.000    0.000    0.000    0.000 _utils.py:15(normalize)\n",
      "       66    0.000    0.000    0.000    0.000 _utils.py:165(ensure_list)\n",
      "       11    0.000    0.000    0.000    0.000 _utils.py:178(unbool)\n",
      "        2    0.000    0.000    0.000    0.000 _utils.py:18(__init__)\n",
      "        3    0.000    0.000    0.000    0.000 _utils.py:191(uniq)\n",
      "       14    0.000    0.000    0.000    0.000 _utils.py:202(<genexpr>)\n",
      "        9    0.000    0.000    0.000    0.000 _utils.py:22(__getitem__)\n",
      "        2    0.000    0.000    0.000    0.000 _utils.py:25(__setitem__)\n",
      "        2    0.000    0.000    0.000    0.000 _utils.py:31(__iter__)\n",
      "       15    0.000    0.000    0.000    0.000 _utils.py:89(find_additional_properties)\n",
      "        4    0.000    0.000    0.000    0.000 _validators.py:133(minItems)\n",
      "        3    0.000    0.000    0.000    0.000 _validators.py:143(uniqueItems)\n",
      "        1    0.000    0.000    0.000    0.000 _validators.py:160(format)\n",
      "       17    0.000    0.000    0.000    0.000 _validators.py:178(dependencies)\n",
      "       16    0.000    0.000    0.000    0.000 _validators.py:200(enum)\n",
      "    36/10    0.000    0.000    0.001    0.000 _validators.py:205(ref)\n",
      "      3/1    0.000    0.000    0.001    0.001 _validators.py:21(additionalProperties)\n",
      "       67    0.000    0.000    0.000    0.000 _validators.py:287(type_draft4)\n",
      "      132    0.000    0.000    0.000    0.000 _validators.py:290(<genexpr>)\n",
      "     20/2    0.000    0.000    0.002    0.001 _validators.py:294(properties_draft4)\n",
      "        3    0.000    0.000    0.000    0.000 _validators.py:309(required_draft4)\n",
      "    19/12    0.000    0.000    0.001    0.000 _validators.py:361(anyOf_draft4)\n",
      "      6/5    0.000    0.000    0.000    0.000 _validators.py:49(items)\n",
      "     1683    0.001    0.000    0.001    0.000 _weakrefset.py:70(__contains__)\n",
      "     1641    0.002    0.000    0.003    0.000 abc.py:178(__instancecheck__)\n",
      "        3    0.000    0.000    0.000    0.000 acid.py:44(__init__)\n",
      "        9    0.000    0.000    0.350    0.039 acid.py:56(__init__)\n",
      "        3    0.000    0.000    0.000    0.000 acid.py:63(acid_from_constraints)\n",
      "        9    0.000    0.000    0.350    0.039 association.py:102(__init__)\n",
      "        9    0.000    0.000    0.000    0.000 association.py:130(_asn_rule)\n",
      "        9    0.000    0.000    0.000    0.000 association.py:134(asn_rule)\n",
      "        1    0.000    0.000    0.002    0.002 association.py:138(validate)\n",
      "        1    0.000    0.000    0.003    0.003 association.py:285(is_valid)\n",
      "        9    0.000    0.000    0.350    0.039 association.py:294(add)\n",
      "        9    0.000    0.000    0.349    0.039 association.py:315(test_and_set_constraints)\n",
      "       32    0.000    0.000    0.347    0.011 association.py:345(match_member)\n",
      "       48    0.000    0.000    0.000    0.000 association.py:473(add_constraints)\n",
      "        9    0.000    0.000    0.000    0.000 association.py:484(constraints_to_text)\n",
      "        1    0.000    0.000    0.000    0.000 association.py:497(_init_hook)\n",
      "        9    0.000    0.000    0.000    0.000 association.py:560(meets_conditions)\n",
      "       32    0.000    0.000    0.000    0.000 association.py:597(getattr_from_list)\n",
      "       25    0.000    0.000    0.001    0.000 association.py:642(evaluate)\n",
      "       34    0.000    0.000    0.000    0.000 association.py:663(is_iterable)\n",
      "        1    0.000    0.000    0.000    0.000 association_io.py:63(dump)\n",
      "       25    0.000    0.000    0.000    0.000 ast.py:30(parse)\n",
      "       28    0.000    0.000    0.001    0.000 ast.py:38(literal_eval)\n",
      "       28    0.000    0.000    0.000    0.000 ast.py:49(_convert)\n",
      "        1    0.000    0.000    0.003    0.003 callback_registry.py:18(filter)\n",
      "        1    0.000    0.000    0.000    0.000 codecs.py:259(__init__)\n",
      "        1    0.000    0.000    0.000    0.000 codecs.py:308(__init__)\n",
      "        1    0.000    0.000    0.000    0.000 codecs.py:318(decode)\n",
      "     1598    0.000    0.000    0.000    0.000 column.py:173(parent_table)\n",
      "     3196    0.003    0.000    0.007    0.000 column.py:180(parent_table)\n",
      "     1598    0.005    0.000    0.120    0.000 column.py:280(__array_finalize__)\n",
      "     6345    0.001    0.000    0.001    0.000 column.py:324(name)\n",
      "     1598    0.002    0.000    0.006    0.000 column.py:331(name)\n",
      "     3149    0.001    0.000    0.001    0.000 column.py:502(unit)\n",
      "     1598    0.001    0.000    0.003    0.000 column.py:513(unit)\n",
      "     1598    0.008    0.000    0.105    0.000 column.py:632(_copy_attrs)\n",
      "20774/12784    0.028    0.000    0.074    0.000 column.py:721(__setattr__)\n",
      "       14    0.000    0.000    0.000    0.000 compat.py:39(urlsplit)\n",
      "        4    0.000    0.000    0.000    0.000 compat.py:46(urldefrag)\n",
      "      198    0.000    0.000    0.000    0.000 configobj.py:554(__getitem__)\n",
      "       99    0.000    0.000    0.003    0.000 configuration.py:275(__get__)\n",
      "       99    0.001    0.000    0.002    0.000 configuration.py:380(__call__)\n",
      "       99    0.000    0.000    0.000    0.000 configuration.py:447(_validate_val)\n",
      "      198    0.000    0.000    0.001    0.000 configuration.py:481(get_config)\n",
      "       33    0.000    0.000    0.001    0.000 console.py:106(_get_stdout)\n",
      "       33    0.000    0.000    0.001    0.000 console.py:137(isatty)\n",
      "       33    0.001    0.000    0.003    0.000 console.py:178(terminal_size)\n",
      "7564/3248    0.018    0.000    0.057    0.000 copy.py:137(deepcopy)\n",
      "      942    0.000    0.000    0.000    0.000 copy.py:192(_deepcopy_atomic)\n",
      "       89    0.000    0.000    0.001    0.000 copy.py:214(_deepcopy_list)\n",
      "     3230    0.009    0.000    0.010    0.000 copy.py:222(_deepcopy_tuple)\n",
      "     3230    0.001    0.000    0.001    0.000 copy.py:223(<listcomp>)\n",
      "    73/18    0.000    0.000    0.001    0.000 copy.py:239(_deepcopy_dict)\n",
      "     3392    0.004    0.000    0.004    0.000 copy.py:253(_keep_alive)\n",
      "     3230    0.011    0.000    0.031    0.000 copy.py:269(_reconstruct)\n",
      "        2    0.000    0.000    0.000    0.000 counter.py:11(__next__)\n",
      "       10    0.000    0.000    0.000    0.000 counter.py:3(__init__)\n",
      "     1598    0.007    0.000    0.015    0.000 data_info.py:191(__init__)\n",
      "    14382    0.002    0.000    0.002    0.000 data_info.py:195(<genexpr>)\n",
      "    18894    0.023    0.000    0.083    0.000 data_info.py:197(__get__)\n",
      "    14100    0.019    0.000    0.027    0.000 data_info.py:228(__getattr__)\n",
      "    25286    0.040    0.000    0.065    0.000 data_info.py:250(__setattr__)\n",
      "        1    0.000    0.000    0.000    0.000 decoder.py:334(decode)\n",
      "        1    0.000    0.000    0.000    0.000 decoder.py:345(raw_decode)\n",
      "        3    0.000    0.000    0.000    0.000 dms_base.py:21(acid)\n",
      "        1    0.000    0.000    0.000    0.000 dms_base.py:26(asn_name)\n",
      "       11    0.000    0.000    0.000    0.000 dms_base.py:50(validity)\n",
      "        1    0.000    0.000    0.000    0.000 dms_base.py:69(new_product)\n",
      "        1    0.000    0.000    0.000    0.000 dms_base.py:80(update_validity)\n",
      "        1    0.000    0.000    0.003    0.003 dms_base.py:85(validate)\n",
      "        2    0.000    0.000    0.000    0.000 dms_base.py:93(<genexpr>)\n",
      "        1    0.000    0.000    0.000    0.000 encoder.py:104(__init__)\n",
      "        1    0.000    0.000    0.000    0.000 encoder.py:181(encode)\n",
      "        1    0.000    0.000    0.000    0.000 encoder.py:203(iterencode)\n",
      "        1    0.000    0.000    0.000    0.000 encoder.py:258(_make_iterencode)\n",
      "    59/36    0.000    0.000    0.000    0.000 encoder.py:276(_iterencode_list)\n",
      "   135/82    0.000    0.000    0.000    0.000 encoder.py:332(_iterencode_dict)\n",
      "       82    0.000    0.000    0.000    0.000 encoder.py:411(_iterencode)\n",
      "        1    0.000    0.000    0.000    0.000 exceptions.py:114(_set)\n",
      "        9    0.000    0.000    0.000    0.000 exceptions.py:12(__init__)\n",
      "        8    0.000    0.000    0.000    0.000 exceptions.py:15(__str__)\n",
      "        1    0.000    0.000    0.000    0.000 exceptions.py:17(__init__)\n",
      "        1    0.000    0.000    0.000    0.000 exceptions.py:41(__init__)\n",
      "        4    0.000    0.000    0.000    0.000 functools.py:391(lru_cache)\n",
      "        4    0.000    0.000    0.000    0.000 functools.py:422(decorating_function)\n",
      "        4    0.000    0.000    0.000    0.000 functools.py:43(update_wrapper)\n",
      "        1    0.000    0.000    0.000    0.000 generate.py:132(<listcomp>)\n",
      "        1    0.000    0.000    0.000    0.000 generate.py:141(<listcomp>)\n",
      "        1    0.000    0.000    0.000    0.000 generate.py:156(match_member)\n",
      "        1    0.000    0.000    0.373    0.373 generate.py:19(generate)\n",
      "        1    0.000    0.000    0.000    0.000 generate.py:59(<listcomp>)\n",
      "        1    0.000    0.000    0.351    0.351 generate.py:87(generate_from_member)\n",
      "        3    0.000    0.000    0.000    0.000 iostream.py:180(schedule)\n",
      "        2    0.000    0.000    0.000    0.000 iostream.py:284(_is_master_process)\n",
      "       33    0.000    0.000    0.000    0.000 iostream.py:293(closed)\n",
      "        2    0.000    0.000    0.000    0.000 iostream.py:297(_schedule_flush)\n",
      "        2    0.000    0.000    0.000    0.000 iostream.py:342(write)\n",
      "        3    0.000    0.000    0.000    0.000 iostream.py:87(_event_pipe)\n",
      "     1701    0.001    0.000    0.001    0.000 metadata.py:378(__get__)\n",
      "     1632    0.004    0.000    0.036    0.000 metadata.py:385(__set__)\n",
      "     1598    0.001    0.000    0.001    0.000 np_utils.py:163(fix_column_name)\n",
      "       33    0.000    0.000    0.000    0.000 os.py:720(__getitem__)\n",
      "       33    0.000    0.000    0.000    0.000 os.py:796(encode)\n",
      "      112    0.000    0.000    0.000    0.000 parse.py:101(_coerce_args)\n",
      "       11    0.000    0.000    0.000    0.000 parse.py:248(geturl)\n",
      "       24    0.000    0.000    0.000    0.000 parse.py:289(urlparse)\n",
      "       38    0.000    0.000    0.000    0.000 parse.py:322(urlsplit)\n",
      "       12    0.000    0.000    0.000    0.000 parse.py:378(urlunparse)\n",
      "       26    0.000    0.000    0.000    0.000 parse.py:389(urlunsplit)\n",
      "       12    0.000    0.000    0.000    0.000 parse.py:408(urljoin)\n",
      "        3    0.000    0.000    0.000    0.000 parse.py:528(unquote)\n",
      "      112    0.000    0.000    0.000    0.000 parse.py:90(_noop)\n",
      "        1    0.000    0.000    0.000    0.000 posixpath.py:136(basename)\n",
      "        1    0.000    0.000    0.000    0.000 posixpath.py:39(_get_sep)\n",
      "     1584    0.001    0.000    0.006    0.000 pprint.py:147(_get_pprint_size)\n",
      "     1551    0.020    0.000    0.118    0.000 pprint.py:200(_pformat_col)\n",
      "     1551    0.001    0.000    0.002    0.000 pprint.py:21(default_format_func)\n",
      "     6204    0.002    0.000    0.002    0.000 pprint.py:253(<genexpr>)\n",
      "     6204    0.002    0.000    0.002    0.000 pprint.py:277(<genexpr>)\n",
      "     6204    0.026    0.000    0.076    0.000 pprint.py:322(_pformat_col_iter)\n",
      "       33    0.004    0.000    0.140    0.004 pprint.py:460(_pformat_table)\n",
      "     1584    0.003    0.000    0.010    0.000 pprint.py:519(<genexpr>)\n",
      "     1551    0.001    0.000    0.001    0.000 pprint.py:53(get_auto_format_func)\n",
      "     1584    0.000    0.000    0.001    0.000 pprint.py:550(<genexpr>)\n",
      "       33    0.000    0.000    0.001    0.000 pprint.py:550(<lambda>)\n",
      "     4752    0.001    0.000    0.001    0.000 pprint.py:595(<genexpr>)\n",
      "     1551    0.001    0.000    0.003    0.000 pprint.py:75(_auto_format_func)\n",
      "       33    0.000    0.000    0.000    0.000 process.py:137(name)\n",
      "       33    0.000    0.000    0.000    0.000 process.py:35(current_process)\n",
      "       10    0.000    0.000    0.000    0.000 re.py:160(match)\n",
      "        1    0.000    0.000    0.000    0.000 re.py:170(search)\n",
      "     1551    0.001    0.000    0.002    0.000 re.py:222(compile)\n",
      "       17    0.000    0.000    0.000    0.000 re.py:240(escape)\n",
      "     1562    0.001    0.000    0.001    0.000 re.py:278(_compile)\n",
      "        1    0.000    0.000    0.351    0.351 registry.py:120(match)\n",
      "        1    0.000    0.000    0.003    0.003 registry.py:273(finalize)\n",
      "        1    0.000    0.000    0.000    0.000 row.py:149(meta)\n",
      "       33    0.001    0.000    0.359    0.011 row.py:185(__unicode__)\n",
      "        2    0.000    0.000    0.000    0.000 row.py:35(__init__)\n",
      "       41    0.000    0.000    0.000    0.000 row.py:44(__getitem__)\n",
      "       33    0.000    0.000    0.000    0.000 row.py:84(table)\n",
      "       67    0.000    0.000    0.000    0.000 row.py:88(index)\n",
      "        1    0.000    0.000    0.058    0.058 rules_level3.py:103(__init__)\n",
      "        1    0.000    0.000    0.023    0.023 rules_level3.py:133(__init__)\n",
      "        1    0.000    0.000    0.012    0.012 rules_level3.py:163(__init__)\n",
      "        1    0.000    0.000    0.038    0.038 rules_level3.py:199(__init__)\n",
      "        1    0.000    0.000    0.049    0.049 rules_level3.py:237(__init__)\n",
      "        1    0.000    0.000    0.039    0.039 rules_level3.py:267(__init__)\n",
      "        1    0.000    0.000    0.033    0.033 rules_level3.py:309(__init__)\n",
      "        1    0.000    0.000    0.083    0.083 rules_level3.py:39(__init__)\n",
      "        1    0.000    0.000    0.016    0.016 rules_level3.py:64(__init__)\n",
      "        1    0.000    0.000    0.000    0.000 rules_level3_base.py:107(<lambda>)\n",
      "        1    0.000    0.000    0.000    0.000 rules_level3_base.py:130(current_product)\n",
      "        1    0.000    0.000    0.000    0.000 rules_level3_base.py:150(dms_product_name)\n",
      "        1    0.000    0.000    0.001    0.001 rules_level3_base.py:176(_init_hook)\n",
      "        1    0.000    0.000    0.000    0.000 rules_level3_base.py:189(<listcomp>)\n",
      "        1    0.000    0.000    0.000    0.000 rules_level3_base.py:204(_add)\n",
      "        1    0.000    0.000    0.000    0.000 rules_level3_base.py:230(_get_target)\n",
      "        1    0.000    0.000    0.000    0.000 rules_level3_base.py:245(_get_instrument)\n",
      "        1    0.000    0.000    0.000    0.000 rules_level3_base.py:257(_get_opt_element)\n",
      "        1    0.000    0.000    0.000    0.000 rules_level3_base.py:289(_get_exposure)\n",
      "        1    0.000    0.000    0.000    0.000 rules_level3_base.py:355(__repr__)\n",
      "        1    0.000    0.000    0.000    0.000 rules_level3_base.py:389(resequence)\n",
      "        1    0.000    0.000    0.000    0.000 rules_level3_base.py:392(<lambda>)\n",
      "        1    0.000    0.000    0.000    0.000 rules_level3_base.py:398(rename_to_level2b)\n",
      "        1    0.000    0.000    0.000    0.000 rules_level3_base.py:453(get_exposure_type)\n",
      "        1    0.000    0.000    0.003    0.003 rules_level3_base.py:489(finalize)\n",
      "        9    0.000    0.000    0.350    0.039 rules_level3_base.py:531(__init__)\n",
      "        3    0.000    0.000    0.169    0.056 rules_level3_base.py:551(__init__)\n",
      "        9    0.000    0.000    0.350    0.039 rules_level3_base.py:571(__init__)\n",
      "        3    0.000    0.000    0.120    0.040 rules_level3_base.py:588(__init__)\n",
      "        3    0.000    0.000    0.120    0.040 rules_level3_base.py:605(__init__)\n",
      "        1    0.000    0.000    0.012    0.012 rules_level3_base.py:622(__init__)\n",
      "        2    0.000    0.000    0.099    0.049 rules_level3_base.py:656(__init__)\n",
      "        1    0.000    0.000    0.001    0.001 rules_level3_base.py:668(_init_hook)\n",
      "        9    0.000    0.000    0.350    0.039 rules_level3_base.py:98(__init__)\n",
      "       33    0.000    0.000    0.000    0.000 six.py:577(itervalues)\n",
      "       48    0.000    0.000    0.000    0.000 six.py:580(iteritems)\n",
      "       33    0.000    0.000    0.140    0.004 table.py:1079(pformat)\n",
      "       36    0.000    0.000    0.224    0.006 table.py:1188(__getitem__)\n",
      "     1598    0.002    0.000    0.002    0.000 table.py:123(__setitem__)\n",
      "     1632    0.000    0.000    0.000    0.000 table.py:1342(masked)\n",
      "       34    0.000    0.000    0.000    0.000 table.py:1351(_set_masked)\n",
      "        5    0.000    0.000    0.000    0.000 table.py:1400(__len__)\n",
      "      240    0.000    0.000    0.000    0.000 table.py:1404(<genexpr>)\n",
      "      105    0.001    0.000    0.001    0.000 table.py:150(values)\n",
      "       34    0.000    0.000    0.001    0.000 table.py:251(__init__)\n",
      "       34    0.012    0.000    0.223    0.007 table.py:740(_new_from_slice)\n",
      "       34    0.003    0.000    0.059    0.002 table.py:761(_make_table_from_cols)\n",
      "     1632    0.003    0.000    0.028    0.000 table.py:766(<genexpr>)\n",
      "     1632    0.003    0.000    0.010    0.000 table.py:772(<genexpr>)\n",
      "       68    0.001    0.000    0.013    0.000 table.py:86(__init__)\n",
      "       41    0.000    0.000    0.000    0.000 table.py:99(__getitem__)\n",
      "        3    0.000    0.000    0.000    0.000 threading.py:1060(_wait_for_tstate_lock)\n",
      "       33    0.000    0.000    0.000    0.000 threading.py:1074(name)\n",
      "        3    0.000    0.000    0.000    0.000 threading.py:1102(is_alive)\n",
      "       33    0.000    0.000    0.000    0.000 threading.py:1148(getName)\n",
      "       33    0.000    0.000    0.000    0.000 threading.py:1224(current_thread)\n",
      "        3    0.000    0.000    0.000    0.000 threading.py:504(is_set)\n",
      "       99    0.000    0.000    0.000    0.000 validate.py:594(check)\n",
      "       99    0.000    0.000    0.000    0.000 validate.py:638(_parse_with_caching)\n",
      "   136/14    0.000    0.000    0.002    0.000 validators.py:120(descend)\n",
      "        1    0.000    0.000    0.000    0.000 validators.py:128(validate)\n",
      "      131    0.000    0.000    0.000    0.000 validators.py:132(is_type)\n",
      "        2    0.000    0.000    0.000    0.000 validators.py:271(__init__)\n",
      "        6    0.000    0.000    0.000    0.000 validators.py:292(<genexpr>)\n",
      "        2    0.000    0.000    0.000    0.000 validators.py:301(from_schema)\n",
      "       53    0.000    0.000    0.000    0.000 validators.py:320(push_scope)\n",
      "       53    0.000    0.000    0.000    0.000 validators.py:325(pop_scope)\n",
      "       89    0.000    0.000    0.000    0.000 validators.py:335(resolution_scope)\n",
      "       36    0.000    0.000    0.000    0.000 validators.py:373(resolve)\n",
      "        4    0.000    0.000    0.000    0.000 validators.py:377(resolve_from_url)\n",
      "        4    0.000    0.000    0.000    0.000 validators.py:389(resolve_fragment)\n",
      "        1    0.000    0.000    0.000    0.000 validators.py:481(validator_for)\n",
      "        1    0.000    0.000    0.002    0.002 validators.py:487(validate)\n",
      "        2    0.000    0.000    0.000    0.000 validators.py:67(__init__)\n",
      "        1    0.000    0.000    0.002    0.002 validators.py:80(check_schema)\n",
      "    138/2    0.000    0.000    0.002    0.001 validators.py:85(iter_errors)\n",
      "       38    0.000    0.000    0.000    0.000 {built-in method __new__ of type object at 0x103103f30}\n",
      "        1    0.000    0.000    0.000    0.000 {built-in method _codecs.utf_8_decode}\n",
      "       30    0.000    0.000    0.000    0.000 {built-in method _json.encode_basestring_ascii}\n",
      "        1    0.000    0.000    0.000    0.000 {built-in method _locale.nl_langinfo}\n",
      "       33    0.000    0.000    0.000    0.000 {built-in method _struct.pack}\n",
      "       33    0.000    0.000    0.000    0.000 {built-in method _thread.get_ident}\n",
      "        1    0.000    0.000    0.000    0.000 {built-in method builtins.all}\n",
      "       99    0.000    0.000    0.011    0.000 {built-in method builtins.any}\n",
      "     1598    0.000    0.000    0.000    0.000 {built-in method builtins.callable}\n",
      "       25    0.000    0.000    0.000    0.000 {built-in method builtins.compile}\n",
      "        1    0.000    0.000    0.374    0.374 {built-in method builtins.exec}\n",
      "    60141    0.024    0.000    0.038    0.000 {built-in method builtins.getattr}\n",
      "     3416    0.002    0.000    0.002    0.000 {built-in method builtins.hasattr}\n",
      "    23933    0.002    0.000    0.002    0.000 {built-in method builtins.id}\n",
      "    58730    0.012    0.000    0.015    0.000 {built-in method builtins.isinstance}\n",
      "     4828    0.001    0.000    0.001    0.000 {built-in method builtins.issubclass}\n",
      "       83    0.000    0.000    0.000    0.000 {built-in method builtins.iter}\n",
      "20955/20710    0.002    0.000    0.002    0.000 {built-in method builtins.len}\n",
      "     3102    0.003    0.000    0.007    0.000 {built-in method builtins.max}\n",
      "        2    0.000    0.000    0.000    0.000 {built-in method builtins.next}\n",
      "        1    0.000    0.000    0.000    0.000 {built-in method builtins.print}\n",
      "       16    0.000    0.000    0.000    0.000 {built-in method builtins.repr}\n",
      "     8014    0.005    0.000    0.029    0.000 {built-in method builtins.setattr}\n",
      "       33    0.000    0.000    0.001    0.000 {built-in method builtins.sum}\n",
      "       33    0.000    0.000    0.000    0.000 {built-in method fcntl.ioctl}\n",
      "        1    0.000    0.000    0.000    0.000 {built-in method io.open}\n",
      "     1551    0.002    0.000    0.002    0.000 {built-in method numpy.core.multiarray.arange}\n",
      "        1    0.000    0.000    0.000    0.000 {built-in method numpy.core.multiarray.zeros}\n",
      "        2    0.000    0.000    0.000    0.000 {built-in method posix.getpid}\n",
      "        3    0.000    0.000    0.000    0.000 {built-in method posix.urandom}\n",
      "     3230    0.003    0.000    0.003    0.000 {method '__reduce_ex__' of 'object' objects}\n",
      "        3    0.000    0.000    0.000    0.000 {method 'acquire' of '_thread.lock' objects}\n",
      "        1    0.000    0.000    0.000    0.000 {method 'add' of 'set' objects}\n",
      "     5701    0.001    0.000    0.001    0.000 {method 'append' of 'list' objects}\n",
      "        2    0.000    0.000    0.000    0.000 {method 'appendleft' of 'collections.deque' objects}\n",
      "     1551    0.001    0.000    0.001    0.000 {method 'center' of 'str' objects}\n",
      "       34    0.000    0.000    0.000    0.000 {method 'clear' of 'collections.OrderedDict' objects}\n",
      "        1    0.000    0.000    0.000    0.000 {method 'disable' of '_lsprof.Profiler' objects}\n",
      "       33    0.000    0.000    0.000    0.000 {method 'encode' of 'str' objects}\n",
      "        2    0.000    0.000    0.000    0.000 {method 'end' of '_sre.SRE_Match' objects}\n",
      "        4    0.000    0.000    0.000    0.000 {method 'extend' of 'list' objects}\n",
      "  169/159    0.001    0.000    0.360    0.002 {method 'format' of 'str' objects}\n",
      "    39786    0.006    0.000    0.006    0.000 {method 'get' of 'dict' objects}\n",
      "        3    0.000    0.000    0.000    0.000 {method 'group' of '_sre.SRE_Match' objects}\n",
      "       33    0.000    0.000    0.000    0.000 {method 'isatty' of '_io._IOBase' objects}\n",
      "      141    0.000    0.000    0.000    0.000 {method 'items' of 'dict' objects}\n",
      "      363    0.001    0.000    0.001    0.000 {method 'join' of 'str' objects}\n",
      "        2    0.000    0.000    0.000    0.000 {method 'lower' of 'str' objects}\n",
      "        4    0.000    0.000    0.000    0.000 {method 'lstrip' of 'str' objects}\n",
      "       12    0.000    0.000    0.000    0.000 {method 'match' of '_sre.SRE_Pattern' objects}\n",
      "       53    0.000    0.000    0.000    0.000 {method 'pop' of 'list' objects}\n",
      "        5    0.000    0.000    0.000    0.000 {method 'pop' of 'set' objects}\n",
      "        1    0.000    0.000    0.000    0.000 {method 'read' of '_io.TextIOWrapper' objects}\n",
      "       12    0.000    0.000    0.000    0.000 {method 'replace' of 'str' objects}\n",
      "        1    0.000    0.000    0.000    0.000 {method 'rfind' of 'str' objects}\n",
      "     4653    0.001    0.000    0.001    0.000 {method 'rjust' of 'str' objects}\n",
      "       99    0.000    0.000    0.000    0.000 {method 'rsplit' of 'str' objects}\n",
      "        1    0.000    0.000    0.000    0.000 {method 'search' of '_sre.SRE_Pattern' objects}\n",
      "      301    0.000    0.000    0.000    0.000 {method 'split' of 'str' objects}\n",
      "    37789    0.009    0.000    0.009    0.000 {method 'startswith' of 'str' objects}\n",
      "       34    0.000    0.000    0.000    0.000 {method 'update' of 'collections.OrderedDict' objects}\n",
      "       26    0.000    0.000    0.000    0.000 {method 'update' of 'dict' objects}\n",
      "        2    0.000    0.000    0.000    0.000 {method 'values' of 'dict' objects}\n",
      "\n",
      "\n"
     ]
    }
   ],
   "source": [
    "cProfile.run('asns, orphaned = generate(pool, rules)')"
   ]
  },
  {
   "cell_type": "code",
   "execution_count": null,
   "metadata": {
    "collapsed": false
   },
   "outputs": [],
   "source": [
    "asns"
   ]
  },
  {
   "cell_type": "code",
   "execution_count": null,
   "metadata": {
    "collapsed": false,
    "scrolled": false
   },
   "outputs": [],
   "source": [
    "pdb.run(\"asns, orphaned = generate(pool, rules)\")"
   ]
  },
  {
   "cell_type": "code",
   "execution_count": null,
   "metadata": {
    "collapsed": true
   },
   "outputs": [],
   "source": []
  }
 ],
 "metadata": {
  "kernelspec": {
   "display_name": "Python [conda env:jwstdevpy3]",
   "language": "python",
   "name": "conda-env-jwstdevpy3-py"
  },
  "language_info": {
   "codemirror_mode": {
    "name": "ipython",
    "version": 3
   },
   "file_extension": ".py",
   "mimetype": "text/x-python",
   "name": "python",
   "nbconvert_exporter": "python",
   "pygments_lexer": "ipython3",
   "version": "3.5.3"
  }
 },
 "nbformat": 4,
 "nbformat_minor": 2
}
