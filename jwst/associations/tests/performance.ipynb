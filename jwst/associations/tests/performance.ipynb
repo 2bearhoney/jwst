{
 "cells": [
  {
   "cell_type": "markdown",
   "metadata": {},
   "source": [
    "# Abstract"
   ]
  },
  {
   "cell_type": "markdown",
   "metadata": {},
   "source": [
    "Try out various perfomance checks and issues"
   ]
  },
  {
   "cell_type": "markdown",
   "metadata": {},
   "source": [
    "# Environment"
   ]
  },
  {
   "cell_type": "markdown",
   "metadata": {},
   "source": [
    "# Setup debugging log\n",
    "import logging\n",
    "logger = logging.getLogger('jwst.associations')\n",
    "handler = logging.StreamHandler()\n",
    "logger.addHandler(handler)\n",
    "handler.setLevel(logging.DEBUG)\n",
    "logger.setLevel(logging.DEBUG)"
   ]
  },
  {
   "cell_type": "code",
   "execution_count": 1,
   "metadata": {
    "collapsed": true
   },
   "outputs": [],
   "source": [
    "import cProfile\n",
    "import pdb"
   ]
  },
  {
   "cell_type": "code",
   "execution_count": 2,
   "metadata": {},
   "outputs": [],
   "source": [
    "from jwst.associations.tests.helpers import (\n",
    "    combine_pools,\n",
    "    registry_level3_only\n",
    ")"
   ]
  },
  {
   "cell_type": "code",
   "execution_count": 3,
   "metadata": {
    "collapsed": true
   },
   "outputs": [],
   "source": [
    "from jwst.associations import generate"
   ]
  },
  {
   "cell_type": "markdown",
   "metadata": {},
   "source": [
    "# Library"
   ]
  },
  {
   "cell_type": "markdown",
   "metadata": {},
   "source": [
    "# Main"
   ]
  },
  {
   "cell_type": "markdown",
   "metadata": {},
   "source": [
    "# The most basic"
   ]
  },
  {
   "cell_type": "code",
   "execution_count": 4,
   "metadata": {
    "scrolled": true
   },
   "outputs": [
    {
     "name": "stderr",
     "output_type": "stream",
     "text": [
      "/Users/eisenham/anaconda3/envs/asnopt_py3/lib/python3.5/site-packages/astropy/table/table.py:1301: StringTruncateWarning: truncated right side string(s) longer than 14 character(s) during assignment\n",
      "  col[item] = val\n"
     ]
    }
   ],
   "source": [
    "pool = combine_pools('data/pool_012_image_miri_single_exp.csv')"
   ]
  },
  {
   "cell_type": "code",
   "execution_count": 5,
   "metadata": {},
   "outputs": [],
   "source": [
    "rules = registry_level3_only()"
   ]
  },
  {
   "cell_type": "code",
   "execution_count": 6,
   "metadata": {
    "scrolled": true
   },
   "outputs": [],
   "source": [
    "asns, orphaned = generate(pool, rules)"
   ]
  },
  {
   "cell_type": "code",
   "execution_count": 7,
   "metadata": {
    "scrolled": false
   },
   "outputs": [
    {
     "name": "stdout",
     "output_type": "stream",
     "text": [
      "         391866 function calls (381024 primitive calls) in 0.223 seconds\n",
      "\n",
      "   Ordered by: standard name\n",
      "\n",
      "   ncalls  tottime  percall  cumtime  percall filename:lineno(function)\n",
      "        1    0.000    0.000    0.223    0.223 <string>:1(<module>)\n",
      "       24    0.000    0.000    0.000    0.000 <string>:12(__new__)\n",
      "      123    0.000    0.000    0.000    0.000 __init__.py:1258(debug)\n",
      "      123    0.000    0.000    0.000    0.000 __init__.py:1502(getEffectiveLevel)\n",
      "      123    0.000    0.000    0.000    0.000 __init__.py:1516(isEnabledFor)\n",
      "        1    0.000    0.000    0.000    0.000 __init__.py:182(dumps)\n",
      "        7    0.000    0.000    0.000    0.000 __init__.py:1841(debug)\n",
      "        1    0.000    0.000    0.000    0.000 __init__.py:243(load)\n",
      "        1    0.000    0.000    0.000    0.000 __init__.py:271(loads)\n",
      "        1    0.000    0.000    0.000    0.000 __init__.py:984(__getitem__)\n",
      "        1    0.000    0.000    0.000    0.000 _bootlocale.py:23(getpreferredencoding)\n",
      "       28    0.000    0.000    0.000    0.000 _collections_abc.py:594(get)\n",
      "        2    0.000    0.000    0.000    0.000 _collections_abc.py:613(items)\n",
      "        2    0.000    0.000    0.000    0.000 _collections_abc.py:633(__init__)\n",
      "        6    0.000    0.000    0.000    0.000 _collections_abc.py:677(__iter__)\n",
      "        2    0.000    0.000    0.000    0.000 _collections_abc.py:758(update)\n",
      "        1    0.000    0.000    0.000    0.000 _utils.py:122(types_msg)\n",
      "       11    0.000    0.000    0.000    0.000 _utils.py:15(normalize)\n",
      "       62    0.000    0.000    0.000    0.000 _utils.py:165(ensure_list)\n",
      "        7    0.000    0.000    0.000    0.000 _utils.py:178(unbool)\n",
      "        2    0.000    0.000    0.000    0.000 _utils.py:18(__init__)\n",
      "        3    0.000    0.000    0.000    0.000 _utils.py:191(uniq)\n",
      "       10    0.000    0.000    0.000    0.000 _utils.py:202(<genexpr>)\n",
      "        9    0.000    0.000    0.000    0.000 _utils.py:22(__getitem__)\n",
      "        2    0.000    0.000    0.000    0.000 _utils.py:25(__setitem__)\n",
      "        2    0.000    0.000    0.000    0.000 _utils.py:31(__iter__)\n",
      "       15    0.000    0.000    0.000    0.000 _utils.py:89(find_additional_properties)\n",
      "        4    0.000    0.000    0.000    0.000 _validators.py:133(minItems)\n",
      "        3    0.000    0.000    0.000    0.000 _validators.py:143(uniqueItems)\n",
      "        1    0.000    0.000    0.000    0.000 _validators.py:160(format)\n",
      "       17    0.000    0.000    0.000    0.000 _validators.py:178(dependencies)\n",
      "       16    0.000    0.000    0.000    0.000 _validators.py:200(enum)\n",
      "    36/10    0.000    0.000    0.001    0.000 _validators.py:205(ref)\n",
      "      3/1    0.000    0.000    0.001    0.001 _validators.py:21(additionalProperties)\n",
      "       63    0.000    0.000    0.000    0.000 _validators.py:287(type_draft4)\n",
      "      124    0.000    0.000    0.000    0.000 _validators.py:290(<genexpr>)\n",
      "     20/2    0.000    0.000    0.002    0.001 _validators.py:294(properties_draft4)\n",
      "        3    0.000    0.000    0.000    0.000 _validators.py:309(required_draft4)\n",
      "    19/12    0.000    0.000    0.001    0.000 _validators.py:361(anyOf_draft4)\n",
      "      6/5    0.000    0.000    0.000    0.000 _validators.py:49(items)\n",
      "     1389    0.001    0.000    0.001    0.000 _weakrefset.py:70(__contains__)\n",
      "     1353    0.001    0.000    0.002    0.000 abc.py:178(__instancecheck__)\n",
      "        3    0.000    0.000    0.000    0.000 acid.py:44(__init__)\n",
      "        9    0.000    0.000    0.000    0.000 acid.py:56(__init__)\n",
      "        3    0.000    0.000    0.000    0.000 acid.py:63(acid_from_constraints)\n",
      "        9    0.000    0.000    0.209    0.023 association.py:112(create)\n",
      "        9    0.000    0.000    0.000    0.000 association.py:143(_asn_rule)\n",
      "        9    0.000    0.000    0.000    0.000 association.py:147(asn_rule)\n",
      "        1    0.000    0.000    0.002    0.002 association.py:151(validate)\n",
      "        1    0.000    0.000    0.002    0.002 association.py:298(is_valid)\n",
      "        9    0.000    0.000    0.208    0.023 association.py:307(add)\n",
      "        9    0.000    0.000    0.208    0.023 association.py:337(test_and_set_constraints)\n",
      "       26    0.000    0.000    0.207    0.008 association.py:380(match_member)\n",
      "       48    0.000    0.000    0.000    0.000 association.py:529(add_constraints)\n",
      "        9    0.000    0.000    0.000    0.000 association.py:540(constraints_to_text)\n",
      "        1    0.000    0.000    0.000    0.000 association.py:548(_init_hook)\n",
      "        1    0.000    0.000    0.000    0.000 association.py:592(__len__)\n",
      "        1    0.000    0.000    0.000    0.000 association.py:620(__init__)\n",
      "        9    0.000    0.000    0.000    0.000 association.py:628(meets_conditions)\n",
      "       26    0.000    0.000    0.000    0.000 association.py:665(getattr_from_list)\n",
      "       23    0.000    0.000    0.001    0.000 association.py:710(evaluate)\n",
      "       32    0.000    0.000    0.000    0.000 association.py:731(is_iterable)\n",
      "        9    0.000    0.000    0.000    0.000 association.py:93(__init__)\n",
      "        1    0.000    0.000    0.000    0.000 association_io.py:63(dump)\n",
      "       23    0.000    0.000    0.000    0.000 ast.py:30(parse)\n",
      "       26    0.000    0.000    0.001    0.000 ast.py:38(literal_eval)\n",
      "    29/26    0.000    0.000    0.000    0.000 ast.py:49(_convert)\n",
      "        1    0.000    0.000    0.002    0.002 callback_registry.py:18(filter)\n",
      "        1    0.000    0.000    0.000    0.000 codecs.py:259(__init__)\n",
      "        1    0.000    0.000    0.000    0.000 codecs.py:308(__init__)\n",
      "        1    0.000    0.000    0.000    0.000 codecs.py:318(decode)\n",
      "     1316    0.000    0.000    0.000    0.000 column.py:173(parent_table)\n",
      "     2632    0.002    0.000    0.004    0.000 column.py:180(parent_table)\n",
      "     1316    0.003    0.000    0.073    0.000 column.py:280(__array_finalize__)\n",
      "     5217    0.001    0.000    0.001    0.000 column.py:324(name)\n",
      "     1316    0.002    0.000    0.004    0.000 column.py:331(name)\n",
      "     2585    0.000    0.000    0.000    0.000 column.py:502(unit)\n",
      "     1316    0.001    0.000    0.002    0.000 column.py:513(unit)\n",
      "     1316    0.005    0.000    0.064    0.000 column.py:632(_copy_attrs)\n",
      "17108/10528    0.018    0.000    0.046    0.000 column.py:721(__setattr__)\n",
      "       14    0.000    0.000    0.000    0.000 compat.py:39(urlsplit)\n",
      "        4    0.000    0.000    0.000    0.000 compat.py:46(urldefrag)\n",
      "      162    0.000    0.000    0.000    0.000 configobj.py:554(__getitem__)\n",
      "       81    0.000    0.000    0.002    0.000 configuration.py:275(__get__)\n",
      "       81    0.001    0.000    0.002    0.000 configuration.py:380(__call__)\n",
      "       81    0.000    0.000    0.000    0.000 configuration.py:447(_validate_val)\n",
      "      162    0.000    0.000    0.001    0.000 configuration.py:481(get_config)\n",
      "       27    0.000    0.000    0.000    0.000 console.py:106(_get_stdout)\n",
      "       27    0.000    0.000    0.000    0.000 console.py:137(isatty)\n",
      "       27    0.000    0.000    0.002    0.000 console.py:178(terminal_size)\n",
      "6304/2678    0.011    0.000    0.034    0.000 copy.py:137(deepcopy)\n",
      "      828    0.000    0.000    0.000    0.000 copy.py:192(_deepcopy_atomic)\n",
      "       83    0.000    0.000    0.001    0.000 copy.py:214(_deepcopy_list)\n",
      "     2660    0.005    0.000    0.005    0.000 copy.py:222(_deepcopy_tuple)\n",
      "     2660    0.000    0.000    0.000    0.000 copy.py:223(<listcomp>)\n",
      "    73/18    0.000    0.000    0.001    0.000 copy.py:239(_deepcopy_dict)\n",
      "     2816    0.002    0.000    0.003    0.000 copy.py:253(_keep_alive)\n",
      "     2660    0.007    0.000    0.018    0.000 copy.py:269(_reconstruct)\n",
      "        2    0.000    0.000    0.000    0.000 counter.py:11(__next__)\n",
      "       10    0.000    0.000    0.000    0.000 counter.py:3(__init__)\n",
      "     1316    0.004    0.000    0.008    0.000 data_info.py:191(__init__)\n",
      "    11844    0.001    0.000    0.001    0.000 data_info.py:195(<genexpr>)\n",
      "    15510    0.013    0.000    0.049    0.000 data_info.py:197(__get__)\n",
      "    11562    0.012    0.000    0.017    0.000 data_info.py:228(__getattr__)\n",
      "    20774    0.025    0.000    0.041    0.000 data_info.py:250(__setattr__)\n",
      "        1    0.000    0.000    0.000    0.000 decoder.py:334(decode)\n",
      "        1    0.000    0.000    0.000    0.000 decoder.py:345(raw_decode)\n",
      "        1    0.000    0.000    0.000    0.000 dms_base.py:100(new_product)\n",
      "        1    0.000    0.000    0.000    0.000 dms_base.py:111(update_validity)\n",
      "        1    0.000    0.000    0.002    0.002 dms_base.py:116(validate)\n",
      "        2    0.000    0.000    0.000    0.000 dms_base.py:124(<genexpr>)\n",
      "        9    0.000    0.000    0.209    0.023 dms_base.py:25(create)\n",
      "        3    0.000    0.000    0.000    0.000 dms_base.py:52(acid)\n",
      "        1    0.000    0.000    0.000    0.000 dms_base.py:57(asn_name)\n",
      "       11    0.000    0.000    0.000    0.000 dms_base.py:81(validity)\n",
      "        1    0.000    0.000    0.000    0.000 encoder.py:104(__init__)\n",
      "        1    0.000    0.000    0.000    0.000 encoder.py:181(encode)\n",
      "        1    0.000    0.000    0.000    0.000 encoder.py:203(iterencode)\n",
      "        1    0.000    0.000    0.000    0.000 encoder.py:258(_make_iterencode)\n",
      "    59/36    0.000    0.000    0.000    0.000 encoder.py:276(_iterencode_list)\n",
      "   135/82    0.000    0.000    0.000    0.000 encoder.py:332(_iterencode_dict)\n",
      "       82    0.000    0.000    0.000    0.000 encoder.py:411(_iterencode)\n",
      "        1    0.000    0.000    0.000    0.000 exceptions.py:114(_set)\n",
      "        1    0.000    0.000    0.000    0.000 exceptions.py:12(__init__)\n",
      "        1    0.000    0.000    0.000    0.000 exceptions.py:17(__init__)\n",
      "        4    0.000    0.000    0.000    0.000 functools.py:391(lru_cache)\n",
      "        4    0.000    0.000    0.000    0.000 functools.py:422(decorating_function)\n",
      "        4    0.000    0.000    0.000    0.000 functools.py:43(update_wrapper)\n",
      "        1    0.000    0.000    0.000    0.000 generate.py:128(<listcomp>)\n",
      "        1    0.000    0.000    0.000    0.000 generate.py:137(<listcomp>)\n",
      "        1    0.000    0.000    0.223    0.223 generate.py:15(generate)\n",
      "        1    0.000    0.000    0.000    0.000 generate.py:152(match_member)\n",
      "        1    0.000    0.000    0.000    0.000 generate.py:55(<listcomp>)\n",
      "        1    0.000    0.000    0.209    0.209 generate.py:83(generate_from_member)\n",
      "       27    0.000    0.000    0.000    0.000 iostream.py:293(closed)\n",
      "     1401    0.001    0.000    0.001    0.000 metadata.py:378(__get__)\n",
      "     1344    0.002    0.000    0.022    0.000 metadata.py:385(__set__)\n",
      "     1316    0.001    0.000    0.001    0.000 np_utils.py:163(fix_column_name)\n",
      "       27    0.000    0.000    0.000    0.000 os.py:720(__getitem__)\n",
      "       27    0.000    0.000    0.000    0.000 os.py:796(encode)\n",
      "      112    0.000    0.000    0.000    0.000 parse.py:101(_coerce_args)\n",
      "       11    0.000    0.000    0.000    0.000 parse.py:248(geturl)\n",
      "       24    0.000    0.000    0.000    0.000 parse.py:289(urlparse)\n",
      "       38    0.000    0.000    0.000    0.000 parse.py:322(urlsplit)\n",
      "       12    0.000    0.000    0.000    0.000 parse.py:378(urlunparse)\n",
      "       26    0.000    0.000    0.000    0.000 parse.py:389(urlunsplit)\n",
      "       12    0.000    0.000    0.000    0.000 parse.py:408(urljoin)\n",
      "        3    0.000    0.000    0.000    0.000 parse.py:528(unquote)\n",
      "      112    0.000    0.000    0.000    0.000 parse.py:90(_noop)\n",
      "        1    0.000    0.000    0.000    0.000 posixpath.py:136(basename)\n",
      "        1    0.000    0.000    0.000    0.000 posixpath.py:39(_get_sep)\n",
      "     1296    0.001    0.000    0.004    0.000 pprint.py:147(_get_pprint_size)\n",
      "     1269    0.011    0.000    0.067    0.000 pprint.py:200(_pformat_col)\n",
      "     1269    0.001    0.000    0.001    0.000 pprint.py:21(default_format_func)\n",
      "     5076    0.001    0.000    0.001    0.000 pprint.py:253(<genexpr>)\n",
      "     5076    0.001    0.000    0.001    0.000 pprint.py:277(<genexpr>)\n",
      "     5076    0.014    0.000    0.044    0.000 pprint.py:322(_pformat_col_iter)\n",
      "       27    0.002    0.000    0.081    0.003 pprint.py:460(_pformat_table)\n",
      "     1296    0.001    0.000    0.006    0.000 pprint.py:519(<genexpr>)\n",
      "     1269    0.000    0.000    0.000    0.000 pprint.py:53(get_auto_format_func)\n",
      "     1296    0.000    0.000    0.000    0.000 pprint.py:550(<genexpr>)\n",
      "       27    0.000    0.000    0.001    0.000 pprint.py:550(<lambda>)\n",
      "     3888    0.000    0.000    0.000    0.000 pprint.py:595(<genexpr>)\n",
      "     1269    0.001    0.000    0.002    0.000 pprint.py:75(_auto_format_func)\n",
      "       27    0.000    0.000    0.000    0.000 process.py:137(name)\n",
      "       27    0.000    0.000    0.000    0.000 process.py:35(current_process)\n",
      "       10    0.000    0.000    0.000    0.000 re.py:160(match)\n",
      "        1    0.000    0.000    0.000    0.000 re.py:170(search)\n",
      "     1269    0.000    0.000    0.001    0.000 re.py:222(compile)\n",
      "       16    0.000    0.000    0.000    0.000 re.py:240(escape)\n",
      "     1280    0.001    0.000    0.001    0.000 re.py:278(_compile)\n",
      "        1    0.000    0.000    0.209    0.209 registry.py:120(match)\n",
      "        1    0.000    0.000    0.002    0.002 registry.py:270(finalize)\n",
      "        1    0.000    0.000    0.000    0.000 row.py:149(meta)\n",
      "       27    0.000    0.000    0.213    0.008 row.py:185(__unicode__)\n",
      "        2    0.000    0.000    0.000    0.000 row.py:35(__init__)\n",
      "       33    0.000    0.000    0.000    0.000 row.py:44(__getitem__)\n",
      "       27    0.000    0.000    0.000    0.000 row.py:84(table)\n",
      "       55    0.000    0.000    0.000    0.000 row.py:88(index)\n",
      "        1    0.000    0.000    0.000    0.000 rules_level3.py:103(__init__)\n",
      "        1    0.000    0.000    0.000    0.000 rules_level3.py:133(__init__)\n",
      "        1    0.000    0.000    0.000    0.000 rules_level3.py:163(__init__)\n",
      "        1    0.000    0.000    0.000    0.000 rules_level3.py:199(__init__)\n",
      "        1    0.000    0.000    0.000    0.000 rules_level3.py:237(__init__)\n",
      "        1    0.000    0.000    0.000    0.000 rules_level3.py:267(__init__)\n",
      "        1    0.000    0.000    0.000    0.000 rules_level3.py:309(__init__)\n",
      "        1    0.000    0.000    0.000    0.000 rules_level3.py:39(__init__)\n",
      "        1    0.000    0.000    0.000    0.000 rules_level3.py:64(__init__)\n",
      "        1    0.000    0.000    0.000    0.000 rules_level3_base.py:107(<lambda>)\n",
      "        1    0.000    0.000    0.000    0.000 rules_level3_base.py:130(current_product)\n",
      "        1    0.000    0.000    0.000    0.000 rules_level3_base.py:150(dms_product_name)\n",
      "        1    0.000    0.000    0.000    0.000 rules_level3_base.py:176(_init_hook)\n",
      "        1    0.000    0.000    0.000    0.000 rules_level3_base.py:189(<listcomp>)\n",
      "        1    0.000    0.000    0.000    0.000 rules_level3_base.py:204(_add)\n",
      "        1    0.000    0.000    0.000    0.000 rules_level3_base.py:230(_get_target)\n",
      "        1    0.000    0.000    0.000    0.000 rules_level3_base.py:245(_get_instrument)\n",
      "        1    0.000    0.000    0.000    0.000 rules_level3_base.py:257(_get_opt_element)\n",
      "        1    0.000    0.000    0.000    0.000 rules_level3_base.py:289(_get_exposure)\n",
      "        1    0.000    0.000    0.000    0.000 rules_level3_base.py:356(__repr__)\n",
      "        1    0.000    0.000    0.000    0.000 rules_level3_base.py:390(resequence)\n",
      "        1    0.000    0.000    0.000    0.000 rules_level3_base.py:393(<lambda>)\n",
      "        1    0.000    0.000    0.000    0.000 rules_level3_base.py:399(rename_to_level2b)\n",
      "        1    0.000    0.000    0.000    0.000 rules_level3_base.py:454(get_exposure_type)\n",
      "        1    0.000    0.000    0.002    0.002 rules_level3_base.py:490(finalize)\n",
      "        9    0.000    0.000    0.000    0.000 rules_level3_base.py:532(__init__)\n",
      "        3    0.000    0.000    0.000    0.000 rules_level3_base.py:552(__init__)\n",
      "        9    0.000    0.000    0.000    0.000 rules_level3_base.py:572(__init__)\n",
      "        3    0.000    0.000    0.000    0.000 rules_level3_base.py:589(__init__)\n",
      "        3    0.000    0.000    0.000    0.000 rules_level3_base.py:606(__init__)\n",
      "        1    0.000    0.000    0.000    0.000 rules_level3_base.py:623(__init__)\n",
      "        2    0.000    0.000    0.000    0.000 rules_level3_base.py:657(__init__)\n",
      "        1    0.000    0.000    0.000    0.000 rules_level3_base.py:669(_init_hook)\n",
      "        9    0.000    0.000    0.000    0.000 rules_level3_base.py:98(__init__)\n",
      "       27    0.000    0.000    0.000    0.000 six.py:577(itervalues)\n",
      "       48    0.000    0.000    0.000    0.000 six.py:580(iteritems)\n",
      "       27    0.000    0.000    0.081    0.003 table.py:1079(pformat)\n",
      "       30    0.000    0.000    0.136    0.005 table.py:1188(__getitem__)\n",
      "     1316    0.001    0.000    0.001    0.000 table.py:123(__setitem__)\n",
      "     1344    0.000    0.000    0.000    0.000 table.py:1342(masked)\n",
      "       28    0.000    0.000    0.000    0.000 table.py:1351(_set_masked)\n",
      "        4    0.000    0.000    0.000    0.000 table.py:1400(__len__)\n",
      "      192    0.000    0.000    0.000    0.000 table.py:1404(<genexpr>)\n",
      "       86    0.000    0.000    0.000    0.000 table.py:150(values)\n",
      "       28    0.000    0.000    0.001    0.000 table.py:251(__init__)\n",
      "       28    0.006    0.000    0.135    0.005 table.py:740(_new_from_slice)\n",
      "       28    0.002    0.000    0.036    0.001 table.py:761(_make_table_from_cols)\n",
      "     1344    0.002    0.000    0.016    0.000 table.py:766(<genexpr>)\n",
      "     1344    0.002    0.000    0.006    0.000 table.py:772(<genexpr>)\n",
      "       56    0.001    0.000    0.009    0.000 table.py:86(__init__)\n",
      "       33    0.000    0.000    0.000    0.000 table.py:99(__getitem__)\n",
      "       27    0.000    0.000    0.000    0.000 threading.py:1074(name)\n",
      "       27    0.000    0.000    0.000    0.000 threading.py:1148(getName)\n",
      "       27    0.000    0.000    0.000    0.000 threading.py:1224(current_thread)\n",
      "       81    0.000    0.000    0.000    0.000 validate.py:594(check)\n",
      "       81    0.000    0.000    0.000    0.000 validate.py:638(_parse_with_caching)\n",
      "   132/14    0.000    0.000    0.002    0.000 validators.py:120(descend)\n",
      "        1    0.000    0.000    0.000    0.000 validators.py:128(validate)\n",
      "      127    0.000    0.000    0.000    0.000 validators.py:132(is_type)\n",
      "        2    0.000    0.000    0.000    0.000 validators.py:271(__init__)\n",
      "        6    0.000    0.000    0.000    0.000 validators.py:292(<genexpr>)\n",
      "        2    0.000    0.000    0.000    0.000 validators.py:301(from_schema)\n",
      "       53    0.000    0.000    0.000    0.000 validators.py:320(push_scope)\n",
      "       53    0.000    0.000    0.000    0.000 validators.py:325(pop_scope)\n",
      "       89    0.000    0.000    0.000    0.000 validators.py:335(resolution_scope)\n",
      "       36    0.000    0.000    0.000    0.000 validators.py:373(resolve)\n",
      "        4    0.000    0.000    0.000    0.000 validators.py:377(resolve_from_url)\n",
      "        4    0.000    0.000    0.000    0.000 validators.py:389(resolve_fragment)\n",
      "        1    0.000    0.000    0.000    0.000 validators.py:481(validator_for)\n",
      "        1    0.000    0.000    0.002    0.002 validators.py:487(validate)\n",
      "        2    0.000    0.000    0.000    0.000 validators.py:67(__init__)\n",
      "        1    0.000    0.000    0.002    0.002 validators.py:80(check_schema)\n",
      "    134/2    0.000    0.000    0.002    0.001 validators.py:85(iter_errors)\n",
      "       38    0.000    0.000    0.000    0.000 {built-in method __new__ of type object at 0x1061cff30}\n",
      "        1    0.000    0.000    0.000    0.000 {built-in method _codecs.utf_8_decode}\n",
      "       30    0.000    0.000    0.000    0.000 {built-in method _json.encode_basestring_ascii}\n",
      "        1    0.000    0.000    0.000    0.000 {built-in method _locale.nl_langinfo}\n",
      "       27    0.000    0.000    0.000    0.000 {built-in method _struct.pack}\n",
      "       27    0.000    0.000    0.000    0.000 {built-in method _thread.get_ident}\n",
      "        1    0.000    0.000    0.000    0.000 {built-in method builtins.all}\n",
      "       89    0.000    0.000    0.007    0.000 {built-in method builtins.any}\n",
      "     1316    0.000    0.000    0.000    0.000 {built-in method builtins.callable}\n",
      "       23    0.000    0.000    0.000    0.000 {built-in method builtins.compile}\n",
      "        1    0.000    0.000    0.223    0.223 {built-in method builtins.exec}\n",
      "    49407    0.014    0.000    0.023    0.000 {built-in method builtins.getattr}\n",
      "     2814    0.001    0.000    0.001    0.000 {built-in method builtins.hasattr}\n",
      "    19817    0.002    0.000    0.002    0.000 {built-in method builtins.id}\n",
      "    48442    0.007    0.000    0.009    0.000 {built-in method builtins.isinstance}\n",
      "     3976    0.001    0.000    0.001    0.000 {built-in method builtins.issubclass}\n",
      "       77    0.000    0.000    0.000    0.000 {built-in method builtins.iter}\n",
      "17171/16975    0.001    0.000    0.001    0.000 {built-in method builtins.len}\n",
      "     2538    0.002    0.000    0.005    0.000 {built-in method builtins.max}\n",
      "        2    0.000    0.000    0.000    0.000 {built-in method builtins.next}\n",
      "       16    0.000    0.000    0.000    0.000 {built-in method builtins.repr}\n",
      "     6604    0.003    0.000    0.019    0.000 {built-in method builtins.setattr}\n",
      "       27    0.000    0.000    0.001    0.000 {built-in method builtins.sum}\n",
      "       27    0.000    0.000    0.000    0.000 {built-in method fcntl.ioctl}\n",
      "        1    0.000    0.000    0.000    0.000 {built-in method io.open}\n",
      "     1269    0.001    0.000    0.001    0.000 {built-in method numpy.core.multiarray.arange}\n",
      "        1    0.000    0.000    0.000    0.000 {built-in method numpy.core.multiarray.zeros}\n",
      "     2660    0.002    0.000    0.002    0.000 {method '__reduce_ex__' of 'object' objects}\n",
      "        1    0.000    0.000    0.000    0.000 {method 'add' of 'set' objects}\n",
      "     4717    0.001    0.000    0.001    0.000 {method 'append' of 'list' objects}\n",
      "        2    0.000    0.000    0.000    0.000 {method 'appendleft' of 'collections.deque' objects}\n",
      "     1269    0.000    0.000    0.000    0.000 {method 'center' of 'str' objects}\n",
      "       28    0.000    0.000    0.000    0.000 {method 'clear' of 'collections.OrderedDict' objects}\n",
      "        1    0.000    0.000    0.000    0.000 {method 'disable' of '_lsprof.Profiler' objects}\n",
      "       27    0.000    0.000    0.000    0.000 {method 'encode' of 'str' objects}\n",
      "        2    0.000    0.000    0.000    0.000 {method 'end' of '_sre.SRE_Match' objects}\n",
      "       39    0.000    0.000    0.000    0.000 {method 'extend' of 'list' objects}\n",
      "  135/133    0.000    0.000    0.213    0.002 {method 'format' of 'str' objects}\n",
      "    32964    0.004    0.000    0.004    0.000 {method 'get' of 'dict' objects}\n",
      "        3    0.000    0.000    0.000    0.000 {method 'group' of '_sre.SRE_Match' objects}\n",
      "       27    0.000    0.000    0.000    0.000 {method 'isatty' of '_io._IOBase' objects}\n",
      "      141    0.000    0.000    0.000    0.000 {method 'items' of 'dict' objects}\n",
      "      302    0.001    0.000    0.001    0.000 {method 'join' of 'str' objects}\n",
      "        2    0.000    0.000    0.000    0.000 {method 'lower' of 'str' objects}\n",
      "        4    0.000    0.000    0.000    0.000 {method 'lstrip' of 'str' objects}\n",
      "       12    0.000    0.000    0.000    0.000 {method 'match' of '_sre.SRE_Pattern' objects}\n",
      "       53    0.000    0.000    0.000    0.000 {method 'pop' of 'list' objects}\n",
      "        4    0.000    0.000    0.000    0.000 {method 'pop' of 'set' objects}\n",
      "        1    0.000    0.000    0.000    0.000 {method 'read' of '_io.TextIOWrapper' objects}\n",
      "       12    0.000    0.000    0.000    0.000 {method 'replace' of 'str' objects}\n",
      "        1    0.000    0.000    0.000    0.000 {method 'rfind' of 'str' objects}\n",
      "     3807    0.001    0.000    0.001    0.000 {method 'rjust' of 'str' objects}\n",
      "       81    0.000    0.000    0.000    0.000 {method 'rsplit' of 'str' objects}\n",
      "        1    0.000    0.000    0.000    0.000 {method 'search' of '_sre.SRE_Pattern' objects}\n",
      "      247    0.000    0.000    0.000    0.000 {method 'split' of 'str' objects}\n",
      "    31021    0.006    0.000    0.006    0.000 {method 'startswith' of 'str' objects}\n",
      "       28    0.000    0.000    0.000    0.000 {method 'update' of 'collections.OrderedDict' objects}\n",
      "       26    0.000    0.000    0.000    0.000 {method 'update' of 'dict' objects}\n",
      "        2    0.000    0.000    0.000    0.000 {method 'values' of 'dict' objects}\n",
      "\n",
      "\n"
     ]
    }
   ],
   "source": [
    "cProfile.run('asns, orphaned = generate(pool, rules)')"
   ]
  },
  {
   "cell_type": "code",
   "execution_count": 8,
   "metadata": {},
   "outputs": [
    {
     "data": {
      "text/plain": [
       "[{\n",
       "     \"asn_type\": \"image3\",\n",
       "     \"asn_rule\": \"Asn_Image\",\n",
       "     \"constraints\": \"Constraints:\\n    opt_elem: F560W\\n    target: 1\\n    exp_type: MIR_IMAGE\\n    opt_elem2: None\\n    wfsvisit: Is Invalid\\n    program: 99009\\n    instrument: MIRI\",\n",
       "     \"asn_id\": \"a3001\",\n",
       "     \"version_id\": null,\n",
       "     \"asn_pool\": \"pool_012_image_miri_single_exp\",\n",
       "     \"products\": [\n",
       "         {\n",
       "             \"name\": \"jw99009-a3001_t001_miri_f560w\",\n",
       "             \"members\": [\n",
       "                 {\n",
       "                     \"exptype\": \"SCIENCE\",\n",
       "                     \"expname\": \"jw_00001_cal.fits\",\n",
       "                     \"exposerr\": null,\n",
       "                     \"asn_candidate\": \"[('o001', 'OBSERVATION')]\"\n",
       "                 }\n",
       "             ]\n",
       "         }\n",
       "     ],\n",
       "     \"target\": \"1\",\n",
       "     \"program\": \"99009\",\n",
       "     \"degraded_status\": \"No known degraded exposures in association.\",\n",
       "     \"code_version\": \"0.7.1.beta2\"\n",
       " }]"
      ]
     },
     "execution_count": 8,
     "metadata": {},
     "output_type": "execute_result"
    }
   ],
   "source": [
    "asns"
   ]
  },
  {
   "cell_type": "code",
   "execution_count": null,
   "metadata": {
    "scrolled": false
   },
   "outputs": [],
   "source": [
    "pdb.run(\"asns, orphaned = generate(pool, rules)\")"
   ]
  },
  {
   "cell_type": "code",
   "execution_count": null,
   "metadata": {
    "collapsed": true
   },
   "outputs": [],
   "source": []
  }
 ],
 "metadata": {
  "kernelspec": {
   "display_name": "Python 3",
   "language": "python",
   "name": "python3"
  },
  "language_info": {
   "codemirror_mode": {
    "name": "ipython",
    "version": 3
   },
   "file_extension": ".py",
   "mimetype": "text/x-python",
   "name": "python",
   "nbconvert_exporter": "python",
   "pygments_lexer": "ipython3",
   "version": "3.5.3"
  }
 },
 "nbformat": 4,
 "nbformat_minor": 2
}
